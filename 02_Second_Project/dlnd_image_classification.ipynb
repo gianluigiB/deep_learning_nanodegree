{
 "cells": [
  {
   "cell_type": "markdown",
   "metadata": {
    "collapsed": true
   },
   "source": [
    "# Image Classification\n",
    "In this project, you'll classify images from the [CIFAR-10 dataset](https://www.cs.toronto.edu/~kriz/cifar.html).  The dataset consists of airplanes, dogs, cats, and other objects. You'll preprocess the images, then train a convolutional neural network on all the samples. The images need to be normalized and the labels need to be one-hot encoded.  You'll get to apply what you learned and build a convolutional, max pooling, dropout, and fully connected layers.  At the end, you'll get to see your neural network's predictions on the sample images.\n",
    "## Get the Data\n",
    "Run the following cell to download the [CIFAR-10 dataset for python](https://www.cs.toronto.edu/~kriz/cifar-10-python.tar.gz)."
   ]
  },
  {
   "cell_type": "code",
   "execution_count": 1,
   "metadata": {},
   "outputs": [
    {
     "name": "stdout",
     "output_type": "stream",
     "text": [
      "All files found!\n"
     ]
    }
   ],
   "source": [
    "\"\"\"\n",
    "DON'T MODIFY ANYTHING IN THIS CELL THAT IS BELOW THIS LINE\n",
    "\"\"\"\n",
    "from urllib.request import urlretrieve\n",
    "from os.path import isfile, isdir\n",
    "from tqdm import tqdm\n",
    "import problem_unittests as tests\n",
    "import tarfile\n",
    "\n",
    "cifar10_dataset_folder_path = 'cifar-10-batches-py'\n",
    "\n",
    "# Use Floyd's cifar-10 dataset if present\n",
    "floyd_cifar10_location = '/input/cifar-10/python.tar.gz'\n",
    "if isfile(floyd_cifar10_location):\n",
    "    tar_gz_path = floyd_cifar10_location\n",
    "else:\n",
    "    tar_gz_path = 'cifar-10-python.tar.gz'\n",
    "\n",
    "class DLProgress(tqdm):\n",
    "    last_block = 0\n",
    "\n",
    "    def hook(self, block_num=1, block_size=1, total_size=None):\n",
    "        self.total = total_size\n",
    "        self.update((block_num - self.last_block) * block_size)\n",
    "        self.last_block = block_num\n",
    "\n",
    "if not isfile(tar_gz_path):\n",
    "    with DLProgress(unit='B', unit_scale=True, miniters=1, desc='CIFAR-10 Dataset') as pbar:\n",
    "        urlretrieve(\n",
    "            'https://www.cs.toronto.edu/~kriz/cifar-10-python.tar.gz',\n",
    "            tar_gz_path,\n",
    "            pbar.hook)\n",
    "\n",
    "if not isdir(cifar10_dataset_folder_path):\n",
    "    with tarfile.open(tar_gz_path) as tar:\n",
    "        tar.extractall()\n",
    "        tar.close()\n",
    "\n",
    "\n",
    "tests.test_folder_path(cifar10_dataset_folder_path)"
   ]
  },
  {
   "cell_type": "markdown",
   "metadata": {},
   "source": [
    "## Explore the Data\n",
    "The dataset is broken into batches to prevent your machine from running out of memory.  The CIFAR-10 dataset consists of 5 batches, named `data_batch_1`, `data_batch_2`, etc.. Each batch contains the labels and images that are one of the following:\n",
    "* airplane\n",
    "* automobile\n",
    "* bird\n",
    "* cat\n",
    "* deer\n",
    "* dog\n",
    "* frog\n",
    "* horse\n",
    "* ship\n",
    "* truck\n",
    "\n",
    "Understanding a dataset is part of making predictions on the data.  Play around with the code cell below by changing the `batch_id` and `sample_id`. The `batch_id` is the id for a batch (1-5). The `sample_id` is the id for a image and label pair in the batch.\n",
    "\n",
    "Ask yourself \"What are all possible labels?\", \"What is the range of values for the image data?\", \"Are the labels in order or random?\".  Answers to questions like these will help you preprocess the data and end up with better predictions."
   ]
  },
  {
   "cell_type": "code",
   "execution_count": 3,
   "metadata": {},
   "outputs": [
    {
     "name": "stdout",
     "output_type": "stream",
     "text": [
      "\n",
      "Stats of batch 2:\n",
      "Samples: 10000\n",
      "Label Counts: {0: 984, 1: 1007, 2: 1010, 3: 995, 4: 1010, 5: 988, 6: 1008, 7: 1026, 8: 987, 9: 985}\n",
      "First 20 Labels: [1, 6, 6, 8, 8, 3, 4, 6, 0, 6, 0, 3, 6, 6, 5, 4, 8, 3, 2, 6]\n",
      "\n",
      "Example of Image 2:\n",
      "Image - Min Value: 0 Max Value: 240\n",
      "Image - Shape: (32, 32, 3)\n",
      "Label - Label Id: 6 Name: frog\n"
     ]
    },
    {
     "data": {
      "image/png": "[encoded data removed]",
      "text/plain": [
       "<matplotlib.figure.Figure at 0x7f833f00e7b8>"
      ]
     },
     "metadata": {
      "image/png": {
       "height": 250,
       "width": 253
      }
     },
     "output_type": "display_data"
    }
   ],
   "source": [
    "%matplotlib inline\n",
    "%config InlineBackend.figure_format = 'retina'\n",
    "\n",
    "import helper\n",
    "import numpy as np\n",
    "\n",
    "# Explore the dataset\n",
    "batch_id = 2\n",
    "sample_id = 2\n",
    "helper.display_stats(cifar10_dataset_folder_path, batch_id, sample_id)"
   ]
  },
  {
   "cell_type": "markdown",
   "metadata": {},
   "source": [
    "## Implement Preprocess Functions\n",
    "### Normalize\n",
    "In the cell below, implement the `normalize` function to take in image data, `x`, and return it as a normalized Numpy array. The values should be in the range of 0 to 1, inclusive.  The return object should be the same shape as `x`."
   ]
  },
  {
   "cell_type": "code",
   "execution_count": 4,
   "metadata": {},
   "outputs": [
    {
     "name": "stdout",
     "output_type": "stream",
     "text": [
      "Tests Passed\n"
     ]
    }
   ],
   "source": [
    "def normalize(x):\n",
    "    \"\"\"\n",
    "    Normalize a list of sample image data in the range of 0 to 1\n",
    "    : x: List of image data.  The image shape is (32, 32, 3)\n",
    "    : return: Numpy array of normalize data\n",
    "    \"\"\"\n",
    "    # TODO: Implement Function\n",
    "    # the values in each of the 3 RGB channel range from 0 to 255\n",
    "    # therefore:\n",
    "    \n",
    "    #print(x, x.shape, type(x))\n",
    "    x = x * 1.0 / 255\n",
    "    #print(x, x.shape, type(x))\n",
    "\n",
    "    return x\n",
    "\n",
    "\n",
    "\"\"\"\n",
    "DON'T MODIFY ANYTHING IN THIS CELL THAT IS BELOW THIS LINE\n",
    "\"\"\"\n",
    "tests.test_normalize(normalize)"
   ]
  },
  {
   "cell_type": "markdown",
   "metadata": {},
   "source": [
    "### One-hot encode\n",
    "Just like the previous code cell, you'll be implementing a function for preprocessing.  This time, you'll implement the `one_hot_encode` function. The input, `x`, are a list of labels.  Implement the function to return the list of labels as One-Hot encoded Numpy array.  The possible values for labels are 0 to 9. The one-hot encoding function should return the same encoding for each value between each call to `one_hot_encode`.  Make sure to save the map of encodings outside the function.\n",
    "\n",
    "Hint: Don't reinvent the wheel."
   ]
  },
  {
   "cell_type": "code",
   "execution_count": 5,
   "metadata": {},
   "outputs": [
    {
     "name": "stdout",
     "output_type": "stream",
     "text": [
      "Tests Passed\n"
     ]
    }
   ],
   "source": [
    "def get_one_hot_encode_array(pos):\n",
    "    one_hot_encoding_array = np.zeros(10)\n",
    "    one_hot_encoding_array[pos] = 1\n",
    "    return one_hot_encoding_array\n",
    "\n",
    "def one_hot_encode(x):\n",
    "    \"\"\"\n",
    "    One hot encode a list of sample labels. Return a one-hot encoded vector for each label.\n",
    "    : x: List of sample Labels\n",
    "    : return: Numpy array of one-hot encoded labels\n",
    "    \"\"\"\n",
    "    # TODO: Implement Function\n",
    "    # there are 10 different labels, so our one-hot-encode array must have 10 elements\n",
    "    ohe_list = [get_one_hot_encode_array(label) for label in x]  \n",
    "    return np.array(ohe_list)\n",
    "\n",
    "\n",
    "\"\"\"\n",
    "DON'T MODIFY ANYTHING IN THIS CELL THAT IS BELOW THIS LINE\n",
    "\"\"\"\n",
    "tests.test_one_hot_encode(one_hot_encode)"
   ]
  },
  {
   "cell_type": "markdown",
   "metadata": {},
   "source": [
    "### Randomize Data\n",
    "As you saw from exploring the data above, the order of the samples are randomized.  It doesn't hurt to randomize it again, but you don't need to for this dataset."
   ]
  },
  {
   "cell_type": "markdown",
   "metadata": {},
   "source": [
    "## Preprocess all the data and save it\n",
    "Running the code cell below will preprocess all the CIFAR-10 data and save it to file. The code below also uses 10% of the training data for validation."
   ]
  },
  {
   "cell_type": "code",
   "execution_count": 6,
   "metadata": {},
   "outputs": [],
   "source": [
    "\"\"\"\n",
    "DON'T MODIFY ANYTHING IN THIS CELL\n",
    "\"\"\"\n",
    "# Preprocess Training, Validation, and Testing Data\n",
    "helper.preprocess_and_save_data(cifar10_dataset_folder_path, normalize, one_hot_encode)"
   ]
  },
  {
   "cell_type": "markdown",
   "metadata": {},
   "source": [
    "# Check Point\n",
    "This is your first checkpoint.  If you ever decide to come back to this notebook or have to restart the notebook, you can start from here.  The preprocessed data has been saved to disk."
   ]
  },
  {
   "cell_type": "code",
   "execution_count": 7,
   "metadata": {
    "collapsed": true
   },
   "outputs": [],
   "source": [
    "\"\"\"\n",
    "DON'T MODIFY ANYTHING IN THIS CELL\n",
    "\"\"\"\n",
    "import pickle\n",
    "import problem_unittests as tests\n",
    "import helper\n",
    "\n",
    "# Load the Preprocessed Validation data\n",
    "valid_features, valid_labels = pickle.load(open('preprocess_validation.p', mode='rb'))"
   ]
  },
  {
   "cell_type": "markdown",
   "metadata": {},
   "source": [
    "## Build the network\n",
    "For the neural network, you'll build each layer into a function.  Most of the code you've seen has been outside of functions. To test your code more thoroughly, we require that you put each layer in a function.  This allows us to give you better feedback and test for simple mistakes using our unittests before you submit your project.\n",
    "\n",
    ">**Note:** If you're finding it hard to dedicate enough time for this course each week, we've provided a small shortcut to this part of the project. In the next couple of problems, you'll have the option to use classes from the [TensorFlow Layers](https://www.tensorflow.org/api_docs/python/tf/layers) or [TensorFlow Layers (contrib)](https://www.tensorflow.org/api_guides/python/contrib.layers) packages to build each layer, except the layers you build in the \"Convolutional and Max Pooling Layer\" section.  TF Layers is similar to Keras's and TFLearn's abstraction to layers, so it's easy to pickup.\n",
    "\n",
    ">However, if you would like to get the most out of this course, try to solve all the problems _without_ using anything from the TF Layers packages. You **can** still use classes from other packages that happen to have the same name as ones you find in TF Layers! For example, instead of using the TF Layers version of the `conv2d` class, [tf.layers.conv2d](https://www.tensorflow.org/api_docs/python/tf/layers/conv2d), you would want to use the TF Neural Network version of `conv2d`, [tf.nn.conv2d](https://www.tensorflow.org/api_docs/python/tf/nn/conv2d). \n",
    "\n",
    "Let's begin!\n",
    "\n",
    "### Input\n",
    "The neural network needs to read the image data, one-hot encoded labels, and dropout keep probability. Implement the following functions\n",
    "* Implement `neural_net_image_input`\n",
    " * Return a [TF Placeholder](https://www.tensorflow.org/api_docs/python/tf/placeholder)\n",
    " * Set the shape using `image_shape` with batch size set to `None`.\n",
    " * Name the TensorFlow placeholder \"x\" using the TensorFlow `name` parameter in the [TF Placeholder](https://www.tensorflow.org/api_docs/python/tf/placeholder).\n",
    "* Implement `neural_net_label_input`\n",
    " * Return a [TF Placeholder](https://www.tensorflow.org/api_docs/python/tf/placeholder)\n",
    " * Set the shape using `n_classes` with batch size set to `None`.\n",
    " * Name the TensorFlow placeholder \"y\" using the TensorFlow `name` parameter in the [TF Placeholder](https://www.tensorflow.org/api_docs/python/tf/placeholder).\n",
    "* Implement `neural_net_keep_prob_input`\n",
    " * Return a [TF Placeholder](https://www.tensorflow.org/api_docs/python/tf/placeholder) for dropout keep probability.\n",
    " * Name the TensorFlow placeholder \"keep_prob\" using the TensorFlow `name` parameter in the [TF Placeholder](https://www.tensorflow.org/api_docs/python/tf/placeholder).\n",
    "\n",
    "These names will be used at the end of the project to load your saved model.\n",
    "\n",
    "Note: `None` for shapes in TensorFlow allow for a dynamic size."
   ]
  },
  {
   "cell_type": "code",
   "execution_count": 8,
   "metadata": {},
   "outputs": [
    {
     "name": "stdout",
     "output_type": "stream",
     "text": [
      "Image Input Tests Passed.\n",
      "Label Input Tests Passed.\n",
      "Keep Prob Tests Passed.\n"
     ]
    }
   ],
   "source": [
    "import tensorflow as tf\n",
    "from functools import reduce\n",
    "\n",
    "def neural_net_image_input(image_shape):\n",
    "    \"\"\"\n",
    "    Return a Tensor for a batch of image input\n",
    "    : image_shape: Shape of the images\n",
    "    : return: Tensor for image input.\n",
    "    \"\"\"\n",
    "    # TODO: Implement Function\n",
    "    #print(image_shape)\n",
    "    return tf.placeholder(tf.float32, [None, image_shape[0], image_shape[1], image_shape[2]], name='x')\n",
    "\n",
    "\n",
    "def neural_net_label_input(n_classes):\n",
    "    \"\"\"\n",
    "    Return a Tensor for a batch of label input\n",
    "    : n_classes: Number of classes\n",
    "    : return: Tensor for label input.\n",
    "    \"\"\"\n",
    "    # TODO: Implement Function\n",
    "    return tf.placeholder(tf.float32, [None, n_classes], name='y')\n",
    "\n",
    "\n",
    "def neural_net_keep_prob_input():\n",
    "    \"\"\"\n",
    "    Return a Tensor for keep probability\n",
    "    : return: Tensor for keep probability.\n",
    "    \"\"\"\n",
    "    # TODO: Implement Function\n",
    "    return tf.placeholder(tf.float32, name='keep_prob')\n",
    "\n",
    "\n",
    "\"\"\"\n",
    "DON'T MODIFY ANYTHING IN THIS CELL THAT IS BELOW THIS LINE\n",
    "\"\"\"\n",
    "tf.reset_default_graph()\n",
    "tests.test_nn_image_inputs(neural_net_image_input)\n",
    "tests.test_nn_label_inputs(neural_net_label_input)\n",
    "tests.test_nn_keep_prob_inputs(neural_net_keep_prob_input)"
   ]
  },
  {
   "cell_type": "markdown",
   "metadata": {},
   "source": [
    "### Convolution and Max Pooling Layer\n",
    "Convolution layers have a lot of success with images. For this code cell, you should implement the function `conv2d_maxpool` to apply convolution then max pooling:\n",
    "* Create the weight and bias using `conv_ksize`, `conv_num_outputs` and the shape of `x_tensor`.\n",
    "* Apply a convolution to `x_tensor` using weight and `conv_strides`.\n",
    " * We recommend you use same padding, but you're welcome to use any padding.\n",
    "* Add bias\n",
    "* Add a nonlinear activation to the convolution.\n",
    "* Apply Max Pooling using `pool_ksize` and `pool_strides`.\n",
    " * We recommend you use same padding, but you're welcome to use any padding.\n",
    "\n",
    "**Note:** You **can't** use [TensorFlow Layers](https://www.tensorflow.org/api_docs/python/tf/layers) or [TensorFlow Layers (contrib)](https://www.tensorflow.org/api_guides/python/contrib.layers) for **this** layer, but you can still use TensorFlow's [Neural Network](https://www.tensorflow.org/api_docs/python/tf/nn) package. You may still use the shortcut option for all the **other** layers."
   ]
  },
  {
   "cell_type": "markdown",
   "metadata": {},
   "source": [
    "### Initialization of weigths and biases\n",
    "\n",
    "After some struggling I finally understood is better to use a truncated random distribution with small mean and stddev proportional to 1/sqrt(batch_size). \n",
    "Biases should also be slightly positives.\n",
    "I believe this has to do with the RELU activation function that kills all negative values, preventing network learning:\n",
    "https://arxiv.org/pdf/1511.06422.pdf"
   ]
  },
  {
   "cell_type": "code",
   "execution_count": 30,
   "metadata": {},
   "outputs": [
    {
     "name": "stdout",
     "output_type": "stream",
     "text": [
      "Tests Passed\n"
     ]
    }
   ],
   "source": [
    "def conv2d_maxpool(x_tensor, conv_num_outputs, conv_ksize, conv_strides, pool_ksize, pool_strides):\n",
    "    \"\"\"\n",
    "    Apply convolution then max pooling to x_tensor\n",
    "    :param x_tensor: TensorFlow Tensor\n",
    "    :param conv_num_outputs: Number of outputs for the convolutional layer\n",
    "    :param conv_ksize: kernal size 2-D Tuple for the convolutional layer\n",
    "    :param conv_strides: Stride 2-D Tuple for convolution\n",
    "    :param pool_ksize: kernal size 2-D Tuple for pool\n",
    "    :param pool_strides: Stride 2-D Tuple for pool\n",
    "    : return: A tensor that represents convolution and max pooling of x_tensor\n",
    "    \"\"\"\n",
    "    # TODO: Implement Function\n",
    "    \n",
    "    #print(conv_num_outputs, conv_ksize, conv_strides)\n",
    "    \n",
    "    #1st conv filter\n",
    "    w1 = tf.Variable(tf.truncated_normal([conv_ksize[0], conv_ksize[1], x_tensor.get_shape().as_list()[3], conv_num_outputs],\n",
    "                                      mean=0.001,\n",
    "                                      stddev=0.03\n",
    "                                     ))\n",
    "    #1st bias\n",
    "    b1 = tf.Variable(tf.zeros([conv_num_outputs])) + 0.01\n",
    "    \n",
    "    #convolution\n",
    "    conv2d = tf.nn.relu(tf.nn.bias_add(tf.nn.conv2d(x_tensor, \n",
    "                                                    w1,\n",
    "                                                    strides=[conv_strides[0], conv_strides[1], conv_strides[0], conv_strides[1]],\n",
    "                                                    padding='SAME'\n",
    "                                                   ),\n",
    "                                      b1)\n",
    "                       )\n",
    "    #print(conv2d.shape)\n",
    "    \n",
    "    #max_pooling\n",
    "    max_pool = tf.nn.max_pool(conv2d, \n",
    "                              ksize=[1, pool_ksize[0], pool_ksize[1], 1],\n",
    "                              strides=[1, pool_strides[0], pool_strides[1],1],\n",
    "                              padding='SAME'\n",
    "                             )\n",
    "    \n",
    "    return max_pool\n",
    "\n",
    "\n",
    "\"\"\"\n",
    "DON'T MODIFY ANYTHING IN THIS CELL THAT IS BELOW THIS LINE\n",
    "\"\"\"\n",
    "tests.test_con_pool(conv2d_maxpool)"
   ]
  },
  {
   "cell_type": "markdown",
   "metadata": {},
   "source": [
    "### Flatten Layer\n",
    "Implement the `flatten` function to change the dimension of `x_tensor` from a 4-D tensor to a 2-D tensor.  The output should be the shape (*Batch Size*, *Flattened Image Size*). Shortcut option: you can use classes from the [TensorFlow Layers](https://www.tensorflow.org/api_docs/python/tf/layers) or [TensorFlow Layers (contrib)](https://www.tensorflow.org/api_guides/python/contrib.layers) packages for this layer. For more of a challenge, only use other TensorFlow packages."
   ]
  },
  {
   "cell_type": "code",
   "execution_count": 10,
   "metadata": {},
   "outputs": [
    {
     "name": "stdout",
     "output_type": "stream",
     "text": [
      "Tests Passed\n"
     ]
    }
   ],
   "source": [
    "def flatten(x_tensor):\n",
    "    \"\"\"\n",
    "    Flatten x_tensor to (Batch Size, Flattened Image Size)\n",
    "    : x_tensor: A tensor of size (Batch Size, ...), where ... are the image dimensions.\n",
    "    : return: A tensor of size (Batch Size, Flattened Image Size).\n",
    "    \"\"\"\n",
    "    # TODO: Implement Function\n",
    "    shape = x_tensor.get_shape().as_list() \n",
    "    dim = np.prod(shape[1:])        \n",
    "    return tf.reshape(x_tensor, [-1, dim])\n",
    "\n",
    "\n",
    "\"\"\"\n",
    "DON'T MODIFY ANYTHING IN THIS CELL THAT IS BELOW THIS LINE\n",
    "\"\"\"\n",
    "tests.test_flatten(flatten)"
   ]
  },
  {
   "cell_type": "markdown",
   "metadata": {},
   "source": [
    "### Fully-Connected Layer\n",
    "Implement the `fully_conn` function to apply a fully connected layer to `x_tensor` with the shape (*Batch Size*, *num_outputs*). Shortcut option: you can use classes from the [TensorFlow Layers](https://www.tensorflow.org/api_docs/python/tf/layers) or [TensorFlow Layers (contrib)](https://www.tensorflow.org/api_guides/python/contrib.layers) packages for this layer. For more of a challenge, only use other TensorFlow packages."
   ]
  },
  {
   "cell_type": "code",
   "execution_count": 31,
   "metadata": {},
   "outputs": [
    {
     "name": "stdout",
     "output_type": "stream",
     "text": [
      "Tests Passed\n"
     ]
    }
   ],
   "source": [
    "def fully_conn(x_tensor, num_outputs):\n",
    "    \"\"\"\n",
    "    Apply a fully connected layer to x_tensor using weight and bias\n",
    "    : x_tensor: A 2-D tensor where the first dimension is batch size.\n",
    "    : num_outputs: The number of output that the new tensor should be.\n",
    "    : return: A 2-D tensor where the second dimension is num_outputs.\n",
    "    \"\"\"\n",
    "    # TODO: Implement Function\n",
    "    #weights\n",
    "    wfc = tf.Variable(tf.truncated_normal([x_tensor.get_shape().as_list()[1], num_outputs], mean=0.001, stddev=0.03))\n",
    "    #bias\n",
    "    bfc = tf.Variable(tf.zeros([num_outputs])) + 0.01\n",
    "    \n",
    "    dense = tf.reshape(x_tensor, [-1, wfc.get_shape().as_list()[0]])\n",
    "    dense = tf.nn.relu(tf.add(tf.matmul(dense, wfc), bfc))\n",
    "    \n",
    "    return dense\n",
    "\n",
    "\n",
    "\"\"\"\n",
    "DON'T MODIFY ANYTHING IN THIS CELL THAT IS BELOW THIS LINE\n",
    "\"\"\"\n",
    "tests.test_fully_conn(fully_conn)"
   ]
  },
  {
   "cell_type": "markdown",
   "metadata": {},
   "source": [
    "### Output Layer\n",
    "Implement the `output` function to apply a fully connected layer to `x_tensor` with the shape (*Batch Size*, *num_outputs*). Shortcut option: you can use classes from the [TensorFlow Layers](https://www.tensorflow.org/api_docs/python/tf/layers) or [TensorFlow Layers (contrib)](https://www.tensorflow.org/api_guides/python/contrib.layers) packages for this layer. For more of a challenge, only use other TensorFlow packages.\n",
    "\n",
    "**Note:** Activation, softmax, or cross entropy should **not** be applied to this."
   ]
  },
  {
   "cell_type": "code",
   "execution_count": 32,
   "metadata": {},
   "outputs": [
    {
     "name": "stdout",
     "output_type": "stream",
     "text": [
      "Tests Passed\n"
     ]
    }
   ],
   "source": [
    "def output(x_tensor, num_outputs):\n",
    "    \"\"\"\n",
    "    Apply a output layer to x_tensor using weight and bias\n",
    "    : x_tensor: A 2-D tensor where the first dimension is batch size.\n",
    "    : num_outputs: The number of output that the new tensor should be.\n",
    "    : return: A 2-D tensor where the second dimension is num_outputs.\n",
    "    \"\"\"\n",
    "    # TODO: Implement Function\n",
    "    \n",
    "    wout = tf.Variable(tf.truncated_normal([x_tensor.get_shape().as_list()[1], num_outputs], mean=0.001, stddev=0.03))\n",
    "    bout = tf.Variable(tf.zeros([num_outputs])) + 0.01\n",
    "    \n",
    "    return tf.add(tf.matmul(x_tensor, wout), bout)\n",
    "\n",
    "\"\"\"\n",
    "DON'T MODIFY ANYTHING IN THIS CELL THAT IS BELOW THIS LINE\n",
    "\"\"\"\n",
    "tests.test_output(output)"
   ]
  },
  {
   "cell_type": "markdown",
   "metadata": {},
   "source": [
    "### Create Convolutional Model\n",
    "Implement the function `conv_net` to create a convolutional neural network model. The function takes in a batch of images, `x`, and outputs logits.  Use the layers you created above to create this model:\n",
    "\n",
    "* Apply 1, 2, or 3 Convolution and Max Pool layers\n",
    "* Apply a Flatten Layer\n",
    "* Apply 1, 2, or 3 Fully Connected Layers\n",
    "* Apply an Output Layer\n",
    "* Return the output\n",
    "* Apply [TensorFlow's Dropout](https://www.tensorflow.org/api_docs/python/tf/nn/dropout) to one or more layers in the model using `keep_prob`. "
   ]
  },
  {
   "cell_type": "code",
   "execution_count": 33,
   "metadata": {},
   "outputs": [
    {
     "name": "stdout",
     "output_type": "stream",
     "text": [
      "Neural Network Built!\n"
     ]
    }
   ],
   "source": [
    "def conv_net(x, keep_prob):\n",
    "    \"\"\"\n",
    "    Create a convolutional neural network model\n",
    "    : x: Placeholder tensor that holds image data.\n",
    "    : keep_prob: Placeholder tensor that hold dropout keep probability.\n",
    "    : return: Tensor that represents logits\n",
    "    \"\"\"\n",
    "    # TODO: Apply 1, 2, or 3 Convolution and Max Pool layers\n",
    "    #    Play around with different number of outputs, kernel size and stride\n",
    "    # Function Definition from Above:\n",
    "    #    conv2d_maxpool(x_tensor, conv_num_outputs, conv_ksize, conv_strides, pool_ksize, pool_strides)\n",
    "    conv1 = conv2d_maxpool(x, 32, (5,5), (1,1), (2,2), (1,1))\n",
    "    #conv2 = conv2d_maxpool(conv1do, 32, (5,5), (1,1), (2,2), (1,1))\n",
    "    #conv2do = tf.nn.dropout(conv2, keep_prob)\n",
    "    \n",
    "    conv3 = conv2d_maxpool(conv1, 64, (5,5), (1,1), (2,2), (1,1))\n",
    "    #conv3do = tf.nn.dropout(conv3, keep_prob)\n",
    "    #conv4 = conv2d_maxpool(conv3do, 64, (5,5), (1,1), (2,2), (1,1))\n",
    "    #conv4do = tf.nn.dropout(conv4, keep_prob)\n",
    "    \n",
    "    conv5 = conv2d_maxpool(conv3, 128, (5,5), (1,1), (2,2), (1,1))\n",
    "    #conv5do = tf.nn.dropout(conv5, keep_prob)\n",
    "    #conv6 = conv2d_maxpool(conv5do, 128, (5,5), (1,1), (2,2), (1,1))\n",
    "    #conv6do = tf.nn.dropout(conv6, keep_prob)\n",
    "\n",
    "    # TODO: Apply a Flatten Layer\n",
    "    # Function Definition from Above:\n",
    "    #   flatten(x_tensor)\n",
    "    flat = flatten(conv5)\n",
    "\n",
    "    # TODO: Apply 1, 2, or 3 Fully Connected Layers\n",
    "    #    Play around with different number of outputs\n",
    "    # Function Definition from Above:\n",
    "    #   fully_conn(x_tensor, num_outputs)\n",
    "    fc1 = fully_conn(flat, 128)\n",
    "    fc1do = tf.nn.dropout(fc1, keep_prob)\n",
    "    \n",
    "    fc2 = fully_conn(fc1do, 64)\n",
    "    fc2do = tf.nn.dropout(fc2, keep_prob)\n",
    "        \n",
    "    fc3 = fully_conn(fc2do, 32)\n",
    "    fc3do = tf.nn.dropout(fc3, keep_prob)\n",
    "    \n",
    "    # TODO: Apply an Output Layer\n",
    "    #    Set this to the number of classes\n",
    "    # Function Definition from Above:\n",
    "    #   output(x_tensor, num_outputs)\n",
    "    out = output(fc3do, 10)\n",
    "    \n",
    "    # TODO: return output\n",
    "    return out\n",
    "\n",
    "\n",
    "\"\"\"\n",
    "DON'T MODIFY ANYTHING IN THIS CELL THAT IS BELOW THIS LINE\n",
    "\"\"\"\n",
    "\n",
    "##############################\n",
    "## Build the Neural Network ##\n",
    "##############################\n",
    "\n",
    "# Remove previous weights, bias, inputs, etc..\n",
    "tf.reset_default_graph()\n",
    "\n",
    "# Inputs\n",
    "x = neural_net_image_input((32, 32, 3))\n",
    "y = neural_net_label_input(10)\n",
    "keep_prob = neural_net_keep_prob_input()\n",
    "\n",
    "# Model\n",
    "logits = conv_net(x, keep_prob)\n",
    "\n",
    "# Name logits Tensor, so that is can be loaded from disk after training\n",
    "logits = tf.identity(logits, name='logits')\n",
    "\n",
    "# Loss and Optimizer\n",
    "cost = tf.reduce_mean(tf.nn.softmax_cross_entropy_with_logits(logits=logits, labels=y))\n",
    "optimizer = tf.train.AdamOptimizer().minimize(cost)\n",
    "\n",
    "# Accuracy\n",
    "correct_pred = tf.equal(tf.argmax(logits, 1), tf.argmax(y, 1))\n",
    "accuracy = tf.reduce_mean(tf.cast(correct_pred, tf.float32), name='accuracy')\n",
    "\n",
    "tests.test_conv_net(conv_net)"
   ]
  },
  {
   "cell_type": "markdown",
   "metadata": {},
   "source": [
    "## Train the Neural Network\n",
    "### Single Optimization\n",
    "Implement the function `train_neural_network` to do a single optimization.  The optimization should use `optimizer` to optimize in `session` with a `feed_dict` of the following:\n",
    "* `x` for image input\n",
    "* `y` for labels\n",
    "* `keep_prob` for keep probability for dropout\n",
    "\n",
    "This function will be called for each batch, so `tf.global_variables_initializer()` has already been called.\n",
    "\n",
    "Note: Nothing needs to be returned. This function is only optimizing the neural network."
   ]
  },
  {
   "cell_type": "code",
   "execution_count": 14,
   "metadata": {},
   "outputs": [
    {
     "name": "stdout",
     "output_type": "stream",
     "text": [
      "Tests Passed\n"
     ]
    }
   ],
   "source": [
    "def train_neural_network(session, optimizer, keep_probability, feature_batch, label_batch):\n",
    "    \"\"\"\n",
    "    Optimize the session on a batch of images and labels\n",
    "    : session: Current TensorFlow session\n",
    "    : optimizer: TensorFlow optimizer function\n",
    "    : keep_probability: keep probability\n",
    "    : feature_batch: Batch of Numpy image data\n",
    "    : label_batch: Batch of Numpy label data\n",
    "    \"\"\"\n",
    "    # TODO: Implement Function\n",
    "    session.run(optimizer, feed_dict={x: feature_batch, y: label_batch, keep_prob: keep_probability})\n",
    "\n",
    "\n",
    "\"\"\"\n",
    "DON'T MODIFY ANYTHING IN THIS CELL THAT IS BELOW THIS LINE\n",
    "\"\"\"\n",
    "tests.test_train_nn(train_neural_network)"
   ]
  },
  {
   "cell_type": "markdown",
   "metadata": {},
   "source": [
    "### Show Stats\n",
    "Implement the function `print_stats` to print loss and validation accuracy.  Use the global variables `valid_features` and `valid_labels` to calculate validation accuracy.  Use a keep probability of `1.0` to calculate the loss and validation accuracy."
   ]
  },
  {
   "cell_type": "code",
   "execution_count": 36,
   "metadata": {},
   "outputs": [],
   "source": [
    "def print_stats(session, feature_batch, label_batch, cost, accuracy):\n",
    "    \"\"\"\n",
    "    Print information about loss and validation accuracy\n",
    "    : session: Current TensorFlow session\n",
    "    : feature_batch: Batch of Numpy image data\n",
    "    : label_batch: Batch of Numpy label data\n",
    "    : cost: TensorFlow cost function\n",
    "    : accuracy: TensorFlow accuracy function\n",
    "    \"\"\"\n",
    "    # TODO: Implement Function\n",
    "    #accuracy\n",
    "    #accr = session.run(accuracy, feed_dict={x: feature_batch, y: label_batch, keep_prob: 1.0})\n",
    "    accr = session.run(accuracy, feed_dict={x: valid_features, y: valid_labels, keep_prob: 1.0})\n",
    "    #loss\n",
    "    loss = session.run(cost, feed_dict={x: feature_batch, y: label_batch, keep_prob: 1.0})\n",
    "    \n",
    "    print(\"Batch loss=%.6f\" % loss, \"Validation accuracy = %.5f\" % accr)"
   ]
  },
  {
   "cell_type": "markdown",
   "metadata": {},
   "source": [
    "### Hyperparameters\n",
    "Tune the following parameters:\n",
    "* Set `epochs` to the number of iterations until the network stops learning or start overfitting\n",
    "* Set `batch_size` to the highest number that your machine has memory for.  Most people set them to common sizes of memory:\n",
    " * 64\n",
    " * 128\n",
    " * 256\n",
    " * ...\n",
    "* Set `keep_probability` to the probability of keeping a node using dropout"
   ]
  },
  {
   "cell_type": "code",
   "execution_count": 34,
   "metadata": {
    "collapsed": true
   },
   "outputs": [],
   "source": [
    "# TODO: Tune Parameters\n",
    "epochs = 50\n",
    "batch_size = 1024\n",
    "keep_probability = 0.8"
   ]
  },
  {
   "cell_type": "markdown",
   "metadata": {},
   "source": [
    "### Train on a Single CIFAR-10 Batch\n",
    "Instead of training the neural network on all the CIFAR-10 batches of data, let's use a single batch. This should save time while you iterate on the model to get a better accuracy.  Once the final validation accuracy is 50% or greater, run the model on all the data in the next section."
   ]
  },
  {
   "cell_type": "code",
   "execution_count": 39,
   "metadata": {},
   "outputs": [
    {
     "name": "stdout",
     "output_type": "stream",
     "text": [
      "Checking the Training on a Single Batch...\n",
      "Epoch  1, CIFAR-10 Batch 1:  Batch loss=2.302692 Validation accuracy = 0.14880\n",
      "Epoch  2, CIFAR-10 Batch 1:  Batch loss=2.300635 Validation accuracy = 0.15920\n",
      "Epoch  3, CIFAR-10 Batch 1:  Batch loss=2.268352 Validation accuracy = 0.17700\n",
      "Epoch  4, CIFAR-10 Batch 1:  Batch loss=2.213704 Validation accuracy = 0.17940\n",
      "Epoch  5, CIFAR-10 Batch 1:  Batch loss=2.128667 Validation accuracy = 0.20520\n",
      "Epoch  6, CIFAR-10 Batch 1:  Batch loss=2.098073 Validation accuracy = 0.21380\n",
      "Epoch  7, CIFAR-10 Batch 1:  Batch loss=2.053598 Validation accuracy = 0.22060\n",
      "Epoch  8, CIFAR-10 Batch 1:  Batch loss=2.015075 Validation accuracy = 0.24020\n",
      "Epoch  9, CIFAR-10 Batch 1:  Batch loss=1.977628 Validation accuracy = 0.26780\n",
      "Epoch 10, CIFAR-10 Batch 1:  Batch loss=1.915416 Validation accuracy = 0.29140\n",
      "Epoch 11, CIFAR-10 Batch 1:  Batch loss=1.873252 Validation accuracy = 0.29820\n",
      "Epoch 12, CIFAR-10 Batch 1:  Batch loss=1.852043 Validation accuracy = 0.30360\n",
      "Epoch 13, CIFAR-10 Batch 1:  Batch loss=1.794249 Validation accuracy = 0.32260\n",
      "Epoch 14, CIFAR-10 Batch 1:  Batch loss=1.701976 Validation accuracy = 0.34880\n",
      "Epoch 15, CIFAR-10 Batch 1:  Batch loss=1.654077 Validation accuracy = 0.35220\n",
      "Epoch 16, CIFAR-10 Batch 1:  Batch loss=1.632665 Validation accuracy = 0.37600\n",
      "Epoch 17, CIFAR-10 Batch 1:  Batch loss=1.587871 Validation accuracy = 0.38880\n",
      "Epoch 18, CIFAR-10 Batch 1:  Batch loss=1.536058 Validation accuracy = 0.40100\n",
      "Epoch 19, CIFAR-10 Batch 1:  Batch loss=1.556095 Validation accuracy = 0.40100\n",
      "Epoch 20, CIFAR-10 Batch 1:  Batch loss=1.445108 Validation accuracy = 0.43020\n",
      "Epoch 21, CIFAR-10 Batch 1:  Batch loss=1.433156 Validation accuracy = 0.43120\n",
      "Epoch 22, CIFAR-10 Batch 1:  Batch loss=1.358049 Validation accuracy = 0.44400\n",
      "Epoch 23, CIFAR-10 Batch 1:  Batch loss=1.314347 Validation accuracy = 0.46920\n",
      "Epoch 24, CIFAR-10 Batch 1:  Batch loss=1.264818 Validation accuracy = 0.47100\n",
      "Epoch 25, CIFAR-10 Batch 1:  Batch loss=1.238097 Validation accuracy = 0.47340\n",
      "Epoch 26, CIFAR-10 Batch 1:  Batch loss=1.199619 Validation accuracy = 0.49460\n",
      "Epoch 27, CIFAR-10 Batch 1:  Batch loss=1.135744 Validation accuracy = 0.48960\n",
      "Epoch 28, CIFAR-10 Batch 1:  Batch loss=1.084779 Validation accuracy = 0.50720\n",
      "Epoch 29, CIFAR-10 Batch 1:  Batch loss=1.080060 Validation accuracy = 0.49460\n",
      "Epoch 30, CIFAR-10 Batch 1:  Batch loss=1.024710 Validation accuracy = 0.51500\n",
      "Epoch 31, CIFAR-10 Batch 1:  Batch loss=0.996465 Validation accuracy = 0.51840\n",
      "Epoch 32, CIFAR-10 Batch 1:  Batch loss=0.960395 Validation accuracy = 0.51820\n",
      "Epoch 33, CIFAR-10 Batch 1:  Batch loss=0.907433 Validation accuracy = 0.53060\n",
      "Epoch 34, CIFAR-10 Batch 1:  Batch loss=0.882229 Validation accuracy = 0.53520\n",
      "Epoch 35, CIFAR-10 Batch 1:  Batch loss=0.804369 Validation accuracy = 0.54540\n",
      "Epoch 36, CIFAR-10 Batch 1:  Batch loss=0.799997 Validation accuracy = 0.54020\n",
      "Epoch 37, CIFAR-10 Batch 1:  Batch loss=0.806164 Validation accuracy = 0.52840\n",
      "Epoch 38, CIFAR-10 Batch 1:  Batch loss=0.772450 Validation accuracy = 0.53980\n",
      "Epoch 39, CIFAR-10 Batch 1:  Batch loss=0.733720 Validation accuracy = 0.54760\n",
      "Epoch 40, CIFAR-10 Batch 1:  Batch loss=0.752101 Validation accuracy = 0.53720\n",
      "Epoch 41, CIFAR-10 Batch 1:  Batch loss=0.709025 Validation accuracy = 0.53200\n",
      "Epoch 42, CIFAR-10 Batch 1:  Batch loss=0.614990 Validation accuracy = 0.55580\n",
      "Epoch 43, CIFAR-10 Batch 1:  Batch loss=0.576287 Validation accuracy = 0.55920\n",
      "Epoch 44, CIFAR-10 Batch 1:  Batch loss=0.507526 Validation accuracy = 0.56960\n",
      "Epoch 45, CIFAR-10 Batch 1:  Batch loss=0.460964 Validation accuracy = 0.56860\n",
      "Epoch 46, CIFAR-10 Batch 1:  Batch loss=0.401904 Validation accuracy = 0.58080\n",
      "Epoch 47, CIFAR-10 Batch 1:  Batch loss=0.358939 Validation accuracy = 0.57760\n",
      "Epoch 48, CIFAR-10 Batch 1:  Batch loss=0.317582 Validation accuracy = 0.57800\n",
      "Epoch 49, CIFAR-10 Batch 1:  Batch loss=0.286542 Validation accuracy = 0.57780\n",
      "Epoch 50, CIFAR-10 Batch 1:  Batch loss=0.261388 Validation accuracy = 0.57540\n"
     ]
    }
   ],
   "source": [
    "\"\"\"\n",
    "DON'T MODIFY ANYTHING IN THIS CELL\n",
    "\"\"\"\n",
    "print('Checking the Training on a Single Batch...')\n",
    "with tf.Session() as sess:\n",
    "    # Initializing the variables\n",
    "    sess.run(tf.global_variables_initializer())\n",
    "    \n",
    "    # Training cycle\n",
    "    for epoch in range(epochs):\n",
    "        batch_i = 1\n",
    "        for batch_features, batch_labels in helper.load_preprocess_training_batch(batch_i, batch_size):\n",
    "            train_neural_network(sess, optimizer, keep_probability, batch_features, batch_labels)\n",
    "        print('Epoch {:>2}, CIFAR-10 Batch {}:  '.format(epoch + 1, batch_i), end='')\n",
    "        print_stats(sess, batch_features, batch_labels, cost, accuracy)"
   ]
  },
  {
   "cell_type": "markdown",
   "metadata": {},
   "source": [
    "### Fully Train the Model\n",
    "Now that you got a good accuracy with a single CIFAR-10 batch, try it with all five batches."
   ]
  },
  {
   "cell_type": "code",
   "execution_count": 37,
   "metadata": {},
   "outputs": [
    {
     "name": "stdout",
     "output_type": "stream",
     "text": [
      "Training...\n",
      "Epoch  1, CIFAR-10 Batch 1:  Batch loss=2.302286 Validation accuracy = 0.09780\n",
      "Epoch  1, CIFAR-10 Batch 2:  Batch loss=2.274458 Validation accuracy = 0.09740\n",
      "Epoch  1, CIFAR-10 Batch 3:  Batch loss=2.244290 Validation accuracy = 0.16280\n",
      "Epoch  1, CIFAR-10 Batch 4:  Batch loss=2.171216 Validation accuracy = 0.15320\n",
      "Epoch  1, CIFAR-10 Batch 5:  Batch loss=2.157902 Validation accuracy = 0.15160\n",
      "Epoch  2, CIFAR-10 Batch 1:  Batch loss=2.164730 Validation accuracy = 0.17740\n",
      "Epoch  2, CIFAR-10 Batch 2:  Batch loss=2.139239 Validation accuracy = 0.18420\n",
      "Epoch  2, CIFAR-10 Batch 3:  Batch loss=2.060741 Validation accuracy = 0.25140\n",
      "Epoch  2, CIFAR-10 Batch 4:  Batch loss=1.953571 Validation accuracy = 0.25740\n",
      "Epoch  2, CIFAR-10 Batch 5:  Batch loss=1.985311 Validation accuracy = 0.25000\n",
      "Epoch  3, CIFAR-10 Batch 1:  Batch loss=1.954148 Validation accuracy = 0.28360\n",
      "Epoch  3, CIFAR-10 Batch 2:  Batch loss=1.867698 Validation accuracy = 0.30420\n",
      "Epoch  3, CIFAR-10 Batch 3:  Batch loss=1.777178 Validation accuracy = 0.33000\n",
      "Epoch  3, CIFAR-10 Batch 4:  Batch loss=1.744283 Validation accuracy = 0.33160\n",
      "Epoch  3, CIFAR-10 Batch 5:  Batch loss=1.708283 Validation accuracy = 0.36180\n",
      "Epoch  4, CIFAR-10 Batch 1:  Batch loss=1.714739 Validation accuracy = 0.34580\n",
      "Epoch  4, CIFAR-10 Batch 2:  Batch loss=1.684208 Validation accuracy = 0.37380\n",
      "Epoch  4, CIFAR-10 Batch 3:  Batch loss=1.632819 Validation accuracy = 0.34800\n",
      "Epoch  4, CIFAR-10 Batch 4:  Batch loss=1.590451 Validation accuracy = 0.38300\n",
      "Epoch  4, CIFAR-10 Batch 5:  Batch loss=1.562671 Validation accuracy = 0.40520\n",
      "Epoch  5, CIFAR-10 Batch 1:  Batch loss=1.539384 Validation accuracy = 0.41700\n",
      "Epoch  5, CIFAR-10 Batch 2:  Batch loss=1.554924 Validation accuracy = 0.42380\n",
      "Epoch  5, CIFAR-10 Batch 3:  Batch loss=1.465105 Validation accuracy = 0.42220\n",
      "Epoch  5, CIFAR-10 Batch 4:  Batch loss=1.427405 Validation accuracy = 0.44700\n",
      "Epoch  5, CIFAR-10 Batch 5:  Batch loss=1.388731 Validation accuracy = 0.45800\n",
      "Epoch  6, CIFAR-10 Batch 1:  Batch loss=1.378597 Validation accuracy = 0.46120\n",
      "Epoch  6, CIFAR-10 Batch 2:  Batch loss=1.380843 Validation accuracy = 0.47920\n",
      "Epoch  6, CIFAR-10 Batch 3:  Batch loss=1.276945 Validation accuracy = 0.48600\n",
      "Epoch  6, CIFAR-10 Batch 4:  Batch loss=1.290977 Validation accuracy = 0.49060\n",
      "Epoch  6, CIFAR-10 Batch 5:  Batch loss=1.249505 Validation accuracy = 0.50420\n",
      "Epoch  7, CIFAR-10 Batch 1:  Batch loss=1.254638 Validation accuracy = 0.50680\n",
      "Epoch  7, CIFAR-10 Batch 2:  Batch loss=1.309522 Validation accuracy = 0.51360\n",
      "Epoch  7, CIFAR-10 Batch 3:  Batch loss=1.133703 Validation accuracy = 0.52660\n",
      "Epoch  7, CIFAR-10 Batch 4:  Batch loss=1.210846 Validation accuracy = 0.52280\n",
      "Epoch  7, CIFAR-10 Batch 5:  Batch loss=1.200009 Validation accuracy = 0.53140\n",
      "Epoch  8, CIFAR-10 Batch 1:  Batch loss=1.171858 Validation accuracy = 0.54340\n",
      "Epoch  8, CIFAR-10 Batch 2:  Batch loss=1.189962 Validation accuracy = 0.53480\n",
      "Epoch  8, CIFAR-10 Batch 3:  Batch loss=1.071926 Validation accuracy = 0.56220\n",
      "Epoch  8, CIFAR-10 Batch 4:  Batch loss=1.084550 Validation accuracy = 0.57160\n",
      "Epoch  8, CIFAR-10 Batch 5:  Batch loss=1.066138 Validation accuracy = 0.56940\n",
      "Epoch  9, CIFAR-10 Batch 1:  Batch loss=1.060059 Validation accuracy = 0.57160\n",
      "Epoch  9, CIFAR-10 Batch 2:  Batch loss=1.070606 Validation accuracy = 0.57840\n",
      "Epoch  9, CIFAR-10 Batch 3:  Batch loss=0.997514 Validation accuracy = 0.58740\n",
      "Epoch  9, CIFAR-10 Batch 4:  Batch loss=0.983414 Validation accuracy = 0.60060\n",
      "Epoch  9, CIFAR-10 Batch 5:  Batch loss=0.965087 Validation accuracy = 0.59620\n",
      "Epoch 10, CIFAR-10 Batch 1:  Batch loss=0.957601 Validation accuracy = 0.59120\n",
      "Epoch 10, CIFAR-10 Batch 2:  Batch loss=0.976975 Validation accuracy = 0.60020\n",
      "Epoch 10, CIFAR-10 Batch 3:  Batch loss=0.900710 Validation accuracy = 0.61240\n",
      "Epoch 10, CIFAR-10 Batch 4:  Batch loss=0.919827 Validation accuracy = 0.60380\n",
      "Epoch 10, CIFAR-10 Batch 5:  Batch loss=0.895026 Validation accuracy = 0.61080\n",
      "Epoch 11, CIFAR-10 Batch 1:  Batch loss=0.986559 Validation accuracy = 0.57820\n",
      "Epoch 11, CIFAR-10 Batch 2:  Batch loss=0.970220 Validation accuracy = 0.59300\n",
      "Epoch 11, CIFAR-10 Batch 3:  Batch loss=0.846174 Validation accuracy = 0.61220\n",
      "Epoch 11, CIFAR-10 Batch 4:  Batch loss=0.829471 Validation accuracy = 0.61640\n",
      "Epoch 11, CIFAR-10 Batch 5:  Batch loss=0.824562 Validation accuracy = 0.62360\n",
      "Epoch 12, CIFAR-10 Batch 1:  Batch loss=0.811968 Validation accuracy = 0.62660\n",
      "Epoch 12, CIFAR-10 Batch 2:  Batch loss=0.878110 Validation accuracy = 0.61220\n",
      "Epoch 12, CIFAR-10 Batch 3:  Batch loss=0.769791 Validation accuracy = 0.62880\n",
      "Epoch 12, CIFAR-10 Batch 4:  Batch loss=0.754077 Validation accuracy = 0.62200\n",
      "Epoch 12, CIFAR-10 Batch 5:  Batch loss=0.750191 Validation accuracy = 0.63900\n",
      "Epoch 13, CIFAR-10 Batch 1:  Batch loss=0.773716 Validation accuracy = 0.62160\n",
      "Epoch 13, CIFAR-10 Batch 2:  Batch loss=0.823531 Validation accuracy = 0.62440\n",
      "Epoch 13, CIFAR-10 Batch 3:  Batch loss=0.749408 Validation accuracy = 0.63000\n",
      "Epoch 13, CIFAR-10 Batch 4:  Batch loss=0.695650 Validation accuracy = 0.63300\n",
      "Epoch 13, CIFAR-10 Batch 5:  Batch loss=0.711808 Validation accuracy = 0.64720\n",
      "Epoch 14, CIFAR-10 Batch 1:  Batch loss=0.684578 Validation accuracy = 0.63400\n",
      "Epoch 14, CIFAR-10 Batch 2:  Batch loss=0.712125 Validation accuracy = 0.64680\n",
      "Epoch 14, CIFAR-10 Batch 3:  Batch loss=0.672153 Validation accuracy = 0.64140\n",
      "Epoch 14, CIFAR-10 Batch 4:  Batch loss=0.632384 Validation accuracy = 0.64140\n",
      "Epoch 14, CIFAR-10 Batch 5:  Batch loss=0.687129 Validation accuracy = 0.64160\n",
      "Epoch 15, CIFAR-10 Batch 1:  Batch loss=0.646340 Validation accuracy = 0.63800\n",
      "Epoch 15, CIFAR-10 Batch 2:  Batch loss=0.671904 Validation accuracy = 0.65060\n",
      "Epoch 15, CIFAR-10 Batch 3:  Batch loss=0.658917 Validation accuracy = 0.65000\n",
      "Epoch 15, CIFAR-10 Batch 4:  Batch loss=0.617759 Validation accuracy = 0.63280\n",
      "Epoch 15, CIFAR-10 Batch 5:  Batch loss=0.612607 Validation accuracy = 0.65800\n",
      "Epoch 16, CIFAR-10 Batch 1:  Batch loss=0.543559 Validation accuracy = 0.66200\n",
      "Epoch 16, CIFAR-10 Batch 2:  Batch loss=0.630504 Validation accuracy = 0.63840\n",
      "Epoch 16, CIFAR-10 Batch 3:  Batch loss=0.577103 Validation accuracy = 0.66000\n",
      "Epoch 16, CIFAR-10 Batch 4:  Batch loss=0.514874 Validation accuracy = 0.65140\n",
      "Epoch 16, CIFAR-10 Batch 5:  Batch loss=0.572934 Validation accuracy = 0.65200\n",
      "Epoch 17, CIFAR-10 Batch 1:  Batch loss=0.491026 Validation accuracy = 0.66100\n",
      "Epoch 17, CIFAR-10 Batch 2:  Batch loss=0.593799 Validation accuracy = 0.63460\n",
      "Epoch 17, CIFAR-10 Batch 3:  Batch loss=0.545219 Validation accuracy = 0.65200\n",
      "Epoch 17, CIFAR-10 Batch 4:  Batch loss=0.497887 Validation accuracy = 0.65140\n",
      "Epoch 17, CIFAR-10 Batch 5:  Batch loss=0.527634 Validation accuracy = 0.66100\n",
      "Epoch 18, CIFAR-10 Batch 1:  Batch loss=0.441564 Validation accuracy = 0.66980\n",
      "Epoch 18, CIFAR-10 Batch 2:  Batch loss=0.505929 Validation accuracy = 0.65940\n",
      "Epoch 18, CIFAR-10 Batch 3:  Batch loss=0.495373 Validation accuracy = 0.66220\n",
      "Epoch 18, CIFAR-10 Batch 4:  Batch loss=0.451625 Validation accuracy = 0.66620\n",
      "Epoch 18, CIFAR-10 Batch 5:  Batch loss=0.483944 Validation accuracy = 0.66740\n",
      "Epoch 19, CIFAR-10 Batch 1:  Batch loss=0.422380 Validation accuracy = 0.66660\n",
      "Epoch 19, CIFAR-10 Batch 2:  Batch loss=0.487694 Validation accuracy = 0.66140\n",
      "Epoch 19, CIFAR-10 Batch 3:  Batch loss=0.459165 Validation accuracy = 0.66420\n",
      "Epoch 19, CIFAR-10 Batch 4:  Batch loss=0.413893 Validation accuracy = 0.65520\n",
      "Epoch 19, CIFAR-10 Batch 5:  Batch loss=0.407372 Validation accuracy = 0.67220\n",
      "Epoch 20, CIFAR-10 Batch 1:  Batch loss=0.425822 Validation accuracy = 0.66100\n",
      "Epoch 20, CIFAR-10 Batch 2:  Batch loss=0.412594 Validation accuracy = 0.66940\n",
      "Epoch 20, CIFAR-10 Batch 3:  Batch loss=0.403884 Validation accuracy = 0.67340\n",
      "Epoch 20, CIFAR-10 Batch 4:  Batch loss=0.364085 Validation accuracy = 0.66980\n",
      "Epoch 20, CIFAR-10 Batch 5:  Batch loss=0.357483 Validation accuracy = 0.67620\n",
      "Epoch 21, CIFAR-10 Batch 1:  Batch loss=0.365204 Validation accuracy = 0.66820\n",
      "Epoch 21, CIFAR-10 Batch 2:  Batch loss=0.376000 Validation accuracy = 0.66900\n",
      "Epoch 21, CIFAR-10 Batch 3:  Batch loss=0.346108 Validation accuracy = 0.67620\n",
      "Epoch 21, CIFAR-10 Batch 4:  Batch loss=0.322799 Validation accuracy = 0.67960\n"
     ]
    },
    {
     "name": "stdout",
     "output_type": "stream",
     "text": [
      "Epoch 21, CIFAR-10 Batch 5:  Batch loss=0.333625 Validation accuracy = 0.66320\n",
      "Epoch 22, CIFAR-10 Batch 1:  Batch loss=0.387177 Validation accuracy = 0.65600\n",
      "Epoch 22, CIFAR-10 Batch 2:  Batch loss=0.366445 Validation accuracy = 0.65080\n",
      "Epoch 22, CIFAR-10 Batch 3:  Batch loss=0.317538 Validation accuracy = 0.67280\n",
      "Epoch 22, CIFAR-10 Batch 4:  Batch loss=0.305795 Validation accuracy = 0.67500\n",
      "Epoch 22, CIFAR-10 Batch 5:  Batch loss=0.302422 Validation accuracy = 0.65460\n",
      "Epoch 23, CIFAR-10 Batch 1:  Batch loss=0.322899 Validation accuracy = 0.65820\n",
      "Epoch 23, CIFAR-10 Batch 2:  Batch loss=0.317457 Validation accuracy = 0.67060\n",
      "Epoch 23, CIFAR-10 Batch 3:  Batch loss=0.273025 Validation accuracy = 0.66880\n",
      "Epoch 23, CIFAR-10 Batch 4:  Batch loss=0.260338 Validation accuracy = 0.67520\n",
      "Epoch 23, CIFAR-10 Batch 5:  Batch loss=0.259986 Validation accuracy = 0.67460\n",
      "Epoch 24, CIFAR-10 Batch 1:  Batch loss=0.247071 Validation accuracy = 0.67220\n",
      "Epoch 24, CIFAR-10 Batch 2:  Batch loss=0.290199 Validation accuracy = 0.67120\n",
      "Epoch 24, CIFAR-10 Batch 3:  Batch loss=0.255162 Validation accuracy = 0.67220\n",
      "Epoch 24, CIFAR-10 Batch 4:  Batch loss=0.221302 Validation accuracy = 0.68120\n",
      "Epoch 24, CIFAR-10 Batch 5:  Batch loss=0.215357 Validation accuracy = 0.67560\n",
      "Epoch 25, CIFAR-10 Batch 1:  Batch loss=0.218728 Validation accuracy = 0.67560\n",
      "Epoch 25, CIFAR-10 Batch 2:  Batch loss=0.245859 Validation accuracy = 0.66420\n",
      "Epoch 25, CIFAR-10 Batch 3:  Batch loss=0.215391 Validation accuracy = 0.66280\n",
      "Epoch 25, CIFAR-10 Batch 4:  Batch loss=0.243245 Validation accuracy = 0.66980\n",
      "Epoch 25, CIFAR-10 Batch 5:  Batch loss=0.220250 Validation accuracy = 0.67240\n",
      "Epoch 26, CIFAR-10 Batch 1:  Batch loss=0.193998 Validation accuracy = 0.67620\n",
      "Epoch 26, CIFAR-10 Batch 2:  Batch loss=0.203409 Validation accuracy = 0.67960\n",
      "Epoch 26, CIFAR-10 Batch 3:  Batch loss=0.172512 Validation accuracy = 0.67960\n",
      "Epoch 26, CIFAR-10 Batch 4:  Batch loss=0.190914 Validation accuracy = 0.66460\n",
      "Epoch 26, CIFAR-10 Batch 5:  Batch loss=0.190757 Validation accuracy = 0.67160\n",
      "Epoch 27, CIFAR-10 Batch 1:  Batch loss=0.174147 Validation accuracy = 0.68440\n",
      "Epoch 27, CIFAR-10 Batch 2:  Batch loss=0.196122 Validation accuracy = 0.68080\n",
      "Epoch 27, CIFAR-10 Batch 3:  Batch loss=0.162931 Validation accuracy = 0.69020\n",
      "Epoch 27, CIFAR-10 Batch 4:  Batch loss=0.134763 Validation accuracy = 0.68220\n",
      "Epoch 27, CIFAR-10 Batch 5:  Batch loss=0.151740 Validation accuracy = 0.67740\n",
      "Epoch 28, CIFAR-10 Batch 1:  Batch loss=0.150636 Validation accuracy = 0.67260\n",
      "Epoch 28, CIFAR-10 Batch 2:  Batch loss=0.170864 Validation accuracy = 0.66080\n",
      "Epoch 28, CIFAR-10 Batch 3:  Batch loss=0.163922 Validation accuracy = 0.67880\n",
      "Epoch 28, CIFAR-10 Batch 4:  Batch loss=0.122216 Validation accuracy = 0.67540\n",
      "Epoch 28, CIFAR-10 Batch 5:  Batch loss=0.133538 Validation accuracy = 0.67720\n",
      "Epoch 29, CIFAR-10 Batch 1:  Batch loss=0.145176 Validation accuracy = 0.67640\n",
      "Epoch 29, CIFAR-10 Batch 2:  Batch loss=0.132103 Validation accuracy = 0.68420\n",
      "Epoch 29, CIFAR-10 Batch 3:  Batch loss=0.130653 Validation accuracy = 0.67620\n",
      "Epoch 29, CIFAR-10 Batch 4:  Batch loss=0.123247 Validation accuracy = 0.66800\n",
      "Epoch 29, CIFAR-10 Batch 5:  Batch loss=0.114326 Validation accuracy = 0.67480\n",
      "Epoch 30, CIFAR-10 Batch 1:  Batch loss=0.123018 Validation accuracy = 0.67380\n",
      "Epoch 30, CIFAR-10 Batch 2:  Batch loss=0.118223 Validation accuracy = 0.68160\n",
      "Epoch 30, CIFAR-10 Batch 3:  Batch loss=0.108831 Validation accuracy = 0.68340\n",
      "Epoch 30, CIFAR-10 Batch 4:  Batch loss=0.114739 Validation accuracy = 0.67100\n",
      "Epoch 30, CIFAR-10 Batch 5:  Batch loss=0.133898 Validation accuracy = 0.67580\n",
      "Epoch 31, CIFAR-10 Batch 1:  Batch loss=0.095841 Validation accuracy = 0.68360\n",
      "Epoch 31, CIFAR-10 Batch 2:  Batch loss=0.104937 Validation accuracy = 0.68820\n",
      "Epoch 31, CIFAR-10 Batch 3:  Batch loss=0.107570 Validation accuracy = 0.68000\n",
      "Epoch 31, CIFAR-10 Batch 4:  Batch loss=0.090313 Validation accuracy = 0.68200\n",
      "Epoch 31, CIFAR-10 Batch 5:  Batch loss=0.115013 Validation accuracy = 0.67280\n",
      "Epoch 32, CIFAR-10 Batch 1:  Batch loss=0.120814 Validation accuracy = 0.67020\n",
      "Epoch 32, CIFAR-10 Batch 2:  Batch loss=0.117538 Validation accuracy = 0.67960\n",
      "Epoch 32, CIFAR-10 Batch 3:  Batch loss=0.119623 Validation accuracy = 0.66360\n",
      "Epoch 32, CIFAR-10 Batch 4:  Batch loss=0.090169 Validation accuracy = 0.67600\n",
      "Epoch 32, CIFAR-10 Batch 5:  Batch loss=0.087640 Validation accuracy = 0.67980\n",
      "Epoch 33, CIFAR-10 Batch 1:  Batch loss=0.081825 Validation accuracy = 0.67560\n",
      "Epoch 33, CIFAR-10 Batch 2:  Batch loss=0.123676 Validation accuracy = 0.67480\n",
      "Epoch 33, CIFAR-10 Batch 3:  Batch loss=0.110184 Validation accuracy = 0.66560\n",
      "Epoch 33, CIFAR-10 Batch 4:  Batch loss=0.093567 Validation accuracy = 0.67520\n",
      "Epoch 33, CIFAR-10 Batch 5:  Batch loss=0.087860 Validation accuracy = 0.67000\n",
      "Epoch 34, CIFAR-10 Batch 1:  Batch loss=0.058130 Validation accuracy = 0.68380\n",
      "Epoch 34, CIFAR-10 Batch 2:  Batch loss=0.072917 Validation accuracy = 0.68220\n",
      "Epoch 34, CIFAR-10 Batch 3:  Batch loss=0.085401 Validation accuracy = 0.66160\n",
      "Epoch 34, CIFAR-10 Batch 4:  Batch loss=0.091212 Validation accuracy = 0.66460\n",
      "Epoch 34, CIFAR-10 Batch 5:  Batch loss=0.063616 Validation accuracy = 0.68160\n",
      "Epoch 35, CIFAR-10 Batch 1:  Batch loss=0.055073 Validation accuracy = 0.68420\n",
      "Epoch 35, CIFAR-10 Batch 2:  Batch loss=0.071564 Validation accuracy = 0.68540\n",
      "Epoch 35, CIFAR-10 Batch 3:  Batch loss=0.053977 Validation accuracy = 0.68060\n",
      "Epoch 35, CIFAR-10 Batch 4:  Batch loss=0.064248 Validation accuracy = 0.67320\n",
      "Epoch 35, CIFAR-10 Batch 5:  Batch loss=0.064147 Validation accuracy = 0.68440\n",
      "Epoch 36, CIFAR-10 Batch 1:  Batch loss=0.053756 Validation accuracy = 0.67680\n",
      "Epoch 36, CIFAR-10 Batch 2:  Batch loss=0.052145 Validation accuracy = 0.68620\n",
      "Epoch 36, CIFAR-10 Batch 3:  Batch loss=0.055808 Validation accuracy = 0.67700\n",
      "Epoch 36, CIFAR-10 Batch 4:  Batch loss=0.047935 Validation accuracy = 0.68000\n",
      "Epoch 36, CIFAR-10 Batch 5:  Batch loss=0.075176 Validation accuracy = 0.68140\n",
      "Epoch 37, CIFAR-10 Batch 1:  Batch loss=0.059572 Validation accuracy = 0.68840\n",
      "Epoch 37, CIFAR-10 Batch 2:  Batch loss=0.061347 Validation accuracy = 0.67940\n",
      "Epoch 37, CIFAR-10 Batch 3:  Batch loss=0.053670 Validation accuracy = 0.68680\n",
      "Epoch 37, CIFAR-10 Batch 4:  Batch loss=0.032451 Validation accuracy = 0.68920\n",
      "Epoch 37, CIFAR-10 Batch 5:  Batch loss=0.043823 Validation accuracy = 0.68420\n",
      "Epoch 38, CIFAR-10 Batch 1:  Batch loss=0.039171 Validation accuracy = 0.69440\n",
      "Epoch 38, CIFAR-10 Batch 2:  Batch loss=0.034605 Validation accuracy = 0.69000\n",
      "Epoch 38, CIFAR-10 Batch 3:  Batch loss=0.052212 Validation accuracy = 0.69280\n",
      "Epoch 38, CIFAR-10 Batch 4:  Batch loss=0.029722 Validation accuracy = 0.69180\n",
      "Epoch 38, CIFAR-10 Batch 5:  Batch loss=0.038984 Validation accuracy = 0.69440\n",
      "Epoch 39, CIFAR-10 Batch 1:  Batch loss=0.031447 Validation accuracy = 0.69120\n",
      "Epoch 39, CIFAR-10 Batch 2:  Batch loss=0.038173 Validation accuracy = 0.68820\n",
      "Epoch 39, CIFAR-10 Batch 3:  Batch loss=0.028288 Validation accuracy = 0.69360\n",
      "Epoch 39, CIFAR-10 Batch 4:  Batch loss=0.034883 Validation accuracy = 0.68560\n",
      "Epoch 39, CIFAR-10 Batch 5:  Batch loss=0.037159 Validation accuracy = 0.68520\n",
      "Epoch 40, CIFAR-10 Batch 1:  Batch loss=0.038627 Validation accuracy = 0.68580\n",
      "Epoch 40, CIFAR-10 Batch 2:  Batch loss=0.040812 Validation accuracy = 0.69160\n",
      "Epoch 40, CIFAR-10 Batch 3:  Batch loss=0.036290 Validation accuracy = 0.68120\n",
      "Epoch 40, CIFAR-10 Batch 4:  Batch loss=0.023553 Validation accuracy = 0.68420\n",
      "Epoch 40, CIFAR-10 Batch 5:  Batch loss=0.034597 Validation accuracy = 0.68360\n",
      "Epoch 41, CIFAR-10 Batch 1:  Batch loss=0.031196 Validation accuracy = 0.69360\n",
      "Epoch 41, CIFAR-10 Batch 2:  Batch loss=0.033062 Validation accuracy = 0.69220\n",
      "Epoch 41, CIFAR-10 Batch 3:  Batch loss=0.032391 Validation accuracy = 0.68780\n",
      "Epoch 41, CIFAR-10 Batch 4:  Batch loss=0.017085 Validation accuracy = 0.69320\n",
      "Epoch 41, CIFAR-10 Batch 5:  Batch loss=0.020609 Validation accuracy = 0.69040\n",
      "Epoch 42, CIFAR-10 Batch 1:  Batch loss=0.027082 Validation accuracy = 0.68580\n",
      "Epoch 42, CIFAR-10 Batch 2:  Batch loss=0.027815 Validation accuracy = 0.69300\n",
      "Epoch 42, CIFAR-10 Batch 3:  Batch loss=0.035231 Validation accuracy = 0.68040\n"
     ]
    },
    {
     "name": "stdout",
     "output_type": "stream",
     "text": [
      "Epoch 42, CIFAR-10 Batch 4:  Batch loss=0.018552 Validation accuracy = 0.68700\n",
      "Epoch 42, CIFAR-10 Batch 5:  Batch loss=0.020803 Validation accuracy = 0.68220\n",
      "Epoch 43, CIFAR-10 Batch 1:  Batch loss=0.018776 Validation accuracy = 0.68740\n",
      "Epoch 43, CIFAR-10 Batch 2:  Batch loss=0.017559 Validation accuracy = 0.69580\n",
      "Epoch 43, CIFAR-10 Batch 3:  Batch loss=0.025877 Validation accuracy = 0.68200\n",
      "Epoch 43, CIFAR-10 Batch 4:  Batch loss=0.015870 Validation accuracy = 0.68340\n",
      "Epoch 43, CIFAR-10 Batch 5:  Batch loss=0.018522 Validation accuracy = 0.68540\n",
      "Epoch 44, CIFAR-10 Batch 1:  Batch loss=0.022560 Validation accuracy = 0.68700\n",
      "Epoch 44, CIFAR-10 Batch 2:  Batch loss=0.019454 Validation accuracy = 0.69660\n",
      "Epoch 44, CIFAR-10 Batch 3:  Batch loss=0.024393 Validation accuracy = 0.68660\n",
      "Epoch 44, CIFAR-10 Batch 4:  Batch loss=0.013407 Validation accuracy = 0.69320\n",
      "Epoch 44, CIFAR-10 Batch 5:  Batch loss=0.013221 Validation accuracy = 0.68760\n",
      "Epoch 45, CIFAR-10 Batch 1:  Batch loss=0.028071 Validation accuracy = 0.69380\n",
      "Epoch 45, CIFAR-10 Batch 2:  Batch loss=0.017749 Validation accuracy = 0.69200\n",
      "Epoch 45, CIFAR-10 Batch 3:  Batch loss=0.015386 Validation accuracy = 0.68140\n",
      "Epoch 45, CIFAR-10 Batch 4:  Batch loss=0.013410 Validation accuracy = 0.67980\n",
      "Epoch 45, CIFAR-10 Batch 5:  Batch loss=0.015988 Validation accuracy = 0.68500\n",
      "Epoch 46, CIFAR-10 Batch 1:  Batch loss=0.020644 Validation accuracy = 0.69160\n",
      "Epoch 46, CIFAR-10 Batch 2:  Batch loss=0.020682 Validation accuracy = 0.69360\n",
      "Epoch 46, CIFAR-10 Batch 3:  Batch loss=0.039674 Validation accuracy = 0.66580\n",
      "Epoch 46, CIFAR-10 Batch 4:  Batch loss=0.014509 Validation accuracy = 0.68340\n",
      "Epoch 46, CIFAR-10 Batch 5:  Batch loss=0.016121 Validation accuracy = 0.68980\n",
      "Epoch 47, CIFAR-10 Batch 1:  Batch loss=0.020902 Validation accuracy = 0.68700\n",
      "Epoch 47, CIFAR-10 Batch 2:  Batch loss=0.018920 Validation accuracy = 0.68840\n",
      "Epoch 47, CIFAR-10 Batch 3:  Batch loss=0.010992 Validation accuracy = 0.68720\n",
      "Epoch 47, CIFAR-10 Batch 4:  Batch loss=0.008654 Validation accuracy = 0.69300\n",
      "Epoch 47, CIFAR-10 Batch 5:  Batch loss=0.017276 Validation accuracy = 0.68740\n",
      "Epoch 48, CIFAR-10 Batch 1:  Batch loss=0.012867 Validation accuracy = 0.68980\n",
      "Epoch 48, CIFAR-10 Batch 2:  Batch loss=0.013428 Validation accuracy = 0.68220\n",
      "Epoch 48, CIFAR-10 Batch 3:  Batch loss=0.007480 Validation accuracy = 0.68680\n",
      "Epoch 48, CIFAR-10 Batch 4:  Batch loss=0.010703 Validation accuracy = 0.68960\n",
      "Epoch 48, CIFAR-10 Batch 5:  Batch loss=0.013619 Validation accuracy = 0.69360\n",
      "Epoch 49, CIFAR-10 Batch 1:  Batch loss=0.016612 Validation accuracy = 0.68840\n",
      "Epoch 49, CIFAR-10 Batch 2:  Batch loss=0.015989 Validation accuracy = 0.68780\n",
      "Epoch 49, CIFAR-10 Batch 3:  Batch loss=0.011584 Validation accuracy = 0.69000\n",
      "Epoch 49, CIFAR-10 Batch 4:  Batch loss=0.016113 Validation accuracy = 0.68560\n",
      "Epoch 49, CIFAR-10 Batch 5:  Batch loss=0.015151 Validation accuracy = 0.68700\n",
      "Epoch 50, CIFAR-10 Batch 1:  Batch loss=0.017256 Validation accuracy = 0.68500\n",
      "Epoch 50, CIFAR-10 Batch 2:  Batch loss=0.020409 Validation accuracy = 0.68500\n",
      "Epoch 50, CIFAR-10 Batch 3:  Batch loss=0.009722 Validation accuracy = 0.69300\n",
      "Epoch 50, CIFAR-10 Batch 4:  Batch loss=0.005196 Validation accuracy = 0.68680\n",
      "Epoch 50, CIFAR-10 Batch 5:  Batch loss=0.010080 Validation accuracy = 0.69060\n"
     ]
    }
   ],
   "source": [
    "\"\"\"\n",
    "DON'T MODIFY ANYTHING IN THIS CELL\n",
    "\"\"\"\n",
    "save_model_path = './image_classification'\n",
    "\n",
    "print('Training...')\n",
    "with tf.Session() as sess:\n",
    "    # Initializing the variables\n",
    "    sess.run(tf.global_variables_initializer())\n",
    "    \n",
    "    # Training cycle\n",
    "    for epoch in range(epochs):\n",
    "        # Loop over all batches\n",
    "        n_batches = 5\n",
    "        for batch_i in range(1, n_batches + 1):\n",
    "            for batch_features, batch_labels in helper.load_preprocess_training_batch(batch_i, batch_size):\n",
    "                train_neural_network(sess, optimizer, keep_probability, batch_features, batch_labels)\n",
    "            print('Epoch {:>2}, CIFAR-10 Batch {}:  '.format(epoch + 1, batch_i), end='')\n",
    "            print_stats(sess, batch_features, batch_labels, cost, accuracy)\n",
    "            \n",
    "    # Save Model\n",
    "    saver = tf.train.Saver()\n",
    "    save_path = saver.save(sess, save_model_path)"
   ]
  },
  {
   "cell_type": "markdown",
   "metadata": {},
   "source": [
    "# Checkpoint\n",
    "The model has been saved to disk.\n",
    "## Test Model\n",
    "Test your model against the test dataset.  This will be your final accuracy. You should have an accuracy greater than 50%. If you don't, keep tweaking the model architecture and parameters."
   ]
  },
  {
   "cell_type": "code",
   "execution_count": 38,
   "metadata": {},
   "outputs": [
    {
     "name": "stdout",
     "output_type": "stream",
     "text": [
      "INFO:tensorflow:Restoring parameters from ./image_classification\n",
      "Testing Accuracy: 0.6849091231822968\n",
      "\n"
     ]
    },
    {
     "data": {
      "image/png": "[encoded data removed]",
      "text/plain": [
       "<matplotlib.figure.Figure at 0x7f8393f39358>"
      ]
     },
     "metadata": {
      "image/png": {
       "height": 319,
       "width": 355
      }
     },
     "output_type": "display_data"
    }
   ],
   "source": [
    "\"\"\"\n",
    "DON'T MODIFY ANYTHING IN THIS CELL\n",
    "\"\"\"\n",
    "%matplotlib inline\n",
    "%config InlineBackend.figure_format = 'retina'\n",
    "\n",
    "import tensorflow as tf\n",
    "import pickle\n",
    "import helper\n",
    "import random\n",
    "\n",
    "# Set batch size if not already set\n",
    "try:\n",
    "    if batch_size:\n",
    "        pass\n",
    "except NameError:\n",
    "    batch_size = 64\n",
    "\n",
    "save_model_path = './image_classification'\n",
    "n_samples = 4\n",
    "top_n_predictions = 3\n",
    "\n",
    "def test_model():\n",
    "    \"\"\"\n",
    "    Test the saved model against the test dataset\n",
    "    \"\"\"\n",
    "\n",
    "    test_features, test_labels = pickle.load(open('preprocess_test.p', mode='rb'))\n",
    "    loaded_graph = tf.Graph()\n",
    "\n",
    "    with tf.Session(graph=loaded_graph) as sess:\n",
    "        # Load model\n",
    "        loader = tf.train.import_meta_graph(save_model_path + '.meta')\n",
    "        loader.restore(sess, save_model_path)\n",
    "\n",
    "        # Get Tensors from loaded model\n",
    "        loaded_x = loaded_graph.get_tensor_by_name('x:0')\n",
    "        loaded_y = loaded_graph.get_tensor_by_name('y:0')\n",
    "        loaded_keep_prob = loaded_graph.get_tensor_by_name('keep_prob:0')\n",
    "        loaded_logits = loaded_graph.get_tensor_by_name('logits:0')\n",
    "        loaded_acc = loaded_graph.get_tensor_by_name('accuracy:0')\n",
    "        \n",
    "        # Get accuracy in batches for memory limitations\n",
    "        test_batch_acc_total = 0\n",
    "        test_batch_count = 0\n",
    "        \n",
    "        for test_feature_batch, test_label_batch in helper.batch_features_labels(test_features, test_labels, batch_size):\n",
    "            test_batch_acc_total += sess.run(\n",
    "                loaded_acc,\n",
    "                feed_dict={loaded_x: test_feature_batch, loaded_y: test_label_batch, loaded_keep_prob: 1.0})\n",
    "            test_batch_count += 1\n",
    "\n",
    "        print('Testing Accuracy: {}\\n'.format(test_batch_acc_total/test_batch_count))\n",
    "\n",
    "        # Print Random Samples\n",
    "        random_test_features, random_test_labels = tuple(zip(*random.sample(list(zip(test_features, test_labels)), n_samples)))\n",
    "        random_test_predictions = sess.run(\n",
    "            tf.nn.top_k(tf.nn.softmax(loaded_logits), top_n_predictions),\n",
    "            feed_dict={loaded_x: random_test_features, loaded_y: random_test_labels, loaded_keep_prob: 1.0})\n",
    "        helper.display_image_predictions(random_test_features, random_test_labels, random_test_predictions)\n",
    "\n",
    "\n",
    "test_model()"
   ]
  },
  {
   "cell_type": "markdown",
   "metadata": {},
   "source": [
    "## Why 50-80% Accuracy?\n",
    "You might be wondering why you can't get an accuracy any higher. First things first, 50% isn't bad for a simple CNN.  Pure guessing would get you 10% accuracy. However, you might notice people are getting scores [well above 80%](http://rodrigob.github.io/are_we_there_yet/build/classification_datasets_results.html#43494641522d3130).  That's because we haven't taught you all there is to know about neural networks. We still need to cover a few more techniques.\n",
    "## Submitting This Project\n",
    "When submitting this project, make sure to run all the cells before saving the notebook.  Save the notebook file as \"dlnd_image_classification.ipynb\" and save it as a HTML file under \"File\" -> \"Download as\".  Include the \"helper.py\" and \"problem_unittests.py\" files in your submission."
   ]
  }
 ],
 "metadata": {
  "kernelspec": {
   "display_name": "Python 3",
   "language": "python",
   "name": "python3"
  },
  "language_info": {
   "codemirror_mode": {
    "name": "ipython",
    "version": 3
   },
   "file_extension": ".py",
   "mimetype": "text/x-python",
   "name": "python",
   "nbconvert_exporter": "python",
   "pygments_lexer": "ipython3",
   "version": "3.5.3"
  }
 },
 "nbformat": 4,
 "nbformat_minor": 1
}

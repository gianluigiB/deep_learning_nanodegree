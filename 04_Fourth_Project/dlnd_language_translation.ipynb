{
 "cells": [
  {
   "cell_type": "markdown",
   "metadata": {
    "collapsed": true
   },
   "source": [
    "# Language Translation\n",
    "In this project, you’re going to take a peek into the realm of neural network machine translation.  You’ll be training a sequence to sequence model on a dataset of English and French sentences that can translate new sentences from English to French.\n",
    "## Get the Data\n",
    "Since translating the whole language of English to French will take lots of time to train, we have provided you with a small portion of the English corpus."
   ]
  },
  {
   "cell_type": "code",
   "execution_count": 1,
   "metadata": {
    "collapsed": true
   },
   "outputs": [],
   "source": [
    "\"\"\"\n",
    "DON'T MODIFY ANYTHING IN THIS CELL\n",
    "\"\"\"\n",
    "import helper\n",
    "import problem_unittests as tests\n",
    "\n",
    "source_path = 'data/small_vocab_en'\n",
    "target_path = 'data/small_vocab_fr'\n",
    "source_text = helper.load_data(source_path)\n",
    "target_text = helper.load_data(target_path)"
   ]
  },
  {
   "cell_type": "markdown",
   "metadata": {},
   "source": [
    "## Explore the Data\n",
    "Play around with view_sentence_range to view different parts of the data."
   ]
  },
  {
   "cell_type": "code",
   "execution_count": 2,
   "metadata": {},
   "outputs": [
    {
     "name": "stdout",
     "output_type": "stream",
     "text": [
      "Dataset Stats\n",
      "Roughly the number of unique words: 227\n",
      "Number of sentences: 137861\n",
      "Average number of words in a sentence: 13.225277634719028\n",
      "\n",
      "English sentences 0 to 10:\n",
      "new jersey is sometimes quiet during autumn , and it is snowy in april .\n",
      "the united states is usually chilly during july , and it is usually freezing in november .\n",
      "california is usually quiet during march , and it is usually hot in june .\n",
      "the united states is sometimes mild during june , and it is cold in september .\n",
      "your least liked fruit is the grape , but my least liked is the apple .\n",
      "his favorite fruit is the orange , but my favorite is the grape .\n",
      "paris is relaxing during december , but it is usually chilly in july .\n",
      "new jersey is busy during spring , and it is never hot in march .\n",
      "our least liked fruit is the lemon , but my least liked is the grape .\n",
      "the united states is sometimes busy during january , and it is sometimes warm in november .\n",
      "\n",
      "French sentences 0 to 10:\n",
      "new jersey est parfois calme pendant l' automne , et il est neigeux en avril .\n",
      "les états-unis est généralement froid en juillet , et il gèle habituellement en novembre .\n",
      "california est généralement calme en mars , et il est généralement chaud en juin .\n",
      "les états-unis est parfois légère en juin , et il fait froid en septembre .\n",
      "votre moins aimé fruit est le raisin , mais mon moins aimé est la pomme .\n",
      "son fruit préféré est l'orange , mais mon préféré est le raisin .\n",
      "paris est relaxant en décembre , mais il est généralement froid en juillet .\n",
      "new jersey est occupé au printemps , et il est jamais chaude en mars .\n",
      "notre fruit est moins aimé le citron , mais mon moins aimé est le raisin .\n",
      "les états-unis est parfois occupé en janvier , et il est parfois chaud en novembre .\n"
     ]
    }
   ],
   "source": [
    "view_sentence_range = (0, 10)\n",
    "\n",
    "\"\"\"\n",
    "DON'T MODIFY ANYTHING IN THIS CELL\n",
    "\"\"\"\n",
    "import numpy as np\n",
    "\n",
    "print('Dataset Stats')\n",
    "print('Roughly the number of unique words: {}'.format(len({word: None for word in source_text.split()})))\n",
    "\n",
    "sentences = source_text.split('\\n')\n",
    "word_counts = [len(sentence.split()) for sentence in sentences]\n",
    "print('Number of sentences: {}'.format(len(sentences)))\n",
    "print('Average number of words in a sentence: {}'.format(np.average(word_counts)))\n",
    "\n",
    "print()\n",
    "print('English sentences {} to {}:'.format(*view_sentence_range))\n",
    "print('\\n'.join(source_text.split('\\n')[view_sentence_range[0]:view_sentence_range[1]]))\n",
    "print()\n",
    "print('French sentences {} to {}:'.format(*view_sentence_range))\n",
    "print('\\n'.join(target_text.split('\\n')[view_sentence_range[0]:view_sentence_range[1]]))"
   ]
  },
  {
   "cell_type": "markdown",
   "metadata": {},
   "source": [
    "## Implement Preprocessing Function\n",
    "### Text to Word Ids\n",
    "As you did with other RNNs, you must turn the text into a number so the computer can understand it. In the function `text_to_ids()`, you'll turn `source_text` and `target_text` from words to ids.  However, you need to add the `<EOS>` word id at the end of `target_text`.  This will help the neural network predict when the sentence should end.\n",
    "\n",
    "You can get the `<EOS>` word id by doing:\n",
    "```python\n",
    "target_vocab_to_int['<EOS>']\n",
    "```\n",
    "You can get other word ids using `source_vocab_to_int` and `target_vocab_to_int`."
   ]
  },
  {
   "cell_type": "code",
   "execution_count": 3,
   "metadata": {},
   "outputs": [
    {
     "name": "stdout",
     "output_type": "stream",
     "text": [
      "Tests Passed\n"
     ]
    }
   ],
   "source": [
    "def text_to_ids(source_text, target_text, source_vocab_to_int, target_vocab_to_int):\n",
    "    \"\"\"\n",
    "    Convert source and target text to proper word ids\n",
    "    :param source_text: String that contains all the source text.\n",
    "    :param target_text: String that contains all the target text.\n",
    "    :param source_vocab_to_int: Dictionary to go from the source words to an id\n",
    "    :param target_vocab_to_int: Dictionary to go from the target words to an id\n",
    "    :return: A tuple of lists (source_id_text, target_id_text)\n",
    "    \"\"\"\n",
    "    source_sentence_list = source_text.strip().split('\\n')\n",
    "    target_sentence_list = target_text.strip().split('\\n')\n",
    "    \n",
    "    ssl_ids = []\n",
    "    for sentence in source_sentence_list:\n",
    "        sentence_words = sentence.strip().replace('  ', ' ').split(' ') \n",
    "        ssl_ids.append([source_vocab_to_int[word] for word in sentence_words])\n",
    "        \n",
    "    tsl_ids = []\n",
    "    for sentence in target_sentence_list:\n",
    "        sentence_words = sentence.strip().replace('  ', ' ').split(' ') \n",
    "        tsl_ids.append([target_vocab_to_int[word] for word in sentence_words] + [target_vocab_to_int['<EOS>']])\n",
    "    \n",
    "    return (ssl_ids, tsl_ids)\n",
    "\n",
    "\"\"\"\n",
    "DON'T MODIFY ANYTHING IN THIS CELL THAT IS BELOW THIS LINE\n",
    "\"\"\"\n",
    "tests.test_text_to_ids(text_to_ids)"
   ]
  },
  {
   "cell_type": "markdown",
   "metadata": {},
   "source": [
    "### Preprocess all the data and save it\n",
    "Running the code cell below will preprocess all the data and save it to file."
   ]
  },
  {
   "cell_type": "code",
   "execution_count": 4,
   "metadata": {
    "collapsed": true
   },
   "outputs": [],
   "source": [
    "\"\"\"\n",
    "DON'T MODIFY ANYTHING IN THIS CELL\n",
    "\"\"\"\n",
    "helper.preprocess_and_save_data(source_path, target_path, text_to_ids)"
   ]
  },
  {
   "cell_type": "markdown",
   "metadata": {},
   "source": [
    "# Check Point\n",
    "This is your first checkpoint. If you ever decide to come back to this notebook or have to restart the notebook, you can start from here. The preprocessed data has been saved to disk."
   ]
  },
  {
   "cell_type": "code",
   "execution_count": 5,
   "metadata": {
    "collapsed": true
   },
   "outputs": [],
   "source": [
    "\"\"\"\n",
    "DON'T MODIFY ANYTHING IN THIS CELL\n",
    "\"\"\"\n",
    "import numpy as np\n",
    "import helper\n",
    "import problem_unittests as tests\n",
    "\n",
    "(source_int_text, target_int_text), (source_vocab_to_int, target_vocab_to_int), _ = helper.load_preprocess()"
   ]
  },
  {
   "cell_type": "markdown",
   "metadata": {},
   "source": [
    "### Check the Version of TensorFlow and Access to GPU\n",
    "This will check to make sure you have the correct version of TensorFlow and access to a GPU"
   ]
  },
  {
   "cell_type": "code",
   "execution_count": 6,
   "metadata": {},
   "outputs": [
    {
     "name": "stdout",
     "output_type": "stream",
     "text": [
      "TensorFlow Version: 1.1.0\n"
     ]
    },
    {
     "name": "stderr",
     "output_type": "stream",
     "text": [
      "/home/gianluigi/anaconda3/envs/tensorflow/lib/python3.6/site-packages/ipykernel/__main__.py:15: UserWarning: No GPU found. Please use a GPU to train your neural network.\n"
     ]
    }
   ],
   "source": [
    "\"\"\"\n",
    "DON'T MODIFY ANYTHING IN THIS CELL\n",
    "\"\"\"\n",
    "from distutils.version import LooseVersion\n",
    "import warnings\n",
    "import tensorflow as tf\n",
    "from tensorflow.python.layers.core import Dense\n",
    "\n",
    "# Check TensorFlow Version\n",
    "assert LooseVersion(tf.__version__) >= LooseVersion('1.1'), 'Please use TensorFlow version 1.1 or newer'\n",
    "print('TensorFlow Version: {}'.format(tf.__version__))\n",
    "\n",
    "# Check for a GPU\n",
    "if not tf.test.gpu_device_name():\n",
    "    warnings.warn('No GPU found. Please use a GPU to train your neural network.')\n",
    "else:\n",
    "    print('Default GPU Device: {}'.format(tf.test.gpu_device_name()))"
   ]
  },
  {
   "cell_type": "markdown",
   "metadata": {},
   "source": [
    "## Build the Neural Network\n",
    "You'll build the components necessary to build a Sequence-to-Sequence model by implementing the following functions below:\n",
    "- `model_inputs`\n",
    "- `process_decoder_input`\n",
    "- `encoding_layer`\n",
    "- `decoding_layer_train`\n",
    "- `decoding_layer_infer`\n",
    "- `decoding_layer`\n",
    "- `seq2seq_model`\n",
    "\n",
    "### Input\n",
    "Implement the `model_inputs()` function to create TF Placeholders for the Neural Network. It should create the following placeholders:\n",
    "\n",
    "- Input text placeholder named \"input\" using the TF Placeholder name parameter with rank 2.\n",
    "- Targets placeholder with rank 2.\n",
    "- Learning rate placeholder with rank 0.\n",
    "- Keep probability placeholder named \"keep_prob\" using the TF Placeholder name parameter with rank 0.\n",
    "- Target sequence length placeholder named \"target_sequence_length\" with rank 1\n",
    "- Max target sequence length tensor named \"max_target_len\" getting its value from applying tf.reduce_max on the target_sequence_length placeholder. Rank 0.\n",
    "- Source sequence length placeholder named \"source_sequence_length\" with rank 1\n",
    "\n",
    "Return the placeholders in the following the tuple (input, targets, learning rate, keep probability, target sequence length, max target sequence length, source sequence length)"
   ]
  },
  {
   "cell_type": "code",
   "execution_count": 7,
   "metadata": {},
   "outputs": [
    {
     "name": "stdout",
     "output_type": "stream",
     "text": [
      "Tests Passed\n"
     ]
    }
   ],
   "source": [
    "def model_inputs():\n",
    "    \"\"\"\n",
    "    Create TF Placeholders for input, targets, learning rate, and lengths of source and target sequences.\n",
    "    :return: Tuple (input, targets, learning rate, keep probability, target sequence length,\n",
    "    max target sequence length, source sequence length)\n",
    "    \"\"\"\n",
    "    inputs = tf.placeholder(tf.int32, [None, None], name='input')\n",
    "    targets = tf.placeholder(tf.int32, [None, None], name='targets')\n",
    "    learning_rate = tf.placeholder(tf.float32, name='LearningRate')\n",
    "    keep_prob = tf.placeholder(tf.float32, name='keep_prob')\n",
    "    target_sequence_length = tf.placeholder(tf.int32, [None], name='target_sequence_length')\n",
    "    max_target_len = tf.reduce_max(target_sequence_length, name='max_target_len')\n",
    "    source_sequence_length = tf.placeholder(tf.int32, [None], name='source_sequence_length')\n",
    "    \n",
    "    return inputs, targets, learning_rate, keep_prob, target_sequence_length, max_target_len, source_sequence_length\n",
    "\n",
    "\n",
    "\"\"\"\n",
    "DON'T MODIFY ANYTHING IN THIS CELL THAT IS BELOW THIS LINE\n",
    "\"\"\"\n",
    "tests.test_model_inputs(model_inputs)"
   ]
  },
  {
   "cell_type": "markdown",
   "metadata": {},
   "source": [
    "### Process Decoder Input\n",
    "Implement `process_decoder_input` by removing the last word id from each batch in `target_data` and concat the GO ID to the begining of each batch."
   ]
  },
  {
   "cell_type": "code",
   "execution_count": 8,
   "metadata": {},
   "outputs": [
    {
     "name": "stdout",
     "output_type": "stream",
     "text": [
      "Tests Passed\n"
     ]
    }
   ],
   "source": [
    "def process_decoder_input(target_data, target_vocab_to_int, batch_size):\n",
    "    \"\"\"\n",
    "    Preprocess target data for encoding\n",
    "    :param target_data: Target Placehoder\n",
    "    :param target_vocab_to_int: Dictionary to go from the target words to an id\n",
    "    :param batch_size: Batch Size\n",
    "    :return: Preprocessed target data\n",
    "    \"\"\"\n",
    "    # Thanks to Mat seq2seq lesson\n",
    "    ending = tf.strided_slice(target_data, [0, 0], [batch_size, -1], [1, 1])\n",
    "    dec_input = tf.concat([tf.fill([batch_size, 1], target_vocab_to_int['<GO>']), ending], 1)\n",
    "    return dec_input\n",
    "\n",
    "\"\"\"\n",
    "DON'T MODIFY ANYTHING IN THIS CELL THAT IS BELOW THIS LINE\n",
    "\"\"\"\n",
    "tests.test_process_encoding_input(process_decoder_input)"
   ]
  },
  {
   "cell_type": "markdown",
   "metadata": {},
   "source": [
    "### Encoding\n",
    "Implement `encoding_layer()` to create a Encoder RNN layer:\n",
    " * Embed the encoder input using [`tf.contrib.layers.embed_sequence`](https://www.tensorflow.org/api_docs/python/tf/contrib/layers/embed_sequence)\n",
    " * Construct a [stacked](https://github.com/tensorflow/tensorflow/blob/6947f65a374ebf29e74bb71e36fd82760056d82c/tensorflow/docs_src/tutorials/recurrent.md#stacking-multiple-lstms) [`tf.contrib.rnn.LSTMCell`](https://www.tensorflow.org/api_docs/python/tf/contrib/rnn/LSTMCell) wrapped in a [`tf.contrib.rnn.DropoutWrapper`](https://www.tensorflow.org/api_docs/python/tf/contrib/rnn/DropoutWrapper)\n",
    " * Pass cell and embedded input to [`tf.nn.dynamic_rnn()`](https://www.tensorflow.org/api_docs/python/tf/nn/dynamic_rnn)"
   ]
  },
  {
   "cell_type": "code",
   "execution_count": 9,
   "metadata": {
    "scrolled": false
   },
   "outputs": [
    {
     "name": "stdout",
     "output_type": "stream",
     "text": [
      "Tests Passed\n"
     ]
    }
   ],
   "source": [
    "from imp import reload\n",
    "reload(tests)\n",
    "\n",
    "def encoding_layer(rnn_inputs, rnn_size, num_layers, keep_prob, \n",
    "                   source_sequence_length, source_vocab_size, \n",
    "                   encoding_embedding_size):\n",
    "    \"\"\"\n",
    "    Create encoding layer\n",
    "    :param rnn_inputs: Inputs for the RNN\n",
    "    :param rnn_size: RNN Size\n",
    "    :param num_layers: Number of layers\n",
    "    :param keep_prob: Dropout keep probability\n",
    "    :param source_sequence_length: a list of the lengths of each sequence in the batch\n",
    "    :param source_vocab_size: vocabulary size of source data\n",
    "    :param encoding_embedding_size: embedding size of source data\n",
    "    :return: tuple (RNN output, RNN state)\n",
    "    \"\"\"\n",
    "    # Thanks to Mat seq2seq lesson\n",
    "    \n",
    "    # Encoder embedding\n",
    "    enc_embed_input = tf.contrib.layers.embed_sequence(rnn_inputs, source_vocab_size, encoding_embedding_size)\n",
    "    \n",
    "    # RNN cell\n",
    "    def make_cell(rnn_size):\n",
    "        enc_cell = tf.contrib.rnn.LSTMCell(rnn_size, initializer=tf.random_uniform_initializer(-0.1, 0.1, seed=2))\n",
    "        return enc_cell\n",
    "\n",
    "    enc_cell = tf.contrib.rnn.MultiRNNCell([make_cell(rnn_size) for _ in range(num_layers)])\n",
    "    enc_cell = tf.contrib.rnn.DropoutWrapper(enc_cell, input_keep_prob=keep_prob)\n",
    "    enc_output, enc_state = tf.nn.dynamic_rnn(enc_cell, enc_embed_input, sequence_length=source_sequence_length, dtype=tf.float32)\n",
    "    \n",
    "    return enc_output, enc_state\n",
    "\n",
    "\"\"\"\n",
    "DON'T MODIFY ANYTHING IN THIS CELL THAT IS BELOW THIS LINE\n",
    "\"\"\"\n",
    "tests.test_encoding_layer(encoding_layer)"
   ]
  },
  {
   "cell_type": "markdown",
   "metadata": {},
   "source": [
    "### Decoding - Training\n",
    "Create a training decoding layer:\n",
    "* Create a [`tf.contrib.seq2seq.TrainingHelper`](https://www.tensorflow.org/api_docs/python/tf/contrib/seq2seq/TrainingHelper) \n",
    "* Create a [`tf.contrib.seq2seq.BasicDecoder`](https://www.tensorflow.org/api_docs/python/tf/contrib/seq2seq/BasicDecoder)\n",
    "* Obtain the decoder outputs from [`tf.contrib.seq2seq.dynamic_decode`](https://www.tensorflow.org/api_docs/python/tf/contrib/seq2seq/dynamic_decode)"
   ]
  },
  {
   "cell_type": "code",
   "execution_count": 10,
   "metadata": {},
   "outputs": [
    {
     "name": "stdout",
     "output_type": "stream",
     "text": [
      "Tests Passed\n"
     ]
    }
   ],
   "source": [
    "def decoding_layer_train(encoder_state, dec_cell, dec_embed_input, \n",
    "                         target_sequence_length, max_summary_length, \n",
    "                         output_layer, keep_prob):\n",
    "    \"\"\"\n",
    "    Create a decoding layer for training\n",
    "    :param encoder_state: Encoder State\n",
    "    :param dec_cell: Decoder RNN Cell\n",
    "    :param dec_embed_input: Decoder embedded input\n",
    "    :param target_sequence_length: The lengths of each sequence in the target batch\n",
    "    :param max_summary_length: The length of the longest sequence in the batch\n",
    "    :param output_layer: Function to apply the output layer\n",
    "    :param keep_prob: Dropout keep probability\n",
    "    :return: BasicDecoderOutput containing training logits and sample_id\n",
    "    \"\"\"\n",
    "    # Thanks to Mat seq2seq lesson\n",
    "   \n",
    "    # Helper for the training process. Used by BasicDecoder to read inputs.\n",
    "    training_helper = tf.contrib.seq2seq.TrainingHelper(inputs=dec_embed_input,\n",
    "                                                        sequence_length=target_sequence_length,\n",
    "                                                        time_major=False)\n",
    "    # Basic decoder\n",
    "    training_decoder = tf.contrib.seq2seq.BasicDecoder(dec_cell,\n",
    "                                                       training_helper,\n",
    "                                                       encoder_state,\n",
    "                                                       output_layer) \n",
    "    # Perform dynamic decoding using the decoder\n",
    "    training_decoder_output = tf.contrib.seq2seq.dynamic_decode(training_decoder,\n",
    "                                                                   impute_finished=True,\n",
    "                                                                   maximum_iterations=max_summary_length)[0]\n",
    "    return training_decoder_output\n",
    "\n",
    "\n",
    "\"\"\"\n",
    "DON'T MODIFY ANYTHING IN THIS CELL THAT IS BELOW THIS LINE\n",
    "\"\"\"\n",
    "tests.test_decoding_layer_train(decoding_layer_train)"
   ]
  },
  {
   "cell_type": "markdown",
   "metadata": {},
   "source": [
    "### Decoding - Inference\n",
    "Create inference decoder:\n",
    "* Create a [`tf.contrib.seq2seq.GreedyEmbeddingHelper`](https://www.tensorflow.org/api_docs/python/tf/contrib/seq2seq/GreedyEmbeddingHelper)\n",
    "* Create a [`tf.contrib.seq2seq.BasicDecoder`](https://www.tensorflow.org/api_docs/python/tf/contrib/seq2seq/BasicDecoder)\n",
    "* Obtain the decoder outputs from [`tf.contrib.seq2seq.dynamic_decode`](https://www.tensorflow.org/api_docs/python/tf/contrib/seq2seq/dynamic_decode)"
   ]
  },
  {
   "cell_type": "code",
   "execution_count": 11,
   "metadata": {
    "scrolled": true
   },
   "outputs": [
    {
     "name": "stdout",
     "output_type": "stream",
     "text": [
      "Tests Passed\n"
     ]
    }
   ],
   "source": [
    "def decoding_layer_infer(encoder_state, dec_cell, dec_embeddings, start_of_sequence_id,\n",
    "                         end_of_sequence_id, max_target_sequence_length,\n",
    "                         vocab_size, output_layer, batch_size, keep_prob):\n",
    "    \"\"\"\n",
    "    Create a decoding layer for inference\n",
    "    :param encoder_state: Encoder state\n",
    "    :param dec_cell: Decoder RNN Cell\n",
    "    :param dec_embeddings: Decoder embeddings\n",
    "    :param start_of_sequence_id: GO ID\n",
    "    :param end_of_sequence_id: EOS Id\n",
    "    :param max_target_sequence_length: Maximum length of target sequences\n",
    "    :param vocab_size: Size of decoder/target vocabulary\n",
    "    :param decoding_scope: TenorFlow Variable Scope for decoding\n",
    "    :param output_layer: Function to apply the output layer\n",
    "    :param batch_size: Batch size\n",
    "    :param keep_prob: Dropout keep probability\n",
    "    :return: BasicDecoderOutput containing inference logits and sample_id\n",
    "    \"\"\"\n",
    "    # Thanks to Mat seq2seq lesson\n",
    "    \n",
    "    start_tokens = tf.tile(tf.constant([start_of_sequence_id], dtype=tf.int32), [batch_size], name='start_tokens')\n",
    "    # Helper for the inference process.\n",
    "    inference_helper = tf.contrib.seq2seq.GreedyEmbeddingHelper(dec_embeddings,\n",
    "                                                            start_tokens,\n",
    "                                                            end_of_sequence_id)\n",
    "    # Basic decoder\n",
    "    inference_decoder = tf.contrib.seq2seq.BasicDecoder(dec_cell,\n",
    "                                                    inference_helper,\n",
    "                                                    encoder_state,\n",
    "                                                    output_layer)\n",
    "    # Perform dynamic decoding using the decoder\n",
    "    inference_decoder_output = tf.contrib.seq2seq.dynamic_decode(inference_decoder,\n",
    "                                                        impute_finished=True,\n",
    "                                                        maximum_iterations=max_target_sequence_length)[0]\n",
    "    return inference_decoder_output\n",
    "\n",
    "\"\"\"\n",
    "DON'T MODIFY ANYTHING IN THIS CELL THAT IS BELOW THIS LINE\n",
    "\"\"\"\n",
    "tests.test_decoding_layer_infer(decoding_layer_infer)"
   ]
  },
  {
   "cell_type": "markdown",
   "metadata": {},
   "source": [
    "### Build the Decoding Layer\n",
    "Implement `decoding_layer()` to create a Decoder RNN layer.\n",
    "\n",
    "* Embed the target sequences\n",
    "* Construct the decoder LSTM cell (just like you constructed the encoder cell above)\n",
    "* Create an output layer to map the outputs of the decoder to the elements of our vocabulary\n",
    "* Use the your `decoding_layer_train(encoder_state, dec_cell, dec_embed_input, target_sequence_length, max_target_sequence_length, output_layer, keep_prob)` function to get the training logits.\n",
    "* Use your `decoding_layer_infer(encoder_state, dec_cell, dec_embeddings, start_of_sequence_id, end_of_sequence_id, max_target_sequence_length, vocab_size, output_layer, batch_size, keep_prob)` function to get the inference logits.\n",
    "\n",
    "Note: You'll need to use [tf.variable_scope](https://www.tensorflow.org/api_docs/python/tf/variable_scope) to share variables between training and inference."
   ]
  },
  {
   "cell_type": "code",
   "execution_count": 12,
   "metadata": {},
   "outputs": [
    {
     "name": "stdout",
     "output_type": "stream",
     "text": [
      "Tests Passed\n"
     ]
    }
   ],
   "source": [
    "def decoding_layer(dec_input, encoder_state,\n",
    "                   target_sequence_length, max_target_sequence_length,\n",
    "                   rnn_size,\n",
    "                   num_layers, target_vocab_to_int, target_vocab_size,\n",
    "                   batch_size, keep_prob, decoding_embedding_size):\n",
    "    \"\"\"\n",
    "    Create decoding layer\n",
    "    :param dec_input: Decoder input\n",
    "    :param encoder_state: Encoder state\n",
    "    :param target_sequence_length: The lengths of each sequence in the target batch\n",
    "    :param max_target_sequence_length: Maximum length of target sequences\n",
    "    :param rnn_size: RNN Size\n",
    "    :param num_layers: Number of layers\n",
    "    :param target_vocab_to_int: Dictionary to go from the target words to an id\n",
    "    :param target_vocab_size: Size of target vocabulary\n",
    "    :param batch_size: The size of the batch\n",
    "    :param keep_prob: Dropout keep probability\n",
    "    :param decoding_embedding_size: Decoding embedding size\n",
    "    :return: Tuple of (Training BasicDecoderOutput, Inference BasicDecoderOutput)\n",
    "    \"\"\"\n",
    "    # 1. Decoder Embedding\n",
    "    dec_embeddings = tf.Variable(tf.random_uniform([target_vocab_size, decoding_embedding_size]))\n",
    "    dec_embed_input = tf.nn.embedding_lookup(dec_embeddings, dec_input)\n",
    "\n",
    "    # 2. Construct the decoder cell\n",
    "    def make_cell(rnn_size):\n",
    "        dec_cell = tf.contrib.rnn.LSTMCell(rnn_size, initializer=tf.random_uniform_initializer(-0.1, 0.1, seed=2))\n",
    "        return dec_cell\n",
    "\n",
    "    dec_cell = tf.contrib.rnn.MultiRNNCell([make_cell(rnn_size) for _ in range(num_layers)])\n",
    "    dec_cell = tf.contrib.rnn.DropoutWrapper(dec_cell, input_keep_prob=keep_prob)\n",
    "     \n",
    "    # 3. Dense layer to translate the decoder's output at each time step into a choice from the target vocabulary\n",
    "    output_layer = Dense(target_vocab_size, kernel_initializer = tf.truncated_normal_initializer(mean = 0.0, stddev=0.1))\n",
    "    \n",
    "    # 4. Set up a training decoder\n",
    "    with tf.variable_scope(\"decode\"):\n",
    "        TrainingBasicDecoderOutput = decoding_layer_train(encoder_state, dec_cell, dec_embed_input, \n",
    "                         target_sequence_length, max_target_sequence_length, \n",
    "                         output_layer, keep_prob)\n",
    "    \n",
    "    # 5. Set up an inference decoder\n",
    "    with tf.variable_scope(\"decode\", reuse=True):\n",
    "        InferenceBasicDecoderOutput = decoding_layer_infer(encoder_state, dec_cell, dec_embeddings, target_vocab_to_int['<GO>'],\n",
    "                         target_vocab_to_int['<EOS>'], max_target_sequence_length,\n",
    "                         target_vocab_size, output_layer, batch_size, keep_prob)\n",
    "    \n",
    "    #print(TrainingBasicDecoderOutput.rnn_output.get_shape().as_list())\n",
    "    #print(InferenceBasicDecoderOutput.sample_id.get_shape().as_list())\n",
    "    \n",
    "    return TrainingBasicDecoderOutput, InferenceBasicDecoderOutput\n",
    "\n",
    "\"\"\"\n",
    "DON'T MODIFY ANYTHING IN THIS CELL THAT IS BELOW THIS LINE\n",
    "\"\"\"\n",
    "tests.test_decoding_layer(decoding_layer)"
   ]
  },
  {
   "cell_type": "markdown",
   "metadata": {},
   "source": [
    "### Build the Neural Network\n",
    "Apply the functions you implemented above to:\n",
    "\n",
    "- Encode the input using your `encoding_layer(rnn_inputs, rnn_size, num_layers, keep_prob,  source_sequence_length, source_vocab_size, encoding_embedding_size)`.\n",
    "- Process target data using your `process_decoder_input(target_data, target_vocab_to_int, batch_size)` function.\n",
    "- Decode the encoded input using your `decoding_layer(dec_input, enc_state, target_sequence_length, max_target_sentence_length, rnn_size, num_layers, target_vocab_to_int, target_vocab_size, batch_size, keep_prob, dec_embedding_size)` function."
   ]
  },
  {
   "cell_type": "code",
   "execution_count": 13,
   "metadata": {},
   "outputs": [
    {
     "name": "stdout",
     "output_type": "stream",
     "text": [
      "Tests Passed\n"
     ]
    }
   ],
   "source": [
    "def seq2seq_model(input_data, target_data, keep_prob, batch_size,\n",
    "                  source_sequence_length, target_sequence_length,\n",
    "                  max_target_sentence_length,\n",
    "                  source_vocab_size, target_vocab_size,\n",
    "                  enc_embedding_size, dec_embedding_size,\n",
    "                  rnn_size, num_layers, target_vocab_to_int):\n",
    "    \"\"\"\n",
    "    Build the Sequence-to-Sequence part of the neural network\n",
    "    :param input_data: Input placeholder\n",
    "    :param target_data: Target placeholder\n",
    "    :param keep_prob: Dropout keep probability placeholder\n",
    "    :param batch_size: Batch Size\n",
    "    :param source_sequence_length: Sequence Lengths of source sequences in the batch\n",
    "    :param target_sequence_length: Sequence Lengths of target sequences in the batch\n",
    "    :param source_vocab_size: Source vocabulary size\n",
    "    :param target_vocab_size: Target vocabulary size\n",
    "    :param enc_embedding_size: Decoder embedding size\n",
    "    :param dec_embedding_size: Encoder embedding size\n",
    "    :param rnn_size: RNN Size\n",
    "    :param num_layers: Number of layers\n",
    "    :param target_vocab_to_int: Dictionary to go from the target words to an id\n",
    "    :return: Tuple of (Training BasicDecoderOutput, Inference BasicDecoderOutput)\n",
    "    \"\"\"\n",
    "    # Pass the input data through the encoder. We'll ignore the encoder output, but use the state\n",
    "    _, encoder_state = encoding_layer(input_data, \n",
    "                                      rnn_size, \n",
    "                                      num_layers,\n",
    "                                      keep_prob,\n",
    "                                      source_sequence_length,\n",
    "                                      source_vocab_size, \n",
    "                                      enc_embedding_size)\n",
    "    \n",
    "    # Prepare the target sequences we'll feed to the decoder in training mode\n",
    "    dec_input = process_decoder_input(target_data, target_vocab_to_int, batch_size)\n",
    "    \n",
    "    # Pass encoder state and decoder inputs to the decoders\n",
    "    TrainingBasicDecoderOutput, InferenceBasicDecoderOutput = decoding_layer(dec_input, encoder_state,\n",
    "                                                                               target_sequence_length, max_target_sentence_length,\n",
    "                                                                               rnn_size,\n",
    "                                                                               num_layers, target_vocab_to_int, target_vocab_size,\n",
    "                                                                               batch_size, keep_prob, dec_embedding_size)\n",
    "    \n",
    "    return TrainingBasicDecoderOutput, InferenceBasicDecoderOutput\n",
    "\n",
    "\n",
    "\"\"\"\n",
    "DON'T MODIFY ANYTHING IN THIS CELL THAT IS BELOW THIS LINE\n",
    "\"\"\"\n",
    "tests.test_seq2seq_model(seq2seq_model)"
   ]
  },
  {
   "cell_type": "markdown",
   "metadata": {},
   "source": [
    "## Neural Network Training\n",
    "### Hyperparameters\n",
    "Tune the following parameters:\n",
    "\n",
    "- Set `epochs` to the number of epochs.\n",
    "- Set `batch_size` to the batch size.\n",
    "- Set `rnn_size` to the size of the RNNs.\n",
    "- Set `num_layers` to the number of layers.\n",
    "- Set `encoding_embedding_size` to the size of the embedding for the encoder.\n",
    "- Set `decoding_embedding_size` to the size of the embedding for the decoder.\n",
    "- Set `learning_rate` to the learning rate.\n",
    "- Set `keep_probability` to the Dropout keep probability\n",
    "- Set `display_step` to state how many steps between each debug output statement"
   ]
  },
  {
   "cell_type": "code",
   "execution_count": 14,
   "metadata": {},
   "outputs": [
    {
     "data": {
      "text/plain": [
       "(6.93, 10.74)"
      ]
     },
     "execution_count": 14,
     "metadata": {},
     "output_type": "execute_result"
    }
   ],
   "source": [
    "# For the embeddingsize I use the same literature factor (300 vor 10000 vocab size)\n",
    "len(source_vocab_to_int)*0.03, len(target_vocab_to_int)*0.03"
   ]
  },
  {
   "cell_type": "code",
   "execution_count": 15,
   "metadata": {
    "collapsed": true
   },
   "outputs": [],
   "source": [
    "# Number of Epochs\n",
    "epochs = 16\n",
    "# Batch Size\n",
    "batch_size = 128\n",
    "# RNN Size\n",
    "rnn_size = 256\n",
    "# Number of Layers\n",
    "num_layers = 2\n",
    "# Embedding Size\n",
    "encoding_embedding_size = 8\n",
    "decoding_embedding_size = 12\n",
    "# Learning Rate\n",
    "learning_rate = 0.001\n",
    "# Dropout Keep Probability\n",
    "keep_probability = 0.75\n",
    "\n",
    "display_step = 100"
   ]
  },
  {
   "cell_type": "markdown",
   "metadata": {},
   "source": [
    "### Build the Graph\n",
    "Build the graph using the neural network you implemented."
   ]
  },
  {
   "cell_type": "code",
   "execution_count": 16,
   "metadata": {
    "collapsed": true
   },
   "outputs": [],
   "source": [
    "\"\"\"\n",
    "DON'T MODIFY ANYTHING IN THIS CELL\n",
    "\"\"\"\n",
    "save_path = 'checkpoints/dev'\n",
    "(source_int_text, target_int_text), (source_vocab_to_int, target_vocab_to_int), _ = helper.load_preprocess()\n",
    "max_target_sentence_length = max([len(sentence) for sentence in source_int_text])\n",
    "\n",
    "train_graph = tf.Graph()\n",
    "with train_graph.as_default():\n",
    "    input_data, targets, lr, keep_prob, target_sequence_length, max_target_sequence_length, source_sequence_length = model_inputs()\n",
    "\n",
    "    #sequence_length = tf.placeholder_with_default(max_target_sentence_length, None, name='sequence_length')\n",
    "    input_shape = tf.shape(input_data)\n",
    "\n",
    "    train_logits, inference_logits = seq2seq_model(tf.reverse(input_data, [-1]),\n",
    "                                                   targets,\n",
    "                                                   keep_prob,\n",
    "                                                   batch_size,\n",
    "                                                   source_sequence_length,\n",
    "                                                   target_sequence_length,\n",
    "                                                   max_target_sequence_length,\n",
    "                                                   len(source_vocab_to_int),\n",
    "                                                   len(target_vocab_to_int),\n",
    "                                                   encoding_embedding_size,\n",
    "                                                   decoding_embedding_size,\n",
    "                                                   rnn_size,\n",
    "                                                   num_layers,\n",
    "                                                   target_vocab_to_int)\n",
    "\n",
    "\n",
    "    training_logits = tf.identity(train_logits.rnn_output, name='logits')\n",
    "    inference_logits = tf.identity(inference_logits.sample_id, name='predictions')\n",
    "\n",
    "    masks = tf.sequence_mask(target_sequence_length, max_target_sequence_length, dtype=tf.float32, name='masks')\n",
    "\n",
    "    with tf.name_scope(\"optimization\"):\n",
    "        # Loss function\n",
    "        cost = tf.contrib.seq2seq.sequence_loss(\n",
    "            training_logits,\n",
    "            targets,\n",
    "            masks)\n",
    "\n",
    "        # Optimizer\n",
    "        optimizer = tf.train.AdamOptimizer(lr)\n",
    "\n",
    "        # Gradient Clipping\n",
    "        gradients = optimizer.compute_gradients(cost)\n",
    "        capped_gradients = [(tf.clip_by_value(grad, -1., 1.), var) for grad, var in gradients if grad is not None]\n",
    "        train_op = optimizer.apply_gradients(capped_gradients)\n"
   ]
  },
  {
   "cell_type": "markdown",
   "metadata": {},
   "source": [
    "Batch and pad the source and target sequences"
   ]
  },
  {
   "cell_type": "code",
   "execution_count": 17,
   "metadata": {
    "collapsed": true
   },
   "outputs": [],
   "source": [
    "\"\"\"\n",
    "DON'T MODIFY ANYTHING IN THIS CELL\n",
    "\"\"\"\n",
    "def pad_sentence_batch(sentence_batch, pad_int):\n",
    "    \"\"\"Pad sentences with <PAD> so that each sentence of a batch has the same length\"\"\"\n",
    "    max_sentence = max([len(sentence) for sentence in sentence_batch])\n",
    "    return [sentence + [pad_int] * (max_sentence - len(sentence)) for sentence in sentence_batch]\n",
    "\n",
    "\n",
    "def get_batches(sources, targets, batch_size, source_pad_int, target_pad_int):\n",
    "    \"\"\"Batch targets, sources, and the lengths of their sentences together\"\"\"\n",
    "    for batch_i in range(0, len(sources)//batch_size):\n",
    "        start_i = batch_i * batch_size\n",
    "\n",
    "        # Slice the right amount for the batch\n",
    "        sources_batch = sources[start_i:start_i + batch_size]\n",
    "        targets_batch = targets[start_i:start_i + batch_size]\n",
    "\n",
    "        # Pad\n",
    "        pad_sources_batch = np.array(pad_sentence_batch(sources_batch, source_pad_int))\n",
    "        pad_targets_batch = np.array(pad_sentence_batch(targets_batch, target_pad_int))\n",
    "\n",
    "        # Need the lengths for the _lengths parameters\n",
    "        pad_targets_lengths = []\n",
    "        for target in pad_targets_batch:\n",
    "            pad_targets_lengths.append(len(target))\n",
    "\n",
    "        pad_source_lengths = []\n",
    "        for source in pad_sources_batch:\n",
    "            pad_source_lengths.append(len(source))\n",
    "\n",
    "        yield pad_sources_batch, pad_targets_batch, pad_source_lengths, pad_targets_lengths\n"
   ]
  },
  {
   "cell_type": "markdown",
   "metadata": {},
   "source": [
    "### Train\n",
    "Train the neural network on the preprocessed data. If you have a hard time getting a good loss, check the forms to see if anyone is having the same problem."
   ]
  },
  {
   "cell_type": "code",
   "execution_count": 18,
   "metadata": {
    "scrolled": true
   },
   "outputs": [
    {
     "name": "stdout",
     "output_type": "stream",
     "text": [
      "Epoch   0 Batch  100/1077 - Train Accuracy: 0.4230, Validation Accuracy: 0.4663, Loss: 2.2492\n",
      "Epoch   0 Batch  200/1077 - Train Accuracy: 0.4543, Validation Accuracy: 0.5210, Loss: 1.7436\n",
      "Epoch   0 Batch  300/1077 - Train Accuracy: 0.4359, Validation Accuracy: 0.5178, Loss: 1.4483\n",
      "Epoch   0 Batch  400/1077 - Train Accuracy: 0.4875, Validation Accuracy: 0.5330, Loss: 1.1852\n",
      "Epoch   0 Batch  500/1077 - Train Accuracy: 0.5105, Validation Accuracy: 0.5380, Loss: 0.9834\n",
      "Epoch   0 Batch  600/1077 - Train Accuracy: 0.5547, Validation Accuracy: 0.5586, Loss: 0.8226\n",
      "Epoch   0 Batch  700/1077 - Train Accuracy: 0.5453, Validation Accuracy: 0.5536, Loss: 0.7728\n",
      "Epoch   0 Batch  800/1077 - Train Accuracy: 0.5570, Validation Accuracy: 0.6122, Loss: 0.7225\n",
      "Epoch   0 Batch  900/1077 - Train Accuracy: 0.5754, Validation Accuracy: 0.6023, Loss: 0.7066\n",
      "Epoch   0 Batch 1000/1077 - Train Accuracy: 0.6399, Validation Accuracy: 0.6225, Loss: 0.6153\n",
      "Epoch   1 Batch  100/1077 - Train Accuracy: 0.6176, Validation Accuracy: 0.6353, Loss: 0.6204\n",
      "Epoch   1 Batch  200/1077 - Train Accuracy: 0.5980, Validation Accuracy: 0.6225, Loss: 0.6104\n",
      "Epoch   1 Batch  300/1077 - Train Accuracy: 0.6180, Validation Accuracy: 0.6431, Loss: 0.5664\n",
      "Epoch   1 Batch  400/1077 - Train Accuracy: 0.6465, Validation Accuracy: 0.6534, Loss: 0.5631\n",
      "Epoch   1 Batch  500/1077 - Train Accuracy: 0.6348, Validation Accuracy: 0.6456, Loss: 0.5153\n",
      "Epoch   1 Batch  600/1077 - Train Accuracy: 0.6518, Validation Accuracy: 0.6555, Loss: 0.4657\n",
      "Epoch   1 Batch  700/1077 - Train Accuracy: 0.6277, Validation Accuracy: 0.6701, Loss: 0.4852\n",
      "Epoch   1 Batch  800/1077 - Train Accuracy: 0.6273, Validation Accuracy: 0.6559, Loss: 0.4731\n",
      "Epoch   1 Batch  900/1077 - Train Accuracy: 0.6699, Validation Accuracy: 0.6758, Loss: 0.4625\n",
      "Epoch   1 Batch 1000/1077 - Train Accuracy: 0.7307, Validation Accuracy: 0.6783, Loss: 0.3979\n",
      "Epoch   2 Batch  100/1077 - Train Accuracy: 0.6879, Validation Accuracy: 0.6893, Loss: 0.4254\n",
      "Epoch   2 Batch  200/1077 - Train Accuracy: 0.6617, Validation Accuracy: 0.7124, Loss: 0.4314\n",
      "Epoch   2 Batch  300/1077 - Train Accuracy: 0.6748, Validation Accuracy: 0.6868, Loss: 0.3909\n",
      "Epoch   2 Batch  400/1077 - Train Accuracy: 0.7277, Validation Accuracy: 0.6914, Loss: 0.3951\n",
      "Epoch   2 Batch  500/1077 - Train Accuracy: 0.7051, Validation Accuracy: 0.7013, Loss: 0.3635\n",
      "Epoch   2 Batch  600/1077 - Train Accuracy: 0.7292, Validation Accuracy: 0.7077, Loss: 0.3344\n",
      "Epoch   2 Batch  700/1077 - Train Accuracy: 0.6691, Validation Accuracy: 0.6996, Loss: 0.3624\n",
      "Epoch   2 Batch  800/1077 - Train Accuracy: 0.6781, Validation Accuracy: 0.7095, Loss: 0.3491\n",
      "Epoch   2 Batch  900/1077 - Train Accuracy: 0.7270, Validation Accuracy: 0.7145, Loss: 0.3355\n",
      "Epoch   2 Batch 1000/1077 - Train Accuracy: 0.7467, Validation Accuracy: 0.7276, Loss: 0.2975\n",
      "Epoch   3 Batch  100/1077 - Train Accuracy: 0.7262, Validation Accuracy: 0.7475, Loss: 0.3202\n",
      "Epoch   3 Batch  200/1077 - Train Accuracy: 0.7074, Validation Accuracy: 0.7539, Loss: 0.3185\n",
      "Epoch   3 Batch  300/1077 - Train Accuracy: 0.7159, Validation Accuracy: 0.7141, Loss: 0.2907\n",
      "Epoch   3 Batch  400/1077 - Train Accuracy: 0.7730, Validation Accuracy: 0.7393, Loss: 0.3099\n",
      "Epoch   3 Batch  500/1077 - Train Accuracy: 0.7520, Validation Accuracy: 0.7241, Loss: 0.2882\n",
      "Epoch   3 Batch  600/1077 - Train Accuracy: 0.7731, Validation Accuracy: 0.7532, Loss: 0.2543\n",
      "Epoch   3 Batch  700/1077 - Train Accuracy: 0.7383, Validation Accuracy: 0.7727, Loss: 0.2740\n",
      "Epoch   3 Batch  800/1077 - Train Accuracy: 0.7789, Validation Accuracy: 0.7571, Loss: 0.2634\n",
      "Epoch   3 Batch  900/1077 - Train Accuracy: 0.7820, Validation Accuracy: 0.7440, Loss: 0.2527\n",
      "Epoch   3 Batch 1000/1077 - Train Accuracy: 0.7872, Validation Accuracy: 0.7738, Loss: 0.2258\n",
      "Epoch   4 Batch  100/1077 - Train Accuracy: 0.7691, Validation Accuracy: 0.7781, Loss: 0.2513\n",
      "Epoch   4 Batch  200/1077 - Train Accuracy: 0.8004, Validation Accuracy: 0.7805, Loss: 0.2589\n",
      "Epoch   4 Batch  300/1077 - Train Accuracy: 0.8388, Validation Accuracy: 0.7908, Loss: 0.2145\n",
      "Epoch   4 Batch  400/1077 - Train Accuracy: 0.7875, Validation Accuracy: 0.7937, Loss: 0.2201\n",
      "Epoch   4 Batch  500/1077 - Train Accuracy: 0.8406, Validation Accuracy: 0.8065, Loss: 0.1955\n",
      "Epoch   4 Batch  600/1077 - Train Accuracy: 0.8348, Validation Accuracy: 0.7919, Loss: 0.1712\n",
      "Epoch   4 Batch  700/1077 - Train Accuracy: 0.8043, Validation Accuracy: 0.8026, Loss: 0.1841\n",
      "Epoch   4 Batch  800/1077 - Train Accuracy: 0.8391, Validation Accuracy: 0.7987, Loss: 0.1908\n",
      "Epoch   4 Batch  900/1077 - Train Accuracy: 0.8391, Validation Accuracy: 0.8072, Loss: 0.1812\n",
      "Epoch   4 Batch 1000/1077 - Train Accuracy: 0.8478, Validation Accuracy: 0.8203, Loss: 0.1599\n",
      "Epoch   5 Batch  100/1077 - Train Accuracy: 0.8418, Validation Accuracy: 0.8288, Loss: 0.1744\n",
      "Epoch   5 Batch  200/1077 - Train Accuracy: 0.8328, Validation Accuracy: 0.8136, Loss: 0.1805\n",
      "Epoch   5 Batch  300/1077 - Train Accuracy: 0.8898, Validation Accuracy: 0.8310, Loss: 0.1543\n",
      "Epoch   5 Batch  400/1077 - Train Accuracy: 0.8176, Validation Accuracy: 0.8597, Loss: 0.1511\n",
      "Epoch   5 Batch  500/1077 - Train Accuracy: 0.8848, Validation Accuracy: 0.8136, Loss: 0.1411\n",
      "Epoch   5 Batch  600/1077 - Train Accuracy: 0.8609, Validation Accuracy: 0.8608, Loss: 0.1278\n",
      "Epoch   5 Batch  700/1077 - Train Accuracy: 0.8738, Validation Accuracy: 0.8548, Loss: 0.1269\n",
      "Epoch   5 Batch  800/1077 - Train Accuracy: 0.8691, Validation Accuracy: 0.8576, Loss: 0.1313\n",
      "Epoch   5 Batch  900/1077 - Train Accuracy: 0.8801, Validation Accuracy: 0.8413, Loss: 0.1394\n",
      "Epoch   5 Batch 1000/1077 - Train Accuracy: 0.8638, Validation Accuracy: 0.8562, Loss: 0.1309\n",
      "Epoch   6 Batch  100/1077 - Train Accuracy: 0.8523, Validation Accuracy: 0.8722, Loss: 0.1236\n",
      "Epoch   6 Batch  200/1077 - Train Accuracy: 0.8629, Validation Accuracy: 0.8594, Loss: 0.1284\n",
      "Epoch   6 Batch  300/1077 - Train Accuracy: 0.9013, Validation Accuracy: 0.8427, Loss: 0.1117\n",
      "Epoch   6 Batch  400/1077 - Train Accuracy: 0.8738, Validation Accuracy: 0.8814, Loss: 0.1232\n",
      "Epoch   6 Batch  500/1077 - Train Accuracy: 0.9020, Validation Accuracy: 0.8658, Loss: 0.1156\n",
      "Epoch   6 Batch  600/1077 - Train Accuracy: 0.8884, Validation Accuracy: 0.8636, Loss: 0.1052\n",
      "Epoch   6 Batch  700/1077 - Train Accuracy: 0.8898, Validation Accuracy: 0.8835, Loss: 0.1013\n",
      "Epoch   6 Batch  800/1077 - Train Accuracy: 0.8844, Validation Accuracy: 0.8764, Loss: 0.1048\n",
      "Epoch   6 Batch  900/1077 - Train Accuracy: 0.9078, Validation Accuracy: 0.8601, Loss: 0.1018\n",
      "Epoch   6 Batch 1000/1077 - Train Accuracy: 0.8962, Validation Accuracy: 0.8775, Loss: 0.0923\n",
      "Epoch   7 Batch  100/1077 - Train Accuracy: 0.9008, Validation Accuracy: 0.8686, Loss: 0.0965\n",
      "Epoch   7 Batch  200/1077 - Train Accuracy: 0.8953, Validation Accuracy: 0.9126, Loss: 0.1112\n",
      "Epoch   7 Batch  300/1077 - Train Accuracy: 0.9268, Validation Accuracy: 0.8988, Loss: 0.0860\n",
      "Epoch   7 Batch  400/1077 - Train Accuracy: 0.8789, Validation Accuracy: 0.9041, Loss: 0.1080\n",
      "Epoch   7 Batch  500/1077 - Train Accuracy: 0.9289, Validation Accuracy: 0.8924, Loss: 0.0889\n",
      "Epoch   7 Batch  600/1077 - Train Accuracy: 0.9007, Validation Accuracy: 0.8874, Loss: 0.0924\n",
      "Epoch   7 Batch  700/1077 - Train Accuracy: 0.9355, Validation Accuracy: 0.8995, Loss: 0.0950\n",
      "Epoch   7 Batch  800/1077 - Train Accuracy: 0.8980, Validation Accuracy: 0.9059, Loss: 0.0879\n",
      "Epoch   7 Batch  900/1077 - Train Accuracy: 0.9297, Validation Accuracy: 0.8920, Loss: 0.0857\n",
      "Epoch   7 Batch 1000/1077 - Train Accuracy: 0.9349, Validation Accuracy: 0.9130, Loss: 0.0802\n",
      "Epoch   8 Batch  100/1077 - Train Accuracy: 0.9195, Validation Accuracy: 0.8931, Loss: 0.0846\n",
      "Epoch   8 Batch  200/1077 - Train Accuracy: 0.9160, Validation Accuracy: 0.9027, Loss: 0.0929\n",
      "Epoch   8 Batch  300/1077 - Train Accuracy: 0.9408, Validation Accuracy: 0.8906, Loss: 0.0868\n",
      "Epoch   8 Batch  400/1077 - Train Accuracy: 0.9062, Validation Accuracy: 0.9016, Loss: 0.0876\n",
      "Epoch   8 Batch  500/1077 - Train Accuracy: 0.9340, Validation Accuracy: 0.8874, Loss: 0.0706\n",
      "Epoch   8 Batch  600/1077 - Train Accuracy: 0.9394, Validation Accuracy: 0.9070, Loss: 0.0687\n",
      "Epoch   8 Batch  700/1077 - Train Accuracy: 0.9520, Validation Accuracy: 0.9112, Loss: 0.0569\n",
      "Epoch   8 Batch  800/1077 - Train Accuracy: 0.9352, Validation Accuracy: 0.9268, Loss: 0.0865\n"
     ]
    },
    {
     "name": "stdout",
     "output_type": "stream",
     "text": [
      "Epoch   8 Batch  900/1077 - Train Accuracy: 0.9410, Validation Accuracy: 0.9048, Loss: 0.0778\n",
      "Epoch   8 Batch 1000/1077 - Train Accuracy: 0.9289, Validation Accuracy: 0.8949, Loss: 0.0673\n",
      "Epoch   9 Batch  100/1077 - Train Accuracy: 0.9375, Validation Accuracy: 0.9375, Loss: 0.0652\n",
      "Epoch   9 Batch  200/1077 - Train Accuracy: 0.9426, Validation Accuracy: 0.9084, Loss: 0.0721\n",
      "Epoch   9 Batch  300/1077 - Train Accuracy: 0.9539, Validation Accuracy: 0.9109, Loss: 0.0613\n",
      "Epoch   9 Batch  400/1077 - Train Accuracy: 0.9102, Validation Accuracy: 0.9151, Loss: 0.0820\n",
      "Epoch   9 Batch  500/1077 - Train Accuracy: 0.9246, Validation Accuracy: 0.9173, Loss: 0.0611\n",
      "Epoch   9 Batch  600/1077 - Train Accuracy: 0.9535, Validation Accuracy: 0.9283, Loss: 0.0660\n",
      "Epoch   9 Batch  700/1077 - Train Accuracy: 0.9535, Validation Accuracy: 0.9375, Loss: 0.0567\n",
      "Epoch   9 Batch  800/1077 - Train Accuracy: 0.9379, Validation Accuracy: 0.9226, Loss: 0.0525\n",
      "Epoch   9 Batch  900/1077 - Train Accuracy: 0.9492, Validation Accuracy: 0.9041, Loss: 0.0590\n",
      "Epoch   9 Batch 1000/1077 - Train Accuracy: 0.9349, Validation Accuracy: 0.9219, Loss: 0.0560\n",
      "Epoch  10 Batch  100/1077 - Train Accuracy: 0.9418, Validation Accuracy: 0.9283, Loss: 0.0653\n",
      "Epoch  10 Batch  200/1077 - Train Accuracy: 0.9504, Validation Accuracy: 0.9311, Loss: 0.0600\n",
      "Epoch  10 Batch  300/1077 - Train Accuracy: 0.9449, Validation Accuracy: 0.8899, Loss: 0.0589\n",
      "Epoch  10 Batch  400/1077 - Train Accuracy: 0.9203, Validation Accuracy: 0.9297, Loss: 0.0631\n",
      "Epoch  10 Batch  500/1077 - Train Accuracy: 0.9570, Validation Accuracy: 0.9297, Loss: 0.0469\n",
      "Epoch  10 Batch  600/1077 - Train Accuracy: 0.9461, Validation Accuracy: 0.9105, Loss: 0.0547\n",
      "Epoch  10 Batch  700/1077 - Train Accuracy: 0.9625, Validation Accuracy: 0.9329, Loss: 0.0494\n",
      "Epoch  10 Batch  800/1077 - Train Accuracy: 0.9637, Validation Accuracy: 0.9276, Loss: 0.0538\n",
      "Epoch  10 Batch  900/1077 - Train Accuracy: 0.9543, Validation Accuracy: 0.9173, Loss: 0.0575\n",
      "Epoch  10 Batch 1000/1077 - Train Accuracy: 0.9498, Validation Accuracy: 0.9158, Loss: 0.0522\n",
      "Epoch  11 Batch  100/1077 - Train Accuracy: 0.9437, Validation Accuracy: 0.9169, Loss: 0.0519\n",
      "Epoch  11 Batch  200/1077 - Train Accuracy: 0.9355, Validation Accuracy: 0.9439, Loss: 0.0516\n",
      "Epoch  11 Batch  300/1077 - Train Accuracy: 0.9527, Validation Accuracy: 0.9244, Loss: 0.0520\n",
      "Epoch  11 Batch  400/1077 - Train Accuracy: 0.9316, Validation Accuracy: 0.9261, Loss: 0.0728\n",
      "Epoch  11 Batch  500/1077 - Train Accuracy: 0.9637, Validation Accuracy: 0.9261, Loss: 0.0509\n",
      "Epoch  11 Batch  600/1077 - Train Accuracy: 0.9736, Validation Accuracy: 0.9339, Loss: 0.0499\n",
      "Epoch  11 Batch  700/1077 - Train Accuracy: 0.9746, Validation Accuracy: 0.9396, Loss: 0.0371\n",
      "Epoch  11 Batch  800/1077 - Train Accuracy: 0.9586, Validation Accuracy: 0.9137, Loss: 0.0574\n",
      "Epoch  11 Batch  900/1077 - Train Accuracy: 0.9582, Validation Accuracy: 0.9226, Loss: 0.0499\n",
      "Epoch  11 Batch 1000/1077 - Train Accuracy: 0.9438, Validation Accuracy: 0.9403, Loss: 0.0415\n",
      "Epoch  12 Batch  100/1077 - Train Accuracy: 0.9613, Validation Accuracy: 0.9350, Loss: 0.0353\n",
      "Epoch  12 Batch  200/1077 - Train Accuracy: 0.9492, Validation Accuracy: 0.9368, Loss: 0.0518\n",
      "Epoch  12 Batch  300/1077 - Train Accuracy: 0.9696, Validation Accuracy: 0.9414, Loss: 0.0389\n",
      "Epoch  12 Batch  400/1077 - Train Accuracy: 0.9543, Validation Accuracy: 0.9421, Loss: 0.0500\n",
      "Epoch  12 Batch  500/1077 - Train Accuracy: 0.9625, Validation Accuracy: 0.9382, Loss: 0.0432\n",
      "Epoch  12 Batch  600/1077 - Train Accuracy: 0.9628, Validation Accuracy: 0.9347, Loss: 0.0351\n",
      "Epoch  12 Batch  700/1077 - Train Accuracy: 0.9566, Validation Accuracy: 0.9347, Loss: 0.0387\n",
      "Epoch  12 Batch  800/1077 - Train Accuracy: 0.9598, Validation Accuracy: 0.9457, Loss: 0.0457\n",
      "Epoch  12 Batch  900/1077 - Train Accuracy: 0.9602, Validation Accuracy: 0.9531, Loss: 0.0412\n",
      "Epoch  12 Batch 1000/1077 - Train Accuracy: 0.9594, Validation Accuracy: 0.9489, Loss: 0.0411\n",
      "Epoch  13 Batch  100/1077 - Train Accuracy: 0.9289, Validation Accuracy: 0.9396, Loss: 0.0472\n",
      "Epoch  13 Batch  200/1077 - Train Accuracy: 0.9477, Validation Accuracy: 0.9297, Loss: 0.0466\n",
      "Epoch  13 Batch  300/1077 - Train Accuracy: 0.9581, Validation Accuracy: 0.9414, Loss: 0.0333\n",
      "Epoch  13 Batch  400/1077 - Train Accuracy: 0.9250, Validation Accuracy: 0.9222, Loss: 0.0446\n",
      "Epoch  13 Batch  500/1077 - Train Accuracy: 0.9605, Validation Accuracy: 0.9489, Loss: 0.0366\n",
      "Epoch  13 Batch  600/1077 - Train Accuracy: 0.9583, Validation Accuracy: 0.9339, Loss: 0.0363\n",
      "Epoch  13 Batch  700/1077 - Train Accuracy: 0.9617, Validation Accuracy: 0.9361, Loss: 0.0339\n",
      "Epoch  13 Batch  800/1077 - Train Accuracy: 0.9496, Validation Accuracy: 0.9421, Loss: 0.0332\n",
      "Epoch  13 Batch  900/1077 - Train Accuracy: 0.9621, Validation Accuracy: 0.9478, Loss: 0.0398\n",
      "Epoch  13 Batch 1000/1077 - Train Accuracy: 0.9550, Validation Accuracy: 0.9308, Loss: 0.0321\n",
      "Epoch  14 Batch  100/1077 - Train Accuracy: 0.9602, Validation Accuracy: 0.9400, Loss: 0.0408\n",
      "Epoch  14 Batch  200/1077 - Train Accuracy: 0.9637, Validation Accuracy: 0.9332, Loss: 0.0355\n",
      "Epoch  14 Batch  300/1077 - Train Accuracy: 0.9667, Validation Accuracy: 0.9499, Loss: 0.0437\n",
      "Epoch  14 Batch  400/1077 - Train Accuracy: 0.9621, Validation Accuracy: 0.9442, Loss: 0.0352\n",
      "Epoch  14 Batch  500/1077 - Train Accuracy: 0.9617, Validation Accuracy: 0.9325, Loss: 0.0402\n",
      "Epoch  14 Batch  600/1077 - Train Accuracy: 0.9680, Validation Accuracy: 0.9485, Loss: 0.0455\n",
      "Epoch  14 Batch  700/1077 - Train Accuracy: 0.9578, Validation Accuracy: 0.9308, Loss: 0.0475\n",
      "Epoch  14 Batch  800/1077 - Train Accuracy: 0.9484, Validation Accuracy: 0.9439, Loss: 0.0363\n",
      "Epoch  14 Batch  900/1077 - Train Accuracy: 0.9578, Validation Accuracy: 0.9556, Loss: 0.0326\n",
      "Epoch  14 Batch 1000/1077 - Train Accuracy: 0.9479, Validation Accuracy: 0.9354, Loss: 0.0349\n",
      "Epoch  15 Batch  100/1077 - Train Accuracy: 0.9641, Validation Accuracy: 0.9329, Loss: 0.0335\n",
      "Epoch  15 Batch  200/1077 - Train Accuracy: 0.9617, Validation Accuracy: 0.9482, Loss: 0.0384\n",
      "Epoch  15 Batch  300/1077 - Train Accuracy: 0.9650, Validation Accuracy: 0.9304, Loss: 0.0453\n",
      "Epoch  15 Batch  400/1077 - Train Accuracy: 0.9629, Validation Accuracy: 0.9496, Loss: 0.0278\n",
      "Epoch  15 Batch  500/1077 - Train Accuracy: 0.9711, Validation Accuracy: 0.9453, Loss: 0.0345\n",
      "Epoch  15 Batch  600/1077 - Train Accuracy: 0.9669, Validation Accuracy: 0.9379, Loss: 0.0260\n",
      "Epoch  15 Batch  700/1077 - Train Accuracy: 0.9672, Validation Accuracy: 0.9322, Loss: 0.0332\n",
      "Epoch  15 Batch  800/1077 - Train Accuracy: 0.9492, Validation Accuracy: 0.9379, Loss: 0.0404\n",
      "Epoch  15 Batch  900/1077 - Train Accuracy: 0.9703, Validation Accuracy: 0.9528, Loss: 0.0377\n",
      "Epoch  15 Batch 1000/1077 - Train Accuracy: 0.9539, Validation Accuracy: 0.9343, Loss: 0.0353\n",
      "Model Trained and Saved\n"
     ]
    }
   ],
   "source": [
    "\"\"\"\n",
    "DON'T MODIFY ANYTHING IN THIS CELL\n",
    "\"\"\"\n",
    "def get_accuracy(target, logits):\n",
    "    \"\"\"\n",
    "    Calculate accuracy\n",
    "    \"\"\"\n",
    "    max_seq = max(target.shape[1], logits.shape[1])\n",
    "    if max_seq - target.shape[1]:\n",
    "        target = np.pad(\n",
    "            target,\n",
    "            [(0,0),(0,max_seq - target.shape[1])],\n",
    "            'constant')\n",
    "    if max_seq - logits.shape[1]:\n",
    "        logits = np.pad(\n",
    "            logits,\n",
    "            [(0,0),(0,max_seq - logits.shape[1])],\n",
    "            'constant')\n",
    "\n",
    "    return np.mean(np.equal(target, logits))\n",
    "\n",
    "# Split data to training and validation sets\n",
    "train_source = source_int_text[batch_size:]\n",
    "train_target = target_int_text[batch_size:]\n",
    "valid_source = source_int_text[:batch_size]\n",
    "valid_target = target_int_text[:batch_size]\n",
    "(valid_sources_batch, valid_targets_batch, valid_sources_lengths, valid_targets_lengths ) = next(get_batches(valid_source,\n",
    "                                                                                                             valid_target,\n",
    "                                                                                                             batch_size,\n",
    "                                                                                                             source_vocab_to_int['<PAD>'],\n",
    "                                                                                                             target_vocab_to_int['<PAD>']))                                                                                                  \n",
    "with tf.Session(graph=train_graph) as sess:\n",
    "    sess.run(tf.global_variables_initializer())\n",
    "\n",
    "    for epoch_i in range(epochs):\n",
    "        for batch_i, (source_batch, target_batch, sources_lengths, targets_lengths) in enumerate(\n",
    "                get_batches(train_source, train_target, batch_size,\n",
    "                            source_vocab_to_int['<PAD>'],\n",
    "                            target_vocab_to_int['<PAD>'])):\n",
    "\n",
    "            _, loss = sess.run(\n",
    "                [train_op, cost],\n",
    "                {input_data: source_batch,\n",
    "                 targets: target_batch,\n",
    "                 lr: learning_rate,\n",
    "                 target_sequence_length: targets_lengths,\n",
    "                 source_sequence_length: sources_lengths,\n",
    "                 keep_prob: keep_probability})\n",
    "\n",
    "\n",
    "            if batch_i % display_step == 0 and batch_i > 0:\n",
    "\n",
    "\n",
    "                batch_train_logits = sess.run(\n",
    "                    inference_logits,\n",
    "                    {input_data: source_batch,\n",
    "                     source_sequence_length: sources_lengths,\n",
    "                     target_sequence_length: targets_lengths,\n",
    "                     keep_prob: 1.0})\n",
    "\n",
    "\n",
    "                batch_valid_logits = sess.run(\n",
    "                    inference_logits,\n",
    "                    {input_data: valid_sources_batch,\n",
    "                     source_sequence_length: valid_sources_lengths,\n",
    "                     target_sequence_length: valid_targets_lengths,\n",
    "                     keep_prob: 1.0})\n",
    "\n",
    "                train_acc = get_accuracy(target_batch, batch_train_logits)\n",
    "\n",
    "                valid_acc = get_accuracy(valid_targets_batch, batch_valid_logits)\n",
    "\n",
    "                print('Epoch {:>3} Batch {:>4}/{} - Train Accuracy: {:>6.4f}, Validation Accuracy: {:>6.4f}, Loss: {:>6.4f}'\n",
    "                      .format(epoch_i, batch_i, len(source_int_text) // batch_size, train_acc, valid_acc, loss))\n",
    "\n",
    "    # Save Model\n",
    "    saver = tf.train.Saver()\n",
    "    saver.save(sess, save_path)\n",
    "    print('Model Trained and Saved')"
   ]
  },
  {
   "cell_type": "markdown",
   "metadata": {},
   "source": [
    "### Save Parameters\n",
    "Save the `batch_size` and `save_path` parameters for inference."
   ]
  },
  {
   "cell_type": "code",
   "execution_count": 23,
   "metadata": {
    "collapsed": true
   },
   "outputs": [],
   "source": [
    "\"\"\"\n",
    "DON'T MODIFY ANYTHING IN THIS CELL\n",
    "\"\"\"\n",
    "# Save parameters for checkpoint\n",
    "helper.save_params(save_path)"
   ]
  },
  {
   "cell_type": "markdown",
   "metadata": {},
   "source": [
    "# Checkpoint"
   ]
  },
  {
   "cell_type": "code",
   "execution_count": 24,
   "metadata": {
    "collapsed": true
   },
   "outputs": [],
   "source": [
    "\"\"\"\n",
    "DON'T MODIFY ANYTHING IN THIS CELL\n",
    "\"\"\"\n",
    "import tensorflow as tf\n",
    "import numpy as np\n",
    "import helper\n",
    "import problem_unittests as tests\n",
    "\n",
    "_, (source_vocab_to_int, target_vocab_to_int), (source_int_to_vocab, target_int_to_vocab) = helper.load_preprocess()\n",
    "load_path = helper.load_params()"
   ]
  },
  {
   "cell_type": "markdown",
   "metadata": {},
   "source": [
    "## Sentence to Sequence\n",
    "To feed a sentence into the model for translation, you first need to preprocess it.  Implement the function `sentence_to_seq()` to preprocess new sentences.\n",
    "\n",
    "- Convert the sentence to lowercase\n",
    "- Convert words into ids using `vocab_to_int`\n",
    " - Convert words not in the vocabulary, to the `<UNK>` word id."
   ]
  },
  {
   "cell_type": "code",
   "execution_count": 25,
   "metadata": {},
   "outputs": [
    {
     "name": "stdout",
     "output_type": "stream",
     "text": [
      "Tests Passed\n"
     ]
    }
   ],
   "source": [
    "def sentence_to_seq(sentence, vocab_to_int):\n",
    "    \"\"\"\n",
    "    Convert a sentence to a sequence of ids\n",
    "    :param sentence: String\n",
    "    :param vocab_to_int: Dictionary to go from the words to an id\n",
    "    :return: List of word ids\n",
    "    \"\"\"\n",
    "    word_list = sentence.lower().split(' ')\n",
    "    \n",
    "    return [vocab_to_int[x] if x in vocab_to_int.keys() else vocab_to_int['<UNK>'] for x in word_list]\n",
    "\n",
    "\n",
    "\"\"\"\n",
    "DON'T MODIFY ANYTHING IN THIS CELL THAT IS BELOW THIS LINE\n",
    "\"\"\"\n",
    "tests.test_sentence_to_seq(sentence_to_seq)"
   ]
  },
  {
   "cell_type": "markdown",
   "metadata": {},
   "source": [
    "## Translate\n",
    "This will translate `translate_sentence` from English to French."
   ]
  },
  {
   "cell_type": "code",
   "execution_count": 26,
   "metadata": {},
   "outputs": [
    {
     "name": "stdout",
     "output_type": "stream",
     "text": [
      "INFO:tensorflow:Restoring parameters from checkpoints/dev\n",
      "Input\n",
      "  Word Ids:      [174, 124, 20, 72, 169, 69, 48]\n",
      "  English Words: ['he', 'saw', 'a', 'old', 'yellow', 'truck', '.']\n",
      "\n",
      "Prediction\n",
      "  Word Ids:      [144, 112, 220, 322, 300, 114, 26, 1]\n",
      "  French Words: il a vu un vieux camion . <EOS>\n"
     ]
    }
   ],
   "source": [
    "translate_sentence = 'he saw a old yellow truck .'\n",
    "\n",
    "\n",
    "\"\"\"\n",
    "DON'T MODIFY ANYTHING IN THIS CELL\n",
    "\"\"\"\n",
    "translate_sentence = sentence_to_seq(translate_sentence, source_vocab_to_int)\n",
    "\n",
    "loaded_graph = tf.Graph()\n",
    "with tf.Session(graph=loaded_graph) as sess:\n",
    "    # Load saved model\n",
    "    loader = tf.train.import_meta_graph(load_path + '.meta')\n",
    "    loader.restore(sess, load_path)\n",
    "\n",
    "    input_data = loaded_graph.get_tensor_by_name('input:0')\n",
    "    logits = loaded_graph.get_tensor_by_name('predictions:0')\n",
    "    target_sequence_length = loaded_graph.get_tensor_by_name('target_sequence_length:0')\n",
    "    source_sequence_length = loaded_graph.get_tensor_by_name('source_sequence_length:0')\n",
    "    keep_prob = loaded_graph.get_tensor_by_name('keep_prob:0')\n",
    "\n",
    "    translate_logits = sess.run(logits, {input_data: [translate_sentence]*batch_size,\n",
    "                                         target_sequence_length: [len(translate_sentence)*2]*batch_size,\n",
    "                                         source_sequence_length: [len(translate_sentence)]*batch_size,\n",
    "                                         keep_prob: 1.0})[0]\n",
    "\n",
    "print('Input')\n",
    "print('  Word Ids:      {}'.format([i for i in translate_sentence]))\n",
    "print('  English Words: {}'.format([source_int_to_vocab[i] for i in translate_sentence]))\n",
    "\n",
    "print('\\nPrediction')\n",
    "print('  Word Ids:      {}'.format([i for i in translate_logits]))\n",
    "print('  French Words: {}'.format(\" \".join([target_int_to_vocab[i] for i in translate_logits])))\n"
   ]
  },
  {
   "cell_type": "markdown",
   "metadata": {},
   "source": [
    "#### Improved translation accuracy with epochs (other hyperparameters constant)\n",
    "\n",
    "##### 8 Epochs\n",
    "Epoch   7 Batch 1000/1077 - Train Accuracy: 0.9289, Validation Accuracy: 0.9105, Loss: 0.0632\n",
    "\n",
    "Input\n",
    "  Word Ids:      [141, 216, 29, 41, 91, 47, 42]\n",
    "  English Words: ['he', 'saw', 'a', 'old', 'yellow', 'truck', '.']\n",
    "\n",
    "Prediction\n",
    "  Word Ids:      [138, 231, 15, 15, 260, 344, 315, 284, 1]\n",
    "  French Words: elle n'aimez leur leur camion moins printemps . <EOS>\n",
    "  \n",
    "#### 12 Epochs\n",
    "Epoch  11 Batch 1000/1077 - Train Accuracy: 0.9818, Validation Accuracy: 0.9652, Loss: 0.0274\n",
    "\n",
    "Input\n",
    "  Word Ids:      [100, 88, 199, 96, 90, 145, 196]\n",
    "  English Words: ['he', 'saw', 'a', 'old', 'yellow', 'truck', '.']\n",
    "\n",
    "Prediction\n",
    "  Word Ids:      [61, 77, 342, 156, 91, 244, 70, 75, 1]\n",
    "  French Words: il a vu à nouveau maillot octobre . <EOS>\n",
    "  \n",
    "#### 16 Epochs\n",
    "Epoch  15 Batch 1000/1077 - Train Accuracy: 0.9539, Validation Accuracy: 0.9343, Loss: 0.0353\n",
    "\n",
    "Input\n",
    "  Word Ids:      [174, 124, 20, 72, 169, 69, 48]\n",
    "  English Words: ['he', 'saw', 'a', 'old', 'yellow', 'truck', '.']\n",
    "\n",
    "Prediction\n",
    "  Word Ids:      [144, 112, 220, 322, 300, 114, 26, 1]\n",
    "  French Words: il a vu un vieux camion . <EOS>\n"
   ]
  },
  {
   "cell_type": "markdown",
   "metadata": {},
   "source": [
    "## Imperfect Translation\n",
    "You might notice that some sentences translate better than others.  Since the dataset you're using only has a vocabulary of 227 English words of the thousands that you use, you're only going to see good results using these words.  For this project, you don't need a perfect translation. However, if you want to create a better translation model, you'll need better data.\n",
    "\n",
    "You can train on the [WMT10 French-English corpus](http://www.statmt.org/wmt10/training-giga-fren.tar).  This dataset has more vocabulary and richer in topics discussed.  However, this will take you days to train, so make sure you've a GPU and the neural network is performing well on dataset we provided.  Just make sure you play with the WMT10 corpus after you've submitted this project.\n",
    "## Submitting This Project\n",
    "When submitting this project, make sure to run all the cells before saving the notebook. Save the notebook file as \"dlnd_language_translation.ipynb\" and save it as a HTML file under \"File\" -> \"Download as\". Include the \"helper.py\" and \"problem_unittests.py\" files in your submission."
   ]
  }
 ],
 "metadata": {
  "anaconda-cloud": {},
  "kernelspec": {
   "display_name": "Python [default]",
   "language": "python",
   "name": "python3"
  },
  "language_info": {
   "codemirror_mode": {
    "name": "ipython",
    "version": 3
   },
   "file_extension": ".py",
   "mimetype": "text/x-python",
   "name": "python",
   "nbconvert_exporter": "python",
   "pygments_lexer": "ipython3",
   "version": "3.6.2"
  }
 },
 "nbformat": 4,
 "nbformat_minor": 1
}

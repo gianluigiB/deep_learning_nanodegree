{
 "cells": [
  {
   "cell_type": "markdown",
   "metadata": {
    "collapsed": true
   },
   "source": [
    "# Language Translation\n",
    "In this project, you’re going to take a peek into the realm of neural network machine translation.  You’ll be training a sequence to sequence model on a dataset of English and French sentences that can translate new sentences from English to French.\n",
    "## Get the Data\n",
    "Since translating the whole language of English to French will take lots of time to train, we have provided you with a small portion of the English corpus."
   ]
  },
  {
   "cell_type": "code",
   "execution_count": 1,
   "metadata": {
    "collapsed": true
   },
   "outputs": [],
   "source": [
    "\"\"\"\n",
    "DON'T MODIFY ANYTHING IN THIS CELL\n",
    "\"\"\"\n",
    "import helper\n",
    "import problem_unittests as tests\n",
    "\n",
    "source_path = 'data/small_vocab_en'\n",
    "target_path = 'data/small_vocab_fr'\n",
    "source_text = helper.load_data(source_path)\n",
    "target_text = helper.load_data(target_path)"
   ]
  },
  {
   "cell_type": "markdown",
   "metadata": {},
   "source": [
    "## Explore the Data\n",
    "Play around with view_sentence_range to view different parts of the data."
   ]
  },
  {
   "cell_type": "code",
   "execution_count": 2,
   "metadata": {},
   "outputs": [
    {
     "name": "stdout",
     "output_type": "stream",
     "text": [
      "Dataset Stats\n",
      "Roughly the number of unique words: 227\n",
      "Number of sentences: 137861\n",
      "Average number of words in a sentence: 13.225277634719028\n",
      "\n",
      "English sentences 0 to 10:\n",
      "new jersey is sometimes quiet during autumn , and it is snowy in april .\n",
      "the united states is usually chilly during july , and it is usually freezing in november .\n",
      "california is usually quiet during march , and it is usually hot in june .\n",
      "the united states is sometimes mild during june , and it is cold in september .\n",
      "your least liked fruit is the grape , but my least liked is the apple .\n",
      "his favorite fruit is the orange , but my favorite is the grape .\n",
      "paris is relaxing during december , but it is usually chilly in july .\n",
      "new jersey is busy during spring , and it is never hot in march .\n",
      "our least liked fruit is the lemon , but my least liked is the grape .\n",
      "the united states is sometimes busy during january , and it is sometimes warm in november .\n",
      "\n",
      "French sentences 0 to 10:\n",
      "new jersey est parfois calme pendant l' automne , et il est neigeux en avril .\n",
      "les états-unis est généralement froid en juillet , et il gèle habituellement en novembre .\n",
      "california est généralement calme en mars , et il est généralement chaud en juin .\n",
      "les états-unis est parfois légère en juin , et il fait froid en septembre .\n",
      "votre moins aimé fruit est le raisin , mais mon moins aimé est la pomme .\n",
      "son fruit préféré est l'orange , mais mon préféré est le raisin .\n",
      "paris est relaxant en décembre , mais il est généralement froid en juillet .\n",
      "new jersey est occupé au printemps , et il est jamais chaude en mars .\n",
      "notre fruit est moins aimé le citron , mais mon moins aimé est le raisin .\n",
      "les états-unis est parfois occupé en janvier , et il est parfois chaud en novembre .\n"
     ]
    }
   ],
   "source": [
    "view_sentence_range = (0, 10)\n",
    "\n",
    "\"\"\"\n",
    "DON'T MODIFY ANYTHING IN THIS CELL\n",
    "\"\"\"\n",
    "import numpy as np\n",
    "\n",
    "print('Dataset Stats')\n",
    "print('Roughly the number of unique words: {}'.format(len({word: None for word in source_text.split()})))\n",
    "\n",
    "sentences = source_text.split('\\n')\n",
    "word_counts = [len(sentence.split()) for sentence in sentences]\n",
    "print('Number of sentences: {}'.format(len(sentences)))\n",
    "print('Average number of words in a sentence: {}'.format(np.average(word_counts)))\n",
    "\n",
    "print()\n",
    "print('English sentences {} to {}:'.format(*view_sentence_range))\n",
    "print('\\n'.join(source_text.split('\\n')[view_sentence_range[0]:view_sentence_range[1]]))\n",
    "print()\n",
    "print('French sentences {} to {}:'.format(*view_sentence_range))\n",
    "print('\\n'.join(target_text.split('\\n')[view_sentence_range[0]:view_sentence_range[1]]))"
   ]
  },
  {
   "cell_type": "markdown",
   "metadata": {},
   "source": [
    "## Implement Preprocessing Function\n",
    "### Text to Word Ids\n",
    "As you did with other RNNs, you must turn the text into a number so the computer can understand it. In the function `text_to_ids()`, you'll turn `source_text` and `target_text` from words to ids.  However, you need to add the `<EOS>` word id at the end of `target_text`.  This will help the neural network predict when the sentence should end.\n",
    "\n",
    "You can get the `<EOS>` word id by doing:\n",
    "```python\n",
    "target_vocab_to_int['<EOS>']\n",
    "```\n",
    "You can get other word ids using `source_vocab_to_int` and `target_vocab_to_int`."
   ]
  },
  {
   "cell_type": "code",
   "execution_count": 3,
   "metadata": {},
   "outputs": [
    {
     "name": "stdout",
     "output_type": "stream",
     "text": [
      "Tests Passed\n"
     ]
    }
   ],
   "source": [
    "def text_to_ids(source_text, target_text, source_vocab_to_int, target_vocab_to_int):\n",
    "    \"\"\"\n",
    "    Convert source and target text to proper word ids\n",
    "    :param source_text: String that contains all the source text.\n",
    "    :param target_text: String that contains all the target text.\n",
    "    :param source_vocab_to_int: Dictionary to go from the source words to an id\n",
    "    :param target_vocab_to_int: Dictionary to go from the target words to an id\n",
    "    :return: A tuple of lists (source_id_text, target_id_text)\n",
    "    \"\"\"\n",
    "    source_sentence_list = source_text.strip().split('\\n')\n",
    "    target_sentence_list = target_text.strip().split('\\n')\n",
    "    \n",
    "    ssl_ids = []\n",
    "    for sentence in source_sentence_list:\n",
    "        sentence_words = sentence.strip().replace('  ', ' ').split(' ') \n",
    "        ssl_ids.append([source_vocab_to_int[word] for word in sentence_words])\n",
    "        \n",
    "    tsl_ids = []\n",
    "    for sentence in target_sentence_list:\n",
    "        sentence_words = sentence.strip().replace('  ', ' ').split(' ') \n",
    "        tsl_ids.append([target_vocab_to_int[word] for word in sentence_words] + [target_vocab_to_int['<EOS>']])\n",
    "    \n",
    "    return (ssl_ids, tsl_ids)\n",
    "\n",
    "\"\"\"\n",
    "DON'T MODIFY ANYTHING IN THIS CELL THAT IS BELOW THIS LINE\n",
    "\"\"\"\n",
    "tests.test_text_to_ids(text_to_ids)"
   ]
  },
  {
   "cell_type": "markdown",
   "metadata": {},
   "source": [
    "### Preprocess all the data and save it\n",
    "Running the code cell below will preprocess all the data and save it to file."
   ]
  },
  {
   "cell_type": "code",
   "execution_count": 4,
   "metadata": {
    "collapsed": true
   },
   "outputs": [],
   "source": [
    "\"\"\"\n",
    "DON'T MODIFY ANYTHING IN THIS CELL\n",
    "\"\"\"\n",
    "helper.preprocess_and_save_data(source_path, target_path, text_to_ids)"
   ]
  },
  {
   "cell_type": "markdown",
   "metadata": {},
   "source": [
    "# Check Point\n",
    "This is your first checkpoint. If you ever decide to come back to this notebook or have to restart the notebook, you can start from here. The preprocessed data has been saved to disk."
   ]
  },
  {
   "cell_type": "code",
   "execution_count": 5,
   "metadata": {
    "collapsed": true
   },
   "outputs": [],
   "source": [
    "\"\"\"\n",
    "DON'T MODIFY ANYTHING IN THIS CELL\n",
    "\"\"\"\n",
    "import numpy as np\n",
    "import helper\n",
    "import problem_unittests as tests\n",
    "\n",
    "(source_int_text, target_int_text), (source_vocab_to_int, target_vocab_to_int), _ = helper.load_preprocess()"
   ]
  },
  {
   "cell_type": "markdown",
   "metadata": {},
   "source": [
    "### Check the Version of TensorFlow and Access to GPU\n",
    "This will check to make sure you have the correct version of TensorFlow and access to a GPU"
   ]
  },
  {
   "cell_type": "code",
   "execution_count": 6,
   "metadata": {},
   "outputs": [
    {
     "name": "stdout",
     "output_type": "stream",
     "text": [
      "TensorFlow Version: 1.1.0\n"
     ]
    },
    {
     "name": "stderr",
     "output_type": "stream",
     "text": [
      "/home/gianluigi/anaconda3/envs/tensorflow/lib/python3.6/site-packages/ipykernel/__main__.py:15: UserWarning: No GPU found. Please use a GPU to train your neural network.\n"
     ]
    }
   ],
   "source": [
    "\"\"\"\n",
    "DON'T MODIFY ANYTHING IN THIS CELL\n",
    "\"\"\"\n",
    "from distutils.version import LooseVersion\n",
    "import warnings\n",
    "import tensorflow as tf\n",
    "from tensorflow.python.layers.core import Dense\n",
    "\n",
    "# Check TensorFlow Version\n",
    "assert LooseVersion(tf.__version__) >= LooseVersion('1.1'), 'Please use TensorFlow version 1.1 or newer'\n",
    "print('TensorFlow Version: {}'.format(tf.__version__))\n",
    "\n",
    "# Check for a GPU\n",
    "if not tf.test.gpu_device_name():\n",
    "    warnings.warn('No GPU found. Please use a GPU to train your neural network.')\n",
    "else:\n",
    "    print('Default GPU Device: {}'.format(tf.test.gpu_device_name()))"
   ]
  },
  {
   "cell_type": "markdown",
   "metadata": {},
   "source": [
    "## Build the Neural Network\n",
    "You'll build the components necessary to build a Sequence-to-Sequence model by implementing the following functions below:\n",
    "- `model_inputs`\n",
    "- `process_decoder_input`\n",
    "- `encoding_layer`\n",
    "- `decoding_layer_train`\n",
    "- `decoding_layer_infer`\n",
    "- `decoding_layer`\n",
    "- `seq2seq_model`\n",
    "\n",
    "### Input\n",
    "Implement the `model_inputs()` function to create TF Placeholders for the Neural Network. It should create the following placeholders:\n",
    "\n",
    "- Input text placeholder named \"input\" using the TF Placeholder name parameter with rank 2.\n",
    "- Targets placeholder with rank 2.\n",
    "- Learning rate placeholder with rank 0.\n",
    "- Keep probability placeholder named \"keep_prob\" using the TF Placeholder name parameter with rank 0.\n",
    "- Target sequence length placeholder named \"target_sequence_length\" with rank 1\n",
    "- Max target sequence length tensor named \"max_target_len\" getting its value from applying tf.reduce_max on the target_sequence_length placeholder. Rank 0.\n",
    "- Source sequence length placeholder named \"source_sequence_length\" with rank 1\n",
    "\n",
    "Return the placeholders in the following the tuple (input, targets, learning rate, keep probability, target sequence length, max target sequence length, source sequence length)"
   ]
  },
  {
   "cell_type": "code",
   "execution_count": 7,
   "metadata": {},
   "outputs": [
    {
     "name": "stdout",
     "output_type": "stream",
     "text": [
      "Tests Passed\n"
     ]
    }
   ],
   "source": [
    "def model_inputs():\n",
    "    \"\"\"\n",
    "    Create TF Placeholders for input, targets, learning rate, and lengths of source and target sequences.\n",
    "    :return: Tuple (input, targets, learning rate, keep probability, target sequence length,\n",
    "    max target sequence length, source sequence length)\n",
    "    \"\"\"\n",
    "    inputs = tf.placeholder(tf.int32, [None, None], name='input')\n",
    "    targets = tf.placeholder(tf.int32, [None, None], name='targets')\n",
    "    learning_rate = tf.placeholder(tf.float32, name='LearningRate')\n",
    "    keep_prob = tf.placeholder(tf.float32, name='keep_prob')\n",
    "    target_sequence_length = tf.placeholder(tf.int32, [None], name='target_sequence_length')\n",
    "    max_target_len = tf.reduce_max(target_sequence_length, name='max_target_len')\n",
    "    source_sequence_length = tf.placeholder(tf.int32, [None], name='source_sequence_length')\n",
    "    \n",
    "    return inputs, targets, learning_rate, keep_prob, target_sequence_length, max_target_len, source_sequence_length\n",
    "\n",
    "\n",
    "\"\"\"\n",
    "DON'T MODIFY ANYTHING IN THIS CELL THAT IS BELOW THIS LINE\n",
    "\"\"\"\n",
    "tests.test_model_inputs(model_inputs)"
   ]
  },
  {
   "cell_type": "markdown",
   "metadata": {},
   "source": [
    "### Process Decoder Input\n",
    "Implement `process_decoder_input` by removing the last word id from each batch in `target_data` and concat the GO ID to the begining of each batch."
   ]
  },
  {
   "cell_type": "code",
   "execution_count": 8,
   "metadata": {},
   "outputs": [
    {
     "name": "stdout",
     "output_type": "stream",
     "text": [
      "Tests Passed\n"
     ]
    }
   ],
   "source": [
    "def process_decoder_input(target_data, target_vocab_to_int, batch_size):\n",
    "    \"\"\"\n",
    "    Preprocess target data for encoding\n",
    "    :param target_data: Target Placehoder\n",
    "    :param target_vocab_to_int: Dictionary to go from the target words to an id\n",
    "    :param batch_size: Batch Size\n",
    "    :return: Preprocessed target data\n",
    "    \"\"\"\n",
    "    # Thanks to Mat seq2seq lesson\n",
    "    ending = tf.strided_slice(target_data, [0, 0], [batch_size, -1], [1, 1])\n",
    "    dec_input = tf.concat([tf.fill([batch_size, 1], target_vocab_to_int['<GO>']), ending], 1)\n",
    "    return dec_input\n",
    "\n",
    "\"\"\"\n",
    "DON'T MODIFY ANYTHING IN THIS CELL THAT IS BELOW THIS LINE\n",
    "\"\"\"\n",
    "tests.test_process_encoding_input(process_decoder_input)"
   ]
  },
  {
   "cell_type": "markdown",
   "metadata": {},
   "source": [
    "### Encoding\n",
    "Implement `encoding_layer()` to create a Encoder RNN layer:\n",
    " * Embed the encoder input using [`tf.contrib.layers.embed_sequence`](https://www.tensorflow.org/api_docs/python/tf/contrib/layers/embed_sequence)\n",
    " * Construct a [stacked](https://github.com/tensorflow/tensorflow/blob/6947f65a374ebf29e74bb71e36fd82760056d82c/tensorflow/docs_src/tutorials/recurrent.md#stacking-multiple-lstms) [`tf.contrib.rnn.LSTMCell`](https://www.tensorflow.org/api_docs/python/tf/contrib/rnn/LSTMCell) wrapped in a [`tf.contrib.rnn.DropoutWrapper`](https://www.tensorflow.org/api_docs/python/tf/contrib/rnn/DropoutWrapper)\n",
    " * Pass cell and embedded input to [`tf.nn.dynamic_rnn()`](https://www.tensorflow.org/api_docs/python/tf/nn/dynamic_rnn)"
   ]
  },
  {
   "cell_type": "code",
   "execution_count": 9,
   "metadata": {
    "scrolled": false
   },
   "outputs": [
    {
     "name": "stdout",
     "output_type": "stream",
     "text": [
      "Tests Passed\n"
     ]
    }
   ],
   "source": [
    "from imp import reload\n",
    "reload(tests)\n",
    "\n",
    "def encoding_layer(rnn_inputs, rnn_size, num_layers, keep_prob, \n",
    "                   source_sequence_length, source_vocab_size, \n",
    "                   encoding_embedding_size):\n",
    "    \"\"\"\n",
    "    Create encoding layer\n",
    "    :param rnn_inputs: Inputs for the RNN\n",
    "    :param rnn_size: RNN Size\n",
    "    :param num_layers: Number of layers\n",
    "    :param keep_prob: Dropout keep probability\n",
    "    :param source_sequence_length: a list of the lengths of each sequence in the batch\n",
    "    :param source_vocab_size: vocabulary size of source data\n",
    "    :param encoding_embedding_size: embedding size of source data\n",
    "    :return: tuple (RNN output, RNN state)\n",
    "    \"\"\"\n",
    "    # Thanks to Mat seq2seq lesson\n",
    "    \n",
    "    # Encoder embedding\n",
    "    enc_embed_input = tf.contrib.layers.embed_sequence(rnn_inputs, source_vocab_size, encoding_embedding_size)\n",
    "    \n",
    "    # RNN cell\n",
    "    def make_cell(rnn_size):\n",
    "        enc_cell = tf.contrib.rnn.LSTMCell(rnn_size, initializer=tf.random_uniform_initializer(-0.1, 0.1, seed=2))\n",
    "        return enc_cell\n",
    "\n",
    "    enc_cell = tf.contrib.rnn.MultiRNNCell([make_cell(rnn_size) for _ in range(num_layers)])\n",
    "    enc_cell = tf.contrib.rnn.DropoutWrapper(enc_cell, input_keep_prob=keep_prob)\n",
    "    enc_output, enc_state = tf.nn.dynamic_rnn(enc_cell, enc_embed_input, sequence_length=source_sequence_length, dtype=tf.float32)\n",
    "    \n",
    "    return enc_output, enc_state\n",
    "\n",
    "\"\"\"\n",
    "DON'T MODIFY ANYTHING IN THIS CELL THAT IS BELOW THIS LINE\n",
    "\"\"\"\n",
    "tests.test_encoding_layer(encoding_layer)"
   ]
  },
  {
   "cell_type": "markdown",
   "metadata": {},
   "source": [
    "### Decoding - Training\n",
    "Create a training decoding layer:\n",
    "* Create a [`tf.contrib.seq2seq.TrainingHelper`](https://www.tensorflow.org/api_docs/python/tf/contrib/seq2seq/TrainingHelper) \n",
    "* Create a [`tf.contrib.seq2seq.BasicDecoder`](https://www.tensorflow.org/api_docs/python/tf/contrib/seq2seq/BasicDecoder)\n",
    "* Obtain the decoder outputs from [`tf.contrib.seq2seq.dynamic_decode`](https://www.tensorflow.org/api_docs/python/tf/contrib/seq2seq/dynamic_decode)"
   ]
  },
  {
   "cell_type": "code",
   "execution_count": 10,
   "metadata": {},
   "outputs": [
    {
     "name": "stdout",
     "output_type": "stream",
     "text": [
      "Tests Passed\n"
     ]
    }
   ],
   "source": [
    "def decoding_layer_train(encoder_state, dec_cell, dec_embed_input, \n",
    "                         target_sequence_length, max_summary_length, \n",
    "                         output_layer, keep_prob):\n",
    "    \"\"\"\n",
    "    Create a decoding layer for training\n",
    "    :param encoder_state: Encoder State\n",
    "    :param dec_cell: Decoder RNN Cell\n",
    "    :param dec_embed_input: Decoder embedded input\n",
    "    :param target_sequence_length: The lengths of each sequence in the target batch\n",
    "    :param max_summary_length: The length of the longest sequence in the batch\n",
    "    :param output_layer: Function to apply the output layer\n",
    "    :param keep_prob: Dropout keep probability\n",
    "    :return: BasicDecoderOutput containing training logits and sample_id\n",
    "    \"\"\"\n",
    "    # Thanks to Mat seq2seq lesson\n",
    "   \n",
    "    # Helper for the training process. Used by BasicDecoder to read inputs.\n",
    "    training_helper = tf.contrib.seq2seq.TrainingHelper(inputs=dec_embed_input,\n",
    "                                                        sequence_length=target_sequence_length,\n",
    "                                                        time_major=False)\n",
    "    # Basic decoder\n",
    "    training_decoder = tf.contrib.seq2seq.BasicDecoder(dec_cell,\n",
    "                                                       training_helper,\n",
    "                                                       encoder_state,\n",
    "                                                       output_layer) \n",
    "    # Perform dynamic decoding using the decoder\n",
    "    training_decoder_output = tf.contrib.seq2seq.dynamic_decode(training_decoder,\n",
    "                                                                   impute_finished=True,\n",
    "                                                                   maximum_iterations=max_summary_length)[0]\n",
    "    return training_decoder_output\n",
    "\n",
    "\n",
    "\"\"\"\n",
    "DON'T MODIFY ANYTHING IN THIS CELL THAT IS BELOW THIS LINE\n",
    "\"\"\"\n",
    "tests.test_decoding_layer_train(decoding_layer_train)"
   ]
  },
  {
   "cell_type": "markdown",
   "metadata": {},
   "source": [
    "### Decoding - Inference\n",
    "Create inference decoder:\n",
    "* Create a [`tf.contrib.seq2seq.GreedyEmbeddingHelper`](https://www.tensorflow.org/api_docs/python/tf/contrib/seq2seq/GreedyEmbeddingHelper)\n",
    "* Create a [`tf.contrib.seq2seq.BasicDecoder`](https://www.tensorflow.org/api_docs/python/tf/contrib/seq2seq/BasicDecoder)\n",
    "* Obtain the decoder outputs from [`tf.contrib.seq2seq.dynamic_decode`](https://www.tensorflow.org/api_docs/python/tf/contrib/seq2seq/dynamic_decode)"
   ]
  },
  {
   "cell_type": "code",
   "execution_count": 11,
   "metadata": {
    "scrolled": true
   },
   "outputs": [
    {
     "name": "stdout",
     "output_type": "stream",
     "text": [
      "Tests Passed\n"
     ]
    }
   ],
   "source": [
    "def decoding_layer_infer(encoder_state, dec_cell, dec_embeddings, start_of_sequence_id,\n",
    "                         end_of_sequence_id, max_target_sequence_length,\n",
    "                         vocab_size, output_layer, batch_size, keep_prob):\n",
    "    \"\"\"\n",
    "    Create a decoding layer for inference\n",
    "    :param encoder_state: Encoder state\n",
    "    :param dec_cell: Decoder RNN Cell\n",
    "    :param dec_embeddings: Decoder embeddings\n",
    "    :param start_of_sequence_id: GO ID\n",
    "    :param end_of_sequence_id: EOS Id\n",
    "    :param max_target_sequence_length: Maximum length of target sequences\n",
    "    :param vocab_size: Size of decoder/target vocabulary\n",
    "    :param decoding_scope: TenorFlow Variable Scope for decoding\n",
    "    :param output_layer: Function to apply the output layer\n",
    "    :param batch_size: Batch size\n",
    "    :param keep_prob: Dropout keep probability\n",
    "    :return: BasicDecoderOutput containing inference logits and sample_id\n",
    "    \"\"\"\n",
    "    # Thanks to Mat seq2seq lesson\n",
    "    \n",
    "    start_tokens = tf.tile(tf.constant([start_of_sequence_id], dtype=tf.int32), [batch_size], name='start_tokens')\n",
    "    # Helper for the inference process.\n",
    "    inference_helper = tf.contrib.seq2seq.GreedyEmbeddingHelper(dec_embeddings,\n",
    "                                                            start_tokens,\n",
    "                                                            end_of_sequence_id)\n",
    "    # Basic decoder\n",
    "    inference_decoder = tf.contrib.seq2seq.BasicDecoder(dec_cell,\n",
    "                                                    inference_helper,\n",
    "                                                    encoder_state,\n",
    "                                                    output_layer)\n",
    "    # Perform dynamic decoding using the decoder\n",
    "    inference_decoder_output = tf.contrib.seq2seq.dynamic_decode(inference_decoder,\n",
    "                                                        impute_finished=True,\n",
    "                                                        maximum_iterations=max_target_sequence_length)[0]\n",
    "    return inference_decoder_output\n",
    "\n",
    "\"\"\"\n",
    "DON'T MODIFY ANYTHING IN THIS CELL THAT IS BELOW THIS LINE\n",
    "\"\"\"\n",
    "tests.test_decoding_layer_infer(decoding_layer_infer)"
   ]
  },
  {
   "cell_type": "markdown",
   "metadata": {},
   "source": [
    "### Build the Decoding Layer\n",
    "Implement `decoding_layer()` to create a Decoder RNN layer.\n",
    "\n",
    "* Embed the target sequences\n",
    "* Construct the decoder LSTM cell (just like you constructed the encoder cell above)\n",
    "* Create an output layer to map the outputs of the decoder to the elements of our vocabulary\n",
    "* Use the your `decoding_layer_train(encoder_state, dec_cell, dec_embed_input, target_sequence_length, max_target_sequence_length, output_layer, keep_prob)` function to get the training logits.\n",
    "* Use your `decoding_layer_infer(encoder_state, dec_cell, dec_embeddings, start_of_sequence_id, end_of_sequence_id, max_target_sequence_length, vocab_size, output_layer, batch_size, keep_prob)` function to get the inference logits.\n",
    "\n",
    "Note: You'll need to use [tf.variable_scope](https://www.tensorflow.org/api_docs/python/tf/variable_scope) to share variables between training and inference."
   ]
  },
  {
   "cell_type": "code",
   "execution_count": 12,
   "metadata": {},
   "outputs": [
    {
     "name": "stdout",
     "output_type": "stream",
     "text": [
      "Tests Passed\n"
     ]
    }
   ],
   "source": [
    "def decoding_layer(dec_input, encoder_state,\n",
    "                   target_sequence_length, max_target_sequence_length,\n",
    "                   rnn_size,\n",
    "                   num_layers, target_vocab_to_int, target_vocab_size,\n",
    "                   batch_size, keep_prob, decoding_embedding_size):\n",
    "    \"\"\"\n",
    "    Create decoding layer\n",
    "    :param dec_input: Decoder input\n",
    "    :param encoder_state: Encoder state\n",
    "    :param target_sequence_length: The lengths of each sequence in the target batch\n",
    "    :param max_target_sequence_length: Maximum length of target sequences\n",
    "    :param rnn_size: RNN Size\n",
    "    :param num_layers: Number of layers\n",
    "    :param target_vocab_to_int: Dictionary to go from the target words to an id\n",
    "    :param target_vocab_size: Size of target vocabulary\n",
    "    :param batch_size: The size of the batch\n",
    "    :param keep_prob: Dropout keep probability\n",
    "    :param decoding_embedding_size: Decoding embedding size\n",
    "    :return: Tuple of (Training BasicDecoderOutput, Inference BasicDecoderOutput)\n",
    "    \"\"\"\n",
    "    # 1. Decoder Embedding\n",
    "    dec_embeddings = tf.Variable(tf.random_uniform([target_vocab_size, decoding_embedding_size]))\n",
    "    dec_embed_input = tf.nn.embedding_lookup(dec_embeddings, dec_input)\n",
    "\n",
    "    # 2. Construct the decoder cell\n",
    "    def make_cell(rnn_size):\n",
    "        dec_cell = tf.contrib.rnn.LSTMCell(rnn_size, initializer=tf.random_uniform_initializer(-0.1, 0.1, seed=2))\n",
    "        return dec_cell\n",
    "\n",
    "    dec_cell = tf.contrib.rnn.MultiRNNCell([make_cell(rnn_size) for _ in range(num_layers)])\n",
    "    dec_cell = tf.contrib.rnn.DropoutWrapper(dec_cell, input_keep_prob=keep_prob)\n",
    "     \n",
    "    # 3. Dense layer to translate the decoder's output at each time step into a choice from the target vocabulary\n",
    "    output_layer = Dense(target_vocab_size, kernel_initializer = tf.truncated_normal_initializer(mean = 0.0, stddev=0.1))\n",
    "    \n",
    "    # 4. Set up a training decoder\n",
    "    with tf.variable_scope(\"decode\"):\n",
    "        TrainingBasicDecoderOutput = decoding_layer_train(encoder_state, dec_cell, dec_embed_input, \n",
    "                         target_sequence_length, max_target_sequence_length, \n",
    "                         output_layer, keep_prob)\n",
    "    \n",
    "    # 5. Set up an inference decoder\n",
    "    with tf.variable_scope(\"decode\", reuse=True):\n",
    "        InferenceBasicDecoderOutput = decoding_layer_infer(encoder_state, dec_cell, dec_embeddings, target_vocab_to_int['<GO>'],\n",
    "                         target_vocab_to_int['<EOS>'], max_target_sequence_length,\n",
    "                         target_vocab_size, output_layer, batch_size, keep_prob)\n",
    "    \n",
    "    #print(TrainingBasicDecoderOutput.rnn_output.get_shape().as_list())\n",
    "    #print(InferenceBasicDecoderOutput.sample_id.get_shape().as_list())\n",
    "    \n",
    "    return TrainingBasicDecoderOutput, InferenceBasicDecoderOutput\n",
    "\n",
    "\"\"\"\n",
    "DON'T MODIFY ANYTHING IN THIS CELL THAT IS BELOW THIS LINE\n",
    "\"\"\"\n",
    "tests.test_decoding_layer(decoding_layer)"
   ]
  },
  {
   "cell_type": "markdown",
   "metadata": {},
   "source": [
    "### Build the Neural Network\n",
    "Apply the functions you implemented above to:\n",
    "\n",
    "- Encode the input using your `encoding_layer(rnn_inputs, rnn_size, num_layers, keep_prob,  source_sequence_length, source_vocab_size, encoding_embedding_size)`.\n",
    "- Process target data using your `process_decoder_input(target_data, target_vocab_to_int, batch_size)` function.\n",
    "- Decode the encoded input using your `decoding_layer(dec_input, enc_state, target_sequence_length, max_target_sentence_length, rnn_size, num_layers, target_vocab_to_int, target_vocab_size, batch_size, keep_prob, dec_embedding_size)` function."
   ]
  },
  {
   "cell_type": "code",
   "execution_count": 13,
   "metadata": {},
   "outputs": [
    {
     "name": "stdout",
     "output_type": "stream",
     "text": [
      "Tests Passed\n"
     ]
    }
   ],
   "source": [
    "def seq2seq_model(input_data, target_data, keep_prob, batch_size,\n",
    "                  source_sequence_length, target_sequence_length,\n",
    "                  max_target_sentence_length,\n",
    "                  source_vocab_size, target_vocab_size,\n",
    "                  enc_embedding_size, dec_embedding_size,\n",
    "                  rnn_size, num_layers, target_vocab_to_int):\n",
    "    \"\"\"\n",
    "    Build the Sequence-to-Sequence part of the neural network\n",
    "    :param input_data: Input placeholder\n",
    "    :param target_data: Target placeholder\n",
    "    :param keep_prob: Dropout keep probability placeholder\n",
    "    :param batch_size: Batch Size\n",
    "    :param source_sequence_length: Sequence Lengths of source sequences in the batch\n",
    "    :param target_sequence_length: Sequence Lengths of target sequences in the batch\n",
    "    :param source_vocab_size: Source vocabulary size\n",
    "    :param target_vocab_size: Target vocabulary size\n",
    "    :param enc_embedding_size: Decoder embedding size\n",
    "    :param dec_embedding_size: Encoder embedding size\n",
    "    :param rnn_size: RNN Size\n",
    "    :param num_layers: Number of layers\n",
    "    :param target_vocab_to_int: Dictionary to go from the target words to an id\n",
    "    :return: Tuple of (Training BasicDecoderOutput, Inference BasicDecoderOutput)\n",
    "    \"\"\"\n",
    "    # Pass the input data through the encoder. We'll ignore the encoder output, but use the state\n",
    "    _, encoder_state = encoding_layer(input_data, \n",
    "                                      rnn_size, \n",
    "                                      num_layers,\n",
    "                                      keep_prob,\n",
    "                                      source_sequence_length,\n",
    "                                      source_vocab_size, \n",
    "                                      enc_embedding_size)\n",
    "    \n",
    "    # Prepare the target sequences we'll feed to the decoder in training mode\n",
    "    dec_input = process_decoder_input(target_data, target_vocab_to_int, batch_size)\n",
    "    \n",
    "    # Pass encoder state and decoder inputs to the decoders\n",
    "    TrainingBasicDecoderOutput, InferenceBasicDecoderOutput = decoding_layer(dec_input, encoder_state,\n",
    "                                                                               target_sequence_length, max_target_sentence_length,\n",
    "                                                                               rnn_size,\n",
    "                                                                               num_layers, target_vocab_to_int, target_vocab_size,\n",
    "                                                                               batch_size, keep_prob, dec_embedding_size)\n",
    "    \n",
    "    return TrainingBasicDecoderOutput, InferenceBasicDecoderOutput\n",
    "\n",
    "\n",
    "\"\"\"\n",
    "DON'T MODIFY ANYTHING IN THIS CELL THAT IS BELOW THIS LINE\n",
    "\"\"\"\n",
    "tests.test_seq2seq_model(seq2seq_model)"
   ]
  },
  {
   "cell_type": "markdown",
   "metadata": {},
   "source": [
    "## Neural Network Training\n",
    "### Hyperparameters\n",
    "Tune the following parameters:\n",
    "\n",
    "- Set `epochs` to the number of epochs.\n",
    "- Set `batch_size` to the batch size.\n",
    "- Set `rnn_size` to the size of the RNNs.\n",
    "- Set `num_layers` to the number of layers.\n",
    "- Set `encoding_embedding_size` to the size of the embedding for the encoder.\n",
    "- Set `decoding_embedding_size` to the size of the embedding for the decoder.\n",
    "- Set `learning_rate` to the learning rate.\n",
    "- Set `keep_probability` to the Dropout keep probability\n",
    "- Set `display_step` to state how many steps between each debug output statement"
   ]
  },
  {
   "cell_type": "code",
   "execution_count": 14,
   "metadata": {
    "collapsed": true
   },
   "outputs": [],
   "source": [
    "# Number of Epochs\n",
    "epochs = 30\n",
    "# Batch Size\n",
    "batch_size = 128\n",
    "# RNN Size\n",
    "rnn_size = 64\n",
    "# Number of Layers\n",
    "num_layers = 2\n",
    "# Embedding Size\n",
    "encoding_embedding_size = 30\n",
    "decoding_embedding_size = 30\n",
    "# Learning Rate\n",
    "learning_rate = 0.001\n",
    "# Dropout Keep Probability\n",
    "keep_probability = 0.75\n",
    "\n",
    "display_step = 100"
   ]
  },
  {
   "cell_type": "markdown",
   "metadata": {},
   "source": [
    "### Build the Graph\n",
    "Build the graph using the neural network you implemented."
   ]
  },
  {
   "cell_type": "code",
   "execution_count": 15,
   "metadata": {
    "collapsed": true
   },
   "outputs": [],
   "source": [
    "\"\"\"\n",
    "DON'T MODIFY ANYTHING IN THIS CELL\n",
    "\"\"\"\n",
    "save_path = 'checkpoints/dev'\n",
    "(source_int_text, target_int_text), (source_vocab_to_int, target_vocab_to_int), _ = helper.load_preprocess()\n",
    "max_target_sentence_length = max([len(sentence) for sentence in source_int_text])\n",
    "\n",
    "train_graph = tf.Graph()\n",
    "with train_graph.as_default():\n",
    "    input_data, targets, lr, keep_prob, target_sequence_length, max_target_sequence_length, source_sequence_length = model_inputs()\n",
    "\n",
    "    #sequence_length = tf.placeholder_with_default(max_target_sentence_length, None, name='sequence_length')\n",
    "    input_shape = tf.shape(input_data)\n",
    "\n",
    "    train_logits, inference_logits = seq2seq_model(tf.reverse(input_data, [-1]),\n",
    "                                                   targets,\n",
    "                                                   keep_prob,\n",
    "                                                   batch_size,\n",
    "                                                   source_sequence_length,\n",
    "                                                   target_sequence_length,\n",
    "                                                   max_target_sequence_length,\n",
    "                                                   len(source_vocab_to_int),\n",
    "                                                   len(target_vocab_to_int),\n",
    "                                                   encoding_embedding_size,\n",
    "                                                   decoding_embedding_size,\n",
    "                                                   rnn_size,\n",
    "                                                   num_layers,\n",
    "                                                   target_vocab_to_int)\n",
    "\n",
    "\n",
    "    training_logits = tf.identity(train_logits.rnn_output, name='logits')\n",
    "    inference_logits = tf.identity(inference_logits.sample_id, name='predictions')\n",
    "\n",
    "    masks = tf.sequence_mask(target_sequence_length, max_target_sequence_length, dtype=tf.float32, name='masks')\n",
    "\n",
    "    with tf.name_scope(\"optimization\"):\n",
    "        # Loss function\n",
    "        cost = tf.contrib.seq2seq.sequence_loss(\n",
    "            training_logits,\n",
    "            targets,\n",
    "            masks)\n",
    "\n",
    "        # Optimizer\n",
    "        optimizer = tf.train.AdamOptimizer(lr)\n",
    "\n",
    "        # Gradient Clipping\n",
    "        gradients = optimizer.compute_gradients(cost)\n",
    "        capped_gradients = [(tf.clip_by_value(grad, -1., 1.), var) for grad, var in gradients if grad is not None]\n",
    "        train_op = optimizer.apply_gradients(capped_gradients)\n"
   ]
  },
  {
   "cell_type": "markdown",
   "metadata": {},
   "source": [
    "Batch and pad the source and target sequences"
   ]
  },
  {
   "cell_type": "code",
   "execution_count": 16,
   "metadata": {
    "collapsed": true
   },
   "outputs": [],
   "source": [
    "\"\"\"\n",
    "DON'T MODIFY ANYTHING IN THIS CELL\n",
    "\"\"\"\n",
    "def pad_sentence_batch(sentence_batch, pad_int):\n",
    "    \"\"\"Pad sentences with <PAD> so that each sentence of a batch has the same length\"\"\"\n",
    "    max_sentence = max([len(sentence) for sentence in sentence_batch])\n",
    "    return [sentence + [pad_int] * (max_sentence - len(sentence)) for sentence in sentence_batch]\n",
    "\n",
    "\n",
    "def get_batches(sources, targets, batch_size, source_pad_int, target_pad_int):\n",
    "    \"\"\"Batch targets, sources, and the lengths of their sentences together\"\"\"\n",
    "    for batch_i in range(0, len(sources)//batch_size):\n",
    "        start_i = batch_i * batch_size\n",
    "\n",
    "        # Slice the right amount for the batch\n",
    "        sources_batch = sources[start_i:start_i + batch_size]\n",
    "        targets_batch = targets[start_i:start_i + batch_size]\n",
    "\n",
    "        # Pad\n",
    "        pad_sources_batch = np.array(pad_sentence_batch(sources_batch, source_pad_int))\n",
    "        pad_targets_batch = np.array(pad_sentence_batch(targets_batch, target_pad_int))\n",
    "\n",
    "        # Need the lengths for the _lengths parameters\n",
    "        pad_targets_lengths = []\n",
    "        for target in pad_targets_batch:\n",
    "            pad_targets_lengths.append(len(target))\n",
    "\n",
    "        pad_source_lengths = []\n",
    "        for source in pad_sources_batch:\n",
    "            pad_source_lengths.append(len(source))\n",
    "\n",
    "        yield pad_sources_batch, pad_targets_batch, pad_source_lengths, pad_targets_lengths\n"
   ]
  },
  {
   "cell_type": "markdown",
   "metadata": {},
   "source": [
    "### Train\n",
    "Train the neural network on the preprocessed data. If you have a hard time getting a good loss, check the forms to see if anyone is having the same problem."
   ]
  },
  {
   "cell_type": "code",
   "execution_count": 17,
   "metadata": {
    "scrolled": true
   },
   "outputs": [
    {
     "name": "stdout",
     "output_type": "stream",
     "text": [
      "Epoch   0 Batch  100/1077 - Train Accuracy: 0.3027, Validation Accuracy: 0.3718, Loss: 3.1734\n",
      "Epoch   0 Batch  200/1077 - Train Accuracy: 0.3965, Validation Accuracy: 0.4524, Loss: 2.6702\n",
      "Epoch   0 Batch  300/1077 - Train Accuracy: 0.4087, Validation Accuracy: 0.4901, Loss: 2.5008\n",
      "Epoch   0 Batch  400/1077 - Train Accuracy: 0.4410, Validation Accuracy: 0.4940, Loss: 2.2370\n",
      "Epoch   0 Batch  500/1077 - Train Accuracy: 0.4715, Validation Accuracy: 0.5075, Loss: 2.0259\n",
      "Epoch   0 Batch  600/1077 - Train Accuracy: 0.4948, Validation Accuracy: 0.5082, Loss: 1.8239\n",
      "Epoch   0 Batch  700/1077 - Train Accuracy: 0.4711, Validation Accuracy: 0.5167, Loss: 1.6599\n",
      "Epoch   0 Batch  800/1077 - Train Accuracy: 0.4352, Validation Accuracy: 0.5011, Loss: 1.5479\n",
      "Epoch   0 Batch  900/1077 - Train Accuracy: 0.4348, Validation Accuracy: 0.4659, Loss: 1.3844\n",
      "Epoch   0 Batch 1000/1077 - Train Accuracy: 0.4293, Validation Accuracy: 0.4123, Loss: 1.1524\n",
      "Epoch   1 Batch  100/1077 - Train Accuracy: 0.2676, Validation Accuracy: 0.2674, Loss: 1.0638\n",
      "Epoch   1 Batch  200/1077 - Train Accuracy: 0.2793, Validation Accuracy: 0.2784, Loss: 1.0145\n",
      "Epoch   1 Batch  300/1077 - Train Accuracy: 0.4120, Validation Accuracy: 0.5025, Loss: 0.9859\n",
      "Epoch   1 Batch  400/1077 - Train Accuracy: 0.5145, Validation Accuracy: 0.5494, Loss: 0.9011\n",
      "Epoch   1 Batch  500/1077 - Train Accuracy: 0.5445, Validation Accuracy: 0.5799, Loss: 0.8514\n",
      "Epoch   1 Batch  600/1077 - Train Accuracy: 0.5815, Validation Accuracy: 0.5746, Loss: 0.7746\n",
      "Epoch   1 Batch  700/1077 - Train Accuracy: 0.5430, Validation Accuracy: 0.5842, Loss: 0.7514\n",
      "Epoch   1 Batch  800/1077 - Train Accuracy: 0.5359, Validation Accuracy: 0.5707, Loss: 0.7516\n",
      "Epoch   1 Batch  900/1077 - Train Accuracy: 0.5797, Validation Accuracy: 0.5909, Loss: 0.7320\n",
      "Epoch   1 Batch 1000/1077 - Train Accuracy: 0.6336, Validation Accuracy: 0.6072, Loss: 0.6505\n",
      "Epoch   2 Batch  100/1077 - Train Accuracy: 0.6160, Validation Accuracy: 0.6246, Loss: 0.6810\n",
      "Epoch   2 Batch  200/1077 - Train Accuracy: 0.5824, Validation Accuracy: 0.6200, Loss: 0.6580\n",
      "Epoch   2 Batch  300/1077 - Train Accuracy: 0.6287, Validation Accuracy: 0.6261, Loss: 0.6438\n",
      "Epoch   2 Batch  400/1077 - Train Accuracy: 0.6219, Validation Accuracy: 0.6317, Loss: 0.6310\n",
      "Epoch   2 Batch  500/1077 - Train Accuracy: 0.6227, Validation Accuracy: 0.6360, Loss: 0.5963\n",
      "Epoch   2 Batch  600/1077 - Train Accuracy: 0.6421, Validation Accuracy: 0.6406, Loss: 0.5523\n",
      "Epoch   2 Batch  700/1077 - Train Accuracy: 0.5980, Validation Accuracy: 0.6506, Loss: 0.5607\n",
      "Epoch   2 Batch  800/1077 - Train Accuracy: 0.6000, Validation Accuracy: 0.6424, Loss: 0.5620\n",
      "Epoch   2 Batch  900/1077 - Train Accuracy: 0.6527, Validation Accuracy: 0.6502, Loss: 0.5459\n",
      "Epoch   2 Batch 1000/1077 - Train Accuracy: 0.6894, Validation Accuracy: 0.6619, Loss: 0.4770\n",
      "Epoch   3 Batch  100/1077 - Train Accuracy: 0.6590, Validation Accuracy: 0.6630, Loss: 0.5084\n",
      "Epoch   3 Batch  200/1077 - Train Accuracy: 0.6266, Validation Accuracy: 0.6669, Loss: 0.4968\n",
      "Epoch   3 Batch  300/1077 - Train Accuracy: 0.6468, Validation Accuracy: 0.6584, Loss: 0.4861\n",
      "Epoch   3 Batch  400/1077 - Train Accuracy: 0.6609, Validation Accuracy: 0.6747, Loss: 0.4842\n",
      "Epoch   3 Batch  500/1077 - Train Accuracy: 0.6746, Validation Accuracy: 0.6815, Loss: 0.4478\n",
      "Epoch   3 Batch  600/1077 - Train Accuracy: 0.6931, Validation Accuracy: 0.6708, Loss: 0.4177\n",
      "Epoch   3 Batch  700/1077 - Train Accuracy: 0.6852, Validation Accuracy: 0.7077, Loss: 0.4265\n",
      "Epoch   3 Batch  800/1077 - Train Accuracy: 0.6867, Validation Accuracy: 0.7074, Loss: 0.4211\n",
      "Epoch   3 Batch  900/1077 - Train Accuracy: 0.6906, Validation Accuracy: 0.6996, Loss: 0.4200\n",
      "Epoch   3 Batch 1000/1077 - Train Accuracy: 0.7712, Validation Accuracy: 0.7191, Loss: 0.3667\n",
      "Epoch   4 Batch  100/1077 - Train Accuracy: 0.7562, Validation Accuracy: 0.7472, Loss: 0.3819\n",
      "Epoch   4 Batch  200/1077 - Train Accuracy: 0.6883, Validation Accuracy: 0.7038, Loss: 0.3828\n",
      "Epoch   4 Batch  300/1077 - Train Accuracy: 0.7303, Validation Accuracy: 0.7280, Loss: 0.3668\n",
      "Epoch   4 Batch  400/1077 - Train Accuracy: 0.7293, Validation Accuracy: 0.7418, Loss: 0.3691\n",
      "Epoch   4 Batch  500/1077 - Train Accuracy: 0.7574, Validation Accuracy: 0.7702, Loss: 0.3354\n",
      "Epoch   4 Batch  600/1077 - Train Accuracy: 0.7630, Validation Accuracy: 0.7486, Loss: 0.3140\n",
      "Epoch   4 Batch  700/1077 - Train Accuracy: 0.7434, Validation Accuracy: 0.7507, Loss: 0.3159\n",
      "Epoch   4 Batch  800/1077 - Train Accuracy: 0.7664, Validation Accuracy: 0.7564, Loss: 0.3110\n",
      "Epoch   4 Batch  900/1077 - Train Accuracy: 0.7555, Validation Accuracy: 0.7670, Loss: 0.3223\n",
      "Epoch   4 Batch 1000/1077 - Train Accuracy: 0.7887, Validation Accuracy: 0.7731, Loss: 0.2791\n",
      "Epoch   5 Batch  100/1077 - Train Accuracy: 0.7883, Validation Accuracy: 0.8157, Loss: 0.2821\n",
      "Epoch   5 Batch  200/1077 - Train Accuracy: 0.7547, Validation Accuracy: 0.7915, Loss: 0.2842\n",
      "Epoch   5 Batch  300/1077 - Train Accuracy: 0.8322, Validation Accuracy: 0.7915, Loss: 0.2703\n",
      "Epoch   5 Batch  400/1077 - Train Accuracy: 0.7617, Validation Accuracy: 0.7844, Loss: 0.2748\n",
      "Epoch   5 Batch  500/1077 - Train Accuracy: 0.7828, Validation Accuracy: 0.8036, Loss: 0.2490\n",
      "Epoch   5 Batch  600/1077 - Train Accuracy: 0.8225, Validation Accuracy: 0.7979, Loss: 0.2277\n",
      "Epoch   5 Batch  700/1077 - Train Accuracy: 0.8336, Validation Accuracy: 0.8018, Loss: 0.2232\n",
      "Epoch   5 Batch  800/1077 - Train Accuracy: 0.8172, Validation Accuracy: 0.8097, Loss: 0.2192\n",
      "Epoch   5 Batch  900/1077 - Train Accuracy: 0.8266, Validation Accuracy: 0.8175, Loss: 0.2366\n",
      "Epoch   5 Batch 1000/1077 - Train Accuracy: 0.8304, Validation Accuracy: 0.8047, Loss: 0.2017\n",
      "Epoch   6 Batch  100/1077 - Train Accuracy: 0.8383, Validation Accuracy: 0.8363, Loss: 0.1926\n",
      "Epoch   6 Batch  200/1077 - Train Accuracy: 0.8063, Validation Accuracy: 0.8310, Loss: 0.2048\n",
      "Epoch   6 Batch  300/1077 - Train Accuracy: 0.8503, Validation Accuracy: 0.8178, Loss: 0.1830\n",
      "Epoch   6 Batch  400/1077 - Train Accuracy: 0.8094, Validation Accuracy: 0.8366, Loss: 0.2001\n",
      "Epoch   6 Batch  500/1077 - Train Accuracy: 0.8527, Validation Accuracy: 0.8274, Loss: 0.1654\n",
      "Epoch   6 Batch  600/1077 - Train Accuracy: 0.8534, Validation Accuracy: 0.8192, Loss: 0.1707\n",
      "Epoch   6 Batch  700/1077 - Train Accuracy: 0.8730, Validation Accuracy: 0.8455, Loss: 0.1550\n",
      "Epoch   6 Batch  800/1077 - Train Accuracy: 0.8691, Validation Accuracy: 0.8430, Loss: 0.1531\n",
      "Epoch   6 Batch  900/1077 - Train Accuracy: 0.8695, Validation Accuracy: 0.8349, Loss: 0.1677\n",
      "Epoch   6 Batch 1000/1077 - Train Accuracy: 0.8679, Validation Accuracy: 0.8477, Loss: 0.1467\n",
      "Epoch   7 Batch  100/1077 - Train Accuracy: 0.8590, Validation Accuracy: 0.8409, Loss: 0.1392\n",
      "Epoch   7 Batch  200/1077 - Train Accuracy: 0.8348, Validation Accuracy: 0.8434, Loss: 0.1495\n",
      "Epoch   7 Batch  300/1077 - Train Accuracy: 0.8914, Validation Accuracy: 0.8438, Loss: 0.1365\n",
      "Epoch   7 Batch  400/1077 - Train Accuracy: 0.8590, Validation Accuracy: 0.8565, Loss: 0.1504\n",
      "Epoch   7 Batch  500/1077 - Train Accuracy: 0.8816, Validation Accuracy: 0.8466, Loss: 0.1233\n",
      "Epoch   7 Batch  600/1077 - Train Accuracy: 0.8888, Validation Accuracy: 0.8558, Loss: 0.1266\n",
      "Epoch   7 Batch  700/1077 - Train Accuracy: 0.8910, Validation Accuracy: 0.8654, Loss: 0.1129\n",
      "Epoch   7 Batch  800/1077 - Train Accuracy: 0.8965, Validation Accuracy: 0.8707, Loss: 0.1146\n",
      "Epoch   7 Batch  900/1077 - Train Accuracy: 0.9062, Validation Accuracy: 0.8459, Loss: 0.1289\n",
      "Epoch   7 Batch 1000/1077 - Train Accuracy: 0.8884, Validation Accuracy: 0.8675, Loss: 0.1098\n",
      "Epoch   8 Batch  100/1077 - Train Accuracy: 0.8840, Validation Accuracy: 0.8846, Loss: 0.1047\n",
      "Epoch   8 Batch  200/1077 - Train Accuracy: 0.8852, Validation Accuracy: 0.8793, Loss: 0.1108\n",
      "Epoch   8 Batch  300/1077 - Train Accuracy: 0.9038, Validation Accuracy: 0.8690, Loss: 0.0968\n",
      "Epoch   8 Batch  400/1077 - Train Accuracy: 0.8852, Validation Accuracy: 0.8675, Loss: 0.1073\n",
      "Epoch   8 Batch  500/1077 - Train Accuracy: 0.8934, Validation Accuracy: 0.8615, Loss: 0.0914\n",
      "Epoch   8 Batch  600/1077 - Train Accuracy: 0.8958, Validation Accuracy: 0.8711, Loss: 0.0983\n",
      "Epoch   8 Batch  700/1077 - Train Accuracy: 0.9070, Validation Accuracy: 0.8867, Loss: 0.0882\n",
      "Epoch   8 Batch  800/1077 - Train Accuracy: 0.9168, Validation Accuracy: 0.8835, Loss: 0.0821\n"
     ]
    },
    {
     "name": "stdout",
     "output_type": "stream",
     "text": [
      "Epoch   8 Batch  900/1077 - Train Accuracy: 0.9148, Validation Accuracy: 0.8746, Loss: 0.0949\n",
      "Epoch   8 Batch 1000/1077 - Train Accuracy: 0.9204, Validation Accuracy: 0.9094, Loss: 0.0832\n",
      "Epoch   9 Batch  100/1077 - Train Accuracy: 0.8902, Validation Accuracy: 0.8828, Loss: 0.0779\n",
      "Epoch   9 Batch  200/1077 - Train Accuracy: 0.8875, Validation Accuracy: 0.8970, Loss: 0.0923\n",
      "Epoch   9 Batch  300/1077 - Train Accuracy: 0.9227, Validation Accuracy: 0.8778, Loss: 0.0720\n",
      "Epoch   9 Batch  400/1077 - Train Accuracy: 0.9047, Validation Accuracy: 0.9073, Loss: 0.0836\n",
      "Epoch   9 Batch  500/1077 - Train Accuracy: 0.9230, Validation Accuracy: 0.9041, Loss: 0.0653\n",
      "Epoch   9 Batch  600/1077 - Train Accuracy: 0.9029, Validation Accuracy: 0.8835, Loss: 0.0812\n",
      "Epoch   9 Batch  700/1077 - Train Accuracy: 0.9148, Validation Accuracy: 0.8963, Loss: 0.0668\n",
      "Epoch   9 Batch  800/1077 - Train Accuracy: 0.9254, Validation Accuracy: 0.9109, Loss: 0.0626\n",
      "Epoch   9 Batch  900/1077 - Train Accuracy: 0.9285, Validation Accuracy: 0.9020, Loss: 0.0773\n",
      "Epoch   9 Batch 1000/1077 - Train Accuracy: 0.9271, Validation Accuracy: 0.9126, Loss: 0.0714\n",
      "Epoch  10 Batch  100/1077 - Train Accuracy: 0.9035, Validation Accuracy: 0.8991, Loss: 0.0652\n",
      "Epoch  10 Batch  200/1077 - Train Accuracy: 0.9020, Validation Accuracy: 0.9094, Loss: 0.0730\n",
      "Epoch  10 Batch  300/1077 - Train Accuracy: 0.9243, Validation Accuracy: 0.9105, Loss: 0.0582\n",
      "Epoch  10 Batch  400/1077 - Train Accuracy: 0.9082, Validation Accuracy: 0.9162, Loss: 0.0704\n",
      "Epoch  10 Batch  500/1077 - Train Accuracy: 0.9105, Validation Accuracy: 0.8942, Loss: 0.0570\n",
      "Epoch  10 Batch  600/1077 - Train Accuracy: 0.9077, Validation Accuracy: 0.9180, Loss: 0.0653\n",
      "Epoch  10 Batch  700/1077 - Train Accuracy: 0.9289, Validation Accuracy: 0.8977, Loss: 0.0548\n",
      "Epoch  10 Batch  800/1077 - Train Accuracy: 0.9426, Validation Accuracy: 0.9254, Loss: 0.0536\n",
      "Epoch  10 Batch  900/1077 - Train Accuracy: 0.9242, Validation Accuracy: 0.8938, Loss: 0.0707\n",
      "Epoch  10 Batch 1000/1077 - Train Accuracy: 0.9245, Validation Accuracy: 0.9077, Loss: 0.0586\n",
      "Epoch  11 Batch  100/1077 - Train Accuracy: 0.8984, Validation Accuracy: 0.9062, Loss: 0.0554\n",
      "Epoch  11 Batch  200/1077 - Train Accuracy: 0.9117, Validation Accuracy: 0.9045, Loss: 0.0742\n",
      "Epoch  11 Batch  300/1077 - Train Accuracy: 0.9165, Validation Accuracy: 0.9137, Loss: 0.0520\n",
      "Epoch  11 Batch  400/1077 - Train Accuracy: 0.9086, Validation Accuracy: 0.9364, Loss: 0.0676\n",
      "Epoch  11 Batch  500/1077 - Train Accuracy: 0.9457, Validation Accuracy: 0.9109, Loss: 0.0469\n",
      "Epoch  11 Batch  600/1077 - Train Accuracy: 0.9159, Validation Accuracy: 0.9293, Loss: 0.0613\n",
      "Epoch  11 Batch  700/1077 - Train Accuracy: 0.9480, Validation Accuracy: 0.9222, Loss: 0.0498\n",
      "Epoch  11 Batch  800/1077 - Train Accuracy: 0.9379, Validation Accuracy: 0.9226, Loss: 0.0478\n",
      "Epoch  11 Batch  900/1077 - Train Accuracy: 0.9289, Validation Accuracy: 0.9183, Loss: 0.0629\n",
      "Epoch  11 Batch 1000/1077 - Train Accuracy: 0.9394, Validation Accuracy: 0.9254, Loss: 0.0545\n",
      "Epoch  12 Batch  100/1077 - Train Accuracy: 0.9176, Validation Accuracy: 0.9237, Loss: 0.0503\n",
      "Epoch  12 Batch  200/1077 - Train Accuracy: 0.9316, Validation Accuracy: 0.9251, Loss: 0.0557\n",
      "Epoch  12 Batch  300/1077 - Train Accuracy: 0.9445, Validation Accuracy: 0.9237, Loss: 0.0481\n",
      "Epoch  12 Batch  400/1077 - Train Accuracy: 0.9289, Validation Accuracy: 0.9371, Loss: 0.0634\n",
      "Epoch  12 Batch  500/1077 - Train Accuracy: 0.9582, Validation Accuracy: 0.9240, Loss: 0.0423\n",
      "Epoch  12 Batch  600/1077 - Train Accuracy: 0.9245, Validation Accuracy: 0.9183, Loss: 0.0580\n",
      "Epoch  12 Batch  700/1077 - Train Accuracy: 0.9430, Validation Accuracy: 0.9368, Loss: 0.0407\n",
      "Epoch  12 Batch  800/1077 - Train Accuracy: 0.9543, Validation Accuracy: 0.9219, Loss: 0.0431\n",
      "Epoch  12 Batch  900/1077 - Train Accuracy: 0.9422, Validation Accuracy: 0.9251, Loss: 0.0534\n",
      "Epoch  12 Batch 1000/1077 - Train Accuracy: 0.9531, Validation Accuracy: 0.9169, Loss: 0.0540\n",
      "Epoch  13 Batch  100/1077 - Train Accuracy: 0.9051, Validation Accuracy: 0.9240, Loss: 0.0443\n",
      "Epoch  13 Batch  200/1077 - Train Accuracy: 0.9426, Validation Accuracy: 0.9418, Loss: 0.0512\n",
      "Epoch  13 Batch  300/1077 - Train Accuracy: 0.9716, Validation Accuracy: 0.9205, Loss: 0.0426\n",
      "Epoch  13 Batch  400/1077 - Train Accuracy: 0.9262, Validation Accuracy: 0.9229, Loss: 0.0487\n",
      "Epoch  13 Batch  500/1077 - Train Accuracy: 0.9582, Validation Accuracy: 0.9347, Loss: 0.0368\n",
      "Epoch  13 Batch  600/1077 - Train Accuracy: 0.9249, Validation Accuracy: 0.9123, Loss: 0.0464\n",
      "Epoch  13 Batch  700/1077 - Train Accuracy: 0.9613, Validation Accuracy: 0.9467, Loss: 0.0391\n",
      "Epoch  13 Batch  800/1077 - Train Accuracy: 0.9535, Validation Accuracy: 0.9411, Loss: 0.0430\n",
      "Epoch  13 Batch  900/1077 - Train Accuracy: 0.9484, Validation Accuracy: 0.9339, Loss: 0.0482\n",
      "Epoch  13 Batch 1000/1077 - Train Accuracy: 0.9446, Validation Accuracy: 0.9247, Loss: 0.0474\n",
      "Epoch  14 Batch  100/1077 - Train Accuracy: 0.9156, Validation Accuracy: 0.9460, Loss: 0.0438\n",
      "Epoch  14 Batch  200/1077 - Train Accuracy: 0.9402, Validation Accuracy: 0.9513, Loss: 0.0450\n",
      "Epoch  14 Batch  300/1077 - Train Accuracy: 0.9597, Validation Accuracy: 0.9435, Loss: 0.0355\n",
      "Epoch  14 Batch  400/1077 - Train Accuracy: 0.9387, Validation Accuracy: 0.9446, Loss: 0.0417\n",
      "Epoch  14 Batch  500/1077 - Train Accuracy: 0.9641, Validation Accuracy: 0.9354, Loss: 0.0326\n",
      "Epoch  14 Batch  600/1077 - Train Accuracy: 0.9505, Validation Accuracy: 0.9183, Loss: 0.0434\n",
      "Epoch  14 Batch  700/1077 - Train Accuracy: 0.9586, Validation Accuracy: 0.9272, Loss: 0.0347\n",
      "Epoch  14 Batch  800/1077 - Train Accuracy: 0.9551, Validation Accuracy: 0.9322, Loss: 0.0358\n",
      "Epoch  14 Batch  900/1077 - Train Accuracy: 0.9559, Validation Accuracy: 0.9492, Loss: 0.0416\n",
      "Epoch  14 Batch 1000/1077 - Train Accuracy: 0.9513, Validation Accuracy: 0.9343, Loss: 0.0430\n",
      "Epoch  15 Batch  100/1077 - Train Accuracy: 0.9223, Validation Accuracy: 0.9521, Loss: 0.0419\n",
      "Epoch  15 Batch  200/1077 - Train Accuracy: 0.9363, Validation Accuracy: 0.9567, Loss: 0.0440\n",
      "Epoch  15 Batch  300/1077 - Train Accuracy: 0.9683, Validation Accuracy: 0.9432, Loss: 0.0304\n",
      "Epoch  15 Batch  400/1077 - Train Accuracy: 0.9301, Validation Accuracy: 0.9553, Loss: 0.0425\n",
      "Epoch  15 Batch  500/1077 - Train Accuracy: 0.9613, Validation Accuracy: 0.9446, Loss: 0.0329\n",
      "Epoch  15 Batch  600/1077 - Train Accuracy: 0.9516, Validation Accuracy: 0.9084, Loss: 0.0385\n",
      "Epoch  15 Batch  700/1077 - Train Accuracy: 0.9711, Validation Accuracy: 0.9379, Loss: 0.0318\n",
      "Epoch  15 Batch  800/1077 - Train Accuracy: 0.9664, Validation Accuracy: 0.9556, Loss: 0.0336\n",
      "Epoch  15 Batch  900/1077 - Train Accuracy: 0.9602, Validation Accuracy: 0.9418, Loss: 0.0390\n",
      "Epoch  15 Batch 1000/1077 - Train Accuracy: 0.9483, Validation Accuracy: 0.9485, Loss: 0.0407\n",
      "Epoch  16 Batch  100/1077 - Train Accuracy: 0.9285, Validation Accuracy: 0.9428, Loss: 0.0363\n",
      "Epoch  16 Batch  200/1077 - Train Accuracy: 0.9539, Validation Accuracy: 0.9652, Loss: 0.0370\n",
      "Epoch  16 Batch  300/1077 - Train Accuracy: 0.9704, Validation Accuracy: 0.9595, Loss: 0.0285\n",
      "Epoch  16 Batch  400/1077 - Train Accuracy: 0.9422, Validation Accuracy: 0.9549, Loss: 0.0372\n",
      "Epoch  16 Batch  500/1077 - Train Accuracy: 0.9590, Validation Accuracy: 0.9471, Loss: 0.0330\n",
      "Epoch  16 Batch  600/1077 - Train Accuracy: 0.9572, Validation Accuracy: 0.9457, Loss: 0.0390\n",
      "Epoch  16 Batch  700/1077 - Train Accuracy: 0.9695, Validation Accuracy: 0.9457, Loss: 0.0337\n",
      "Epoch  16 Batch  800/1077 - Train Accuracy: 0.9563, Validation Accuracy: 0.9592, Loss: 0.0277\n",
      "Epoch  16 Batch  900/1077 - Train Accuracy: 0.9715, Validation Accuracy: 0.9595, Loss: 0.0341\n",
      "Epoch  16 Batch 1000/1077 - Train Accuracy: 0.9531, Validation Accuracy: 0.9560, Loss: 0.0351\n",
      "Epoch  17 Batch  100/1077 - Train Accuracy: 0.9348, Validation Accuracy: 0.9485, Loss: 0.0341\n",
      "Epoch  17 Batch  200/1077 - Train Accuracy: 0.9555, Validation Accuracy: 0.9673, Loss: 0.0331\n",
      "Epoch  17 Batch  300/1077 - Train Accuracy: 0.9638, Validation Accuracy: 0.9595, Loss: 0.0277\n",
      "Epoch  17 Batch  400/1077 - Train Accuracy: 0.9437, Validation Accuracy: 0.9577, Loss: 0.0362\n",
      "Epoch  17 Batch  500/1077 - Train Accuracy: 0.9711, Validation Accuracy: 0.9496, Loss: 0.0266\n",
      "Epoch  17 Batch  600/1077 - Train Accuracy: 0.9609, Validation Accuracy: 0.9439, Loss: 0.0372\n"
     ]
    },
    {
     "name": "stdout",
     "output_type": "stream",
     "text": [
      "Epoch  17 Batch  700/1077 - Train Accuracy: 0.9684, Validation Accuracy: 0.9670, Loss: 0.0271\n",
      "Epoch  17 Batch  800/1077 - Train Accuracy: 0.9695, Validation Accuracy: 0.9577, Loss: 0.0325\n",
      "Epoch  17 Batch  900/1077 - Train Accuracy: 0.9660, Validation Accuracy: 0.9645, Loss: 0.0323\n",
      "Epoch  17 Batch 1000/1077 - Train Accuracy: 0.9557, Validation Accuracy: 0.9496, Loss: 0.0303\n",
      "Epoch  18 Batch  100/1077 - Train Accuracy: 0.9285, Validation Accuracy: 0.9577, Loss: 0.0312\n",
      "Epoch  18 Batch  200/1077 - Train Accuracy: 0.9586, Validation Accuracy: 0.9513, Loss: 0.0306\n",
      "Epoch  18 Batch  300/1077 - Train Accuracy: 0.9519, Validation Accuracy: 0.9560, Loss: 0.0281\n",
      "Epoch  18 Batch  400/1077 - Train Accuracy: 0.9449, Validation Accuracy: 0.9542, Loss: 0.0392\n",
      "Epoch  18 Batch  500/1077 - Train Accuracy: 0.9652, Validation Accuracy: 0.9574, Loss: 0.0274\n",
      "Epoch  18 Batch  600/1077 - Train Accuracy: 0.9621, Validation Accuracy: 0.9499, Loss: 0.0344\n",
      "Epoch  18 Batch  700/1077 - Train Accuracy: 0.9633, Validation Accuracy: 0.9620, Loss: 0.0257\n",
      "Epoch  18 Batch  800/1077 - Train Accuracy: 0.9703, Validation Accuracy: 0.9595, Loss: 0.0292\n",
      "Epoch  18 Batch  900/1077 - Train Accuracy: 0.9680, Validation Accuracy: 0.9553, Loss: 0.0323\n",
      "Epoch  18 Batch 1000/1077 - Train Accuracy: 0.9565, Validation Accuracy: 0.9606, Loss: 0.0288\n",
      "Epoch  19 Batch  100/1077 - Train Accuracy: 0.9410, Validation Accuracy: 0.9528, Loss: 0.0298\n",
      "Epoch  19 Batch  200/1077 - Train Accuracy: 0.9566, Validation Accuracy: 0.9616, Loss: 0.0309\n",
      "Epoch  19 Batch  300/1077 - Train Accuracy: 0.9618, Validation Accuracy: 0.9616, Loss: 0.0232\n",
      "Epoch  19 Batch  400/1077 - Train Accuracy: 0.9379, Validation Accuracy: 0.9620, Loss: 0.0303\n",
      "Epoch  19 Batch  500/1077 - Train Accuracy: 0.9801, Validation Accuracy: 0.9542, Loss: 0.0245\n",
      "Epoch  19 Batch  600/1077 - Train Accuracy: 0.9598, Validation Accuracy: 0.9513, Loss: 0.0319\n",
      "Epoch  19 Batch  700/1077 - Train Accuracy: 0.9703, Validation Accuracy: 0.9652, Loss: 0.0227\n",
      "Epoch  19 Batch  800/1077 - Train Accuracy: 0.9543, Validation Accuracy: 0.9563, Loss: 0.0284\n",
      "Epoch  19 Batch  900/1077 - Train Accuracy: 0.9742, Validation Accuracy: 0.9570, Loss: 0.0287\n",
      "Epoch  19 Batch 1000/1077 - Train Accuracy: 0.9606, Validation Accuracy: 0.9663, Loss: 0.0287\n",
      "Epoch  20 Batch  100/1077 - Train Accuracy: 0.9457, Validation Accuracy: 0.9620, Loss: 0.0246\n",
      "Epoch  20 Batch  200/1077 - Train Accuracy: 0.9715, Validation Accuracy: 0.9513, Loss: 0.0278\n",
      "Epoch  20 Batch  300/1077 - Train Accuracy: 0.9737, Validation Accuracy: 0.9553, Loss: 0.0246\n",
      "Epoch  20 Batch  400/1077 - Train Accuracy: 0.9461, Validation Accuracy: 0.9670, Loss: 0.0306\n",
      "Epoch  20 Batch  500/1077 - Train Accuracy: 0.9812, Validation Accuracy: 0.9641, Loss: 0.0238\n",
      "Epoch  20 Batch  600/1077 - Train Accuracy: 0.9710, Validation Accuracy: 0.9503, Loss: 0.0273\n",
      "Epoch  20 Batch  700/1077 - Train Accuracy: 0.9766, Validation Accuracy: 0.9709, Loss: 0.0210\n",
      "Epoch  20 Batch  800/1077 - Train Accuracy: 0.9531, Validation Accuracy: 0.9581, Loss: 0.0258\n",
      "Epoch  20 Batch  900/1077 - Train Accuracy: 0.9770, Validation Accuracy: 0.9652, Loss: 0.0288\n",
      "Epoch  20 Batch 1000/1077 - Train Accuracy: 0.9524, Validation Accuracy: 0.9673, Loss: 0.0273\n",
      "Epoch  21 Batch  100/1077 - Train Accuracy: 0.9426, Validation Accuracy: 0.9577, Loss: 0.0283\n",
      "Epoch  21 Batch  200/1077 - Train Accuracy: 0.9664, Validation Accuracy: 0.9666, Loss: 0.0285\n",
      "Epoch  21 Batch  300/1077 - Train Accuracy: 0.9749, Validation Accuracy: 0.9620, Loss: 0.0172\n",
      "Epoch  21 Batch  400/1077 - Train Accuracy: 0.9488, Validation Accuracy: 0.9670, Loss: 0.0327\n",
      "Epoch  21 Batch  500/1077 - Train Accuracy: 0.9785, Validation Accuracy: 0.9592, Loss: 0.0234\n",
      "Epoch  21 Batch  600/1077 - Train Accuracy: 0.9762, Validation Accuracy: 0.9688, Loss: 0.0260\n",
      "Epoch  21 Batch  700/1077 - Train Accuracy: 0.9781, Validation Accuracy: 0.9673, Loss: 0.0190\n",
      "Epoch  21 Batch  800/1077 - Train Accuracy: 0.9699, Validation Accuracy: 0.9556, Loss: 0.0248\n",
      "Epoch  21 Batch  900/1077 - Train Accuracy: 0.9754, Validation Accuracy: 0.9645, Loss: 0.0278\n",
      "Epoch  21 Batch 1000/1077 - Train Accuracy: 0.9617, Validation Accuracy: 0.9613, Loss: 0.0257\n",
      "Epoch  22 Batch  100/1077 - Train Accuracy: 0.9590, Validation Accuracy: 0.9673, Loss: 0.0308\n",
      "Epoch  22 Batch  200/1077 - Train Accuracy: 0.9656, Validation Accuracy: 0.9627, Loss: 0.0232\n",
      "Epoch  22 Batch  300/1077 - Train Accuracy: 0.9716, Validation Accuracy: 0.9588, Loss: 0.0190\n",
      "Epoch  22 Batch  400/1077 - Train Accuracy: 0.9633, Validation Accuracy: 0.9691, Loss: 0.0262\n",
      "Epoch  22 Batch  500/1077 - Train Accuracy: 0.9730, Validation Accuracy: 0.9719, Loss: 0.0200\n",
      "Epoch  22 Batch  600/1077 - Train Accuracy: 0.9691, Validation Accuracy: 0.9542, Loss: 0.0274\n",
      "Epoch  22 Batch  700/1077 - Train Accuracy: 0.9828, Validation Accuracy: 0.9606, Loss: 0.0216\n",
      "Epoch  22 Batch  800/1077 - Train Accuracy: 0.9602, Validation Accuracy: 0.9673, Loss: 0.0201\n",
      "Epoch  22 Batch  900/1077 - Train Accuracy: 0.9797, Validation Accuracy: 0.9659, Loss: 0.0230\n",
      "Epoch  22 Batch 1000/1077 - Train Accuracy: 0.9565, Validation Accuracy: 0.9670, Loss: 0.0267\n",
      "Epoch  23 Batch  100/1077 - Train Accuracy: 0.9426, Validation Accuracy: 0.9723, Loss: 0.0258\n",
      "Epoch  23 Batch  200/1077 - Train Accuracy: 0.9660, Validation Accuracy: 0.9602, Loss: 0.0263\n",
      "Epoch  23 Batch  300/1077 - Train Accuracy: 0.9782, Validation Accuracy: 0.9705, Loss: 0.0197\n",
      "Epoch  23 Batch  400/1077 - Train Accuracy: 0.9563, Validation Accuracy: 0.9688, Loss: 0.0290\n",
      "Epoch  23 Batch  500/1077 - Train Accuracy: 0.9754, Validation Accuracy: 0.9773, Loss: 0.0231\n",
      "Epoch  23 Batch  600/1077 - Train Accuracy: 0.9773, Validation Accuracy: 0.9652, Loss: 0.0255\n",
      "Epoch  23 Batch  700/1077 - Train Accuracy: 0.9793, Validation Accuracy: 0.9759, Loss: 0.0185\n",
      "Epoch  23 Batch  800/1077 - Train Accuracy: 0.9789, Validation Accuracy: 0.9680, Loss: 0.0225\n",
      "Epoch  23 Batch  900/1077 - Train Accuracy: 0.9758, Validation Accuracy: 0.9705, Loss: 0.0239\n",
      "Epoch  23 Batch 1000/1077 - Train Accuracy: 0.9587, Validation Accuracy: 0.9744, Loss: 0.0300\n",
      "Epoch  24 Batch  100/1077 - Train Accuracy: 0.9660, Validation Accuracy: 0.9695, Loss: 0.0256\n",
      "Epoch  24 Batch  200/1077 - Train Accuracy: 0.9789, Validation Accuracy: 0.9545, Loss: 0.0213\n",
      "Epoch  24 Batch  300/1077 - Train Accuracy: 0.9708, Validation Accuracy: 0.9609, Loss: 0.0171\n",
      "Epoch  24 Batch  400/1077 - Train Accuracy: 0.9496, Validation Accuracy: 0.9723, Loss: 0.0234\n",
      "Epoch  24 Batch  500/1077 - Train Accuracy: 0.9816, Validation Accuracy: 0.9570, Loss: 0.0211\n",
      "Epoch  24 Batch  600/1077 - Train Accuracy: 0.9710, Validation Accuracy: 0.9734, Loss: 0.0259\n",
      "Epoch  24 Batch  700/1077 - Train Accuracy: 0.9801, Validation Accuracy: 0.9663, Loss: 0.0204\n",
      "Epoch  24 Batch  800/1077 - Train Accuracy: 0.9758, Validation Accuracy: 0.9673, Loss: 0.0191\n",
      "Epoch  24 Batch  900/1077 - Train Accuracy: 0.9809, Validation Accuracy: 0.9773, Loss: 0.0250\n",
      "Epoch  24 Batch 1000/1077 - Train Accuracy: 0.9632, Validation Accuracy: 0.9766, Loss: 0.0225\n",
      "Epoch  25 Batch  100/1077 - Train Accuracy: 0.9578, Validation Accuracy: 0.9663, Loss: 0.0226\n",
      "Epoch  25 Batch  200/1077 - Train Accuracy: 0.9652, Validation Accuracy: 0.9641, Loss: 0.0228\n",
      "Epoch  25 Batch  300/1077 - Train Accuracy: 0.9659, Validation Accuracy: 0.9620, Loss: 0.0194\n",
      "Epoch  25 Batch  400/1077 - Train Accuracy: 0.9621, Validation Accuracy: 0.9702, Loss: 0.0244\n",
      "Epoch  25 Batch  500/1077 - Train Accuracy: 0.9680, Validation Accuracy: 0.9712, Loss: 0.0213\n",
      "Epoch  25 Batch  600/1077 - Train Accuracy: 0.9710, Validation Accuracy: 0.9648, Loss: 0.0213\n",
      "Epoch  25 Batch  700/1077 - Train Accuracy: 0.9820, Validation Accuracy: 0.9822, Loss: 0.0159\n",
      "Epoch  25 Batch  800/1077 - Train Accuracy: 0.9762, Validation Accuracy: 0.9719, Loss: 0.0199\n",
      "Epoch  25 Batch  900/1077 - Train Accuracy: 0.9797, Validation Accuracy: 0.9659, Loss: 0.0249\n",
      "Epoch  25 Batch 1000/1077 - Train Accuracy: 0.9598, Validation Accuracy: 0.9666, Loss: 0.0240\n",
      "Epoch  26 Batch  100/1077 - Train Accuracy: 0.9680, Validation Accuracy: 0.9624, Loss: 0.0214\n",
      "Epoch  26 Batch  200/1077 - Train Accuracy: 0.9758, Validation Accuracy: 0.9656, Loss: 0.0204\n",
      "Epoch  26 Batch  300/1077 - Train Accuracy: 0.9790, Validation Accuracy: 0.9677, Loss: 0.0149\n",
      "Epoch  26 Batch  400/1077 - Train Accuracy: 0.9680, Validation Accuracy: 0.9666, Loss: 0.0230\n"
     ]
    },
    {
     "name": "stdout",
     "output_type": "stream",
     "text": [
      "Epoch  26 Batch  500/1077 - Train Accuracy: 0.9766, Validation Accuracy: 0.9712, Loss: 0.0243\n",
      "Epoch  26 Batch  600/1077 - Train Accuracy: 0.9747, Validation Accuracy: 0.9691, Loss: 0.0217\n",
      "Epoch  26 Batch  700/1077 - Train Accuracy: 0.9781, Validation Accuracy: 0.9759, Loss: 0.0136\n",
      "Epoch  26 Batch  800/1077 - Train Accuracy: 0.9742, Validation Accuracy: 0.9677, Loss: 0.0165\n",
      "Epoch  26 Batch  900/1077 - Train Accuracy: 0.9848, Validation Accuracy: 0.9673, Loss: 0.0229\n",
      "Epoch  26 Batch 1000/1077 - Train Accuracy: 0.9635, Validation Accuracy: 0.9663, Loss: 0.0215\n",
      "Epoch  27 Batch  100/1077 - Train Accuracy: 0.9668, Validation Accuracy: 0.9592, Loss: 0.0215\n",
      "Epoch  27 Batch  200/1077 - Train Accuracy: 0.9875, Validation Accuracy: 0.9659, Loss: 0.0184\n",
      "Epoch  27 Batch  300/1077 - Train Accuracy: 0.9794, Validation Accuracy: 0.9705, Loss: 0.0136\n",
      "Epoch  27 Batch  400/1077 - Train Accuracy: 0.9594, Validation Accuracy: 0.9691, Loss: 0.0256\n",
      "Epoch  27 Batch  500/1077 - Train Accuracy: 0.9641, Validation Accuracy: 0.9656, Loss: 0.0214\n",
      "Epoch  27 Batch  600/1077 - Train Accuracy: 0.9747, Validation Accuracy: 0.9695, Loss: 0.0184\n",
      "Epoch  27 Batch  700/1077 - Train Accuracy: 0.9789, Validation Accuracy: 0.9688, Loss: 0.0146\n",
      "Epoch  27 Batch  800/1077 - Train Accuracy: 0.9832, Validation Accuracy: 0.9723, Loss: 0.0197\n",
      "Epoch  27 Batch  900/1077 - Train Accuracy: 0.9754, Validation Accuracy: 0.9709, Loss: 0.0233\n",
      "Epoch  27 Batch 1000/1077 - Train Accuracy: 0.9609, Validation Accuracy: 0.9673, Loss: 0.0210\n",
      "Epoch  28 Batch  100/1077 - Train Accuracy: 0.9676, Validation Accuracy: 0.9677, Loss: 0.0221\n",
      "Epoch  28 Batch  200/1077 - Train Accuracy: 0.9719, Validation Accuracy: 0.9759, Loss: 0.0205\n",
      "Epoch  28 Batch  300/1077 - Train Accuracy: 0.9741, Validation Accuracy: 0.9652, Loss: 0.0166\n",
      "Epoch  28 Batch  400/1077 - Train Accuracy: 0.9637, Validation Accuracy: 0.9719, Loss: 0.0191\n",
      "Epoch  28 Batch  500/1077 - Train Accuracy: 0.9754, Validation Accuracy: 0.9659, Loss: 0.0155\n",
      "Epoch  28 Batch  600/1077 - Train Accuracy: 0.9732, Validation Accuracy: 0.9648, Loss: 0.0204\n",
      "Epoch  28 Batch  700/1077 - Train Accuracy: 0.9863, Validation Accuracy: 0.9776, Loss: 0.0163\n",
      "Epoch  28 Batch  800/1077 - Train Accuracy: 0.9848, Validation Accuracy: 0.9716, Loss: 0.0163\n",
      "Epoch  28 Batch  900/1077 - Train Accuracy: 0.9875, Validation Accuracy: 0.9830, Loss: 0.0211\n",
      "Epoch  28 Batch 1000/1077 - Train Accuracy: 0.9635, Validation Accuracy: 0.9822, Loss: 0.0207\n",
      "Epoch  29 Batch  100/1077 - Train Accuracy: 0.9699, Validation Accuracy: 0.9656, Loss: 0.0181\n",
      "Epoch  29 Batch  200/1077 - Train Accuracy: 0.9836, Validation Accuracy: 0.9680, Loss: 0.0207\n",
      "Epoch  29 Batch  300/1077 - Train Accuracy: 0.9770, Validation Accuracy: 0.9624, Loss: 0.0159\n",
      "Epoch  29 Batch  400/1077 - Train Accuracy: 0.9625, Validation Accuracy: 0.9663, Loss: 0.0196\n",
      "Epoch  29 Batch  500/1077 - Train Accuracy: 0.9812, Validation Accuracy: 0.9727, Loss: 0.0186\n",
      "Epoch  29 Batch  600/1077 - Train Accuracy: 0.9769, Validation Accuracy: 0.9624, Loss: 0.0215\n",
      "Epoch  29 Batch  700/1077 - Train Accuracy: 0.9863, Validation Accuracy: 0.9680, Loss: 0.0143\n",
      "Epoch  29 Batch  800/1077 - Train Accuracy: 0.9805, Validation Accuracy: 0.9723, Loss: 0.0160\n",
      "Epoch  29 Batch  900/1077 - Train Accuracy: 0.9836, Validation Accuracy: 0.9705, Loss: 0.0216\n",
      "Epoch  29 Batch 1000/1077 - Train Accuracy: 0.9702, Validation Accuracy: 0.9812, Loss: 0.0200\n",
      "Model Trained and Saved\n"
     ]
    }
   ],
   "source": [
    "\"\"\"\n",
    "DON'T MODIFY ANYTHING IN THIS CELL\n",
    "\"\"\"\n",
    "def get_accuracy(target, logits):\n",
    "    \"\"\"\n",
    "    Calculate accuracy\n",
    "    \"\"\"\n",
    "    max_seq = max(target.shape[1], logits.shape[1])\n",
    "    if max_seq - target.shape[1]:\n",
    "        target = np.pad(\n",
    "            target,\n",
    "            [(0,0),(0,max_seq - target.shape[1])],\n",
    "            'constant')\n",
    "    if max_seq - logits.shape[1]:\n",
    "        logits = np.pad(\n",
    "            logits,\n",
    "            [(0,0),(0,max_seq - logits.shape[1])],\n",
    "            'constant')\n",
    "\n",
    "    return np.mean(np.equal(target, logits))\n",
    "\n",
    "# Split data to training and validation sets\n",
    "train_source = source_int_text[batch_size:]\n",
    "train_target = target_int_text[batch_size:]\n",
    "valid_source = source_int_text[:batch_size]\n",
    "valid_target = target_int_text[:batch_size]\n",
    "(valid_sources_batch, valid_targets_batch, valid_sources_lengths, valid_targets_lengths ) = next(get_batches(valid_source,\n",
    "                                                                                                             valid_target,\n",
    "                                                                                                             batch_size,\n",
    "                                                                                                             source_vocab_to_int['<PAD>'],\n",
    "                                                                                                             target_vocab_to_int['<PAD>']))                                                                                                  \n",
    "with tf.Session(graph=train_graph) as sess:\n",
    "    sess.run(tf.global_variables_initializer())\n",
    "\n",
    "    for epoch_i in range(epochs):\n",
    "        for batch_i, (source_batch, target_batch, sources_lengths, targets_lengths) in enumerate(\n",
    "                get_batches(train_source, train_target, batch_size,\n",
    "                            source_vocab_to_int['<PAD>'],\n",
    "                            target_vocab_to_int['<PAD>'])):\n",
    "\n",
    "            _, loss = sess.run(\n",
    "                [train_op, cost],\n",
    "                {input_data: source_batch,\n",
    "                 targets: target_batch,\n",
    "                 lr: learning_rate,\n",
    "                 target_sequence_length: targets_lengths,\n",
    "                 source_sequence_length: sources_lengths,\n",
    "                 keep_prob: keep_probability})\n",
    "\n",
    "\n",
    "            if batch_i % display_step == 0 and batch_i > 0:\n",
    "\n",
    "\n",
    "                batch_train_logits = sess.run(\n",
    "                    inference_logits,\n",
    "                    {input_data: source_batch,\n",
    "                     source_sequence_length: sources_lengths,\n",
    "                     target_sequence_length: targets_lengths,\n",
    "                     keep_prob: 1.0})\n",
    "\n",
    "\n",
    "                batch_valid_logits = sess.run(\n",
    "                    inference_logits,\n",
    "                    {input_data: valid_sources_batch,\n",
    "                     source_sequence_length: valid_sources_lengths,\n",
    "                     target_sequence_length: valid_targets_lengths,\n",
    "                     keep_prob: 1.0})\n",
    "\n",
    "                train_acc = get_accuracy(target_batch, batch_train_logits)\n",
    "\n",
    "                valid_acc = get_accuracy(valid_targets_batch, batch_valid_logits)\n",
    "\n",
    "                print('Epoch {:>3} Batch {:>4}/{} - Train Accuracy: {:>6.4f}, Validation Accuracy: {:>6.4f}, Loss: {:>6.4f}'\n",
    "                      .format(epoch_i, batch_i, len(source_int_text) // batch_size, train_acc, valid_acc, loss))\n",
    "\n",
    "    # Save Model\n",
    "    saver = tf.train.Saver()\n",
    "    saver.save(sess, save_path)\n",
    "    print('Model Trained and Saved')"
   ]
  },
  {
   "cell_type": "markdown",
   "metadata": {},
   "source": [
    "### Save Parameters\n",
    "Save the `batch_size` and `save_path` parameters for inference."
   ]
  },
  {
   "cell_type": "code",
   "execution_count": 18,
   "metadata": {
    "collapsed": true
   },
   "outputs": [],
   "source": [
    "\"\"\"\n",
    "DON'T MODIFY ANYTHING IN THIS CELL\n",
    "\"\"\"\n",
    "# Save parameters for checkpoint\n",
    "helper.save_params(save_path)"
   ]
  },
  {
   "cell_type": "markdown",
   "metadata": {},
   "source": [
    "# Checkpoint"
   ]
  },
  {
   "cell_type": "code",
   "execution_count": 19,
   "metadata": {
    "collapsed": true
   },
   "outputs": [],
   "source": [
    "\"\"\"\n",
    "DON'T MODIFY ANYTHING IN THIS CELL\n",
    "\"\"\"\n",
    "import tensorflow as tf\n",
    "import numpy as np\n",
    "import helper\n",
    "import problem_unittests as tests\n",
    "\n",
    "_, (source_vocab_to_int, target_vocab_to_int), (source_int_to_vocab, target_int_to_vocab) = helper.load_preprocess()\n",
    "load_path = helper.load_params()"
   ]
  },
  {
   "cell_type": "markdown",
   "metadata": {},
   "source": [
    "## Sentence to Sequence\n",
    "To feed a sentence into the model for translation, you first need to preprocess it.  Implement the function `sentence_to_seq()` to preprocess new sentences.\n",
    "\n",
    "- Convert the sentence to lowercase\n",
    "- Convert words into ids using `vocab_to_int`\n",
    " - Convert words not in the vocabulary, to the `<UNK>` word id."
   ]
  },
  {
   "cell_type": "code",
   "execution_count": 20,
   "metadata": {},
   "outputs": [
    {
     "name": "stdout",
     "output_type": "stream",
     "text": [
      "Tests Passed\n"
     ]
    }
   ],
   "source": [
    "def sentence_to_seq(sentence, vocab_to_int):\n",
    "    \"\"\"\n",
    "    Convert a sentence to a sequence of ids\n",
    "    :param sentence: String\n",
    "    :param vocab_to_int: Dictionary to go from the words to an id\n",
    "    :return: List of word ids\n",
    "    \"\"\"\n",
    "    word_list = sentence.lower().split(' ')\n",
    "    \n",
    "    return [vocab_to_int[x] if x in vocab_to_int.keys() else vocab_to_int['<UNK>'] for x in word_list]\n",
    "\n",
    "\n",
    "\"\"\"\n",
    "DON'T MODIFY ANYTHING IN THIS CELL THAT IS BELOW THIS LINE\n",
    "\"\"\"\n",
    "tests.test_sentence_to_seq(sentence_to_seq)"
   ]
  },
  {
   "cell_type": "markdown",
   "metadata": {},
   "source": [
    "## Translate\n",
    "This will translate `translate_sentence` from English to French."
   ]
  },
  {
   "cell_type": "code",
   "execution_count": 21,
   "metadata": {},
   "outputs": [
    {
     "name": "stdout",
     "output_type": "stream",
     "text": [
      "INFO:tensorflow:Restoring parameters from checkpoints/dev\n",
      "Input\n",
      "  Word Ids:      [100, 88, 199, 96, 90, 145, 196]\n",
      "  English Words: ['he', 'saw', 'a', 'old', 'yellow', 'truck', '.']\n",
      "\n",
      "Prediction\n",
      "  Word Ids:      [295, 151, 274, 218, 274, 134, 75, 1]\n",
      "  French Words: juin n'aiment le nouvelle le septembre . <EOS>\n"
     ]
    }
   ],
   "source": [
    "translate_sentence = 'he saw a old yellow truck .'\n",
    "\n",
    "\n",
    "\"\"\"\n",
    "DON'T MODIFY ANYTHING IN THIS CELL\n",
    "\"\"\"\n",
    "translate_sentence = sentence_to_seq(translate_sentence, source_vocab_to_int)\n",
    "\n",
    "loaded_graph = tf.Graph()\n",
    "with tf.Session(graph=loaded_graph) as sess:\n",
    "    # Load saved model\n",
    "    loader = tf.train.import_meta_graph(load_path + '.meta')\n",
    "    loader.restore(sess, load_path)\n",
    "\n",
    "    input_data = loaded_graph.get_tensor_by_name('input:0')\n",
    "    logits = loaded_graph.get_tensor_by_name('predictions:0')\n",
    "    target_sequence_length = loaded_graph.get_tensor_by_name('target_sequence_length:0')\n",
    "    source_sequence_length = loaded_graph.get_tensor_by_name('source_sequence_length:0')\n",
    "    keep_prob = loaded_graph.get_tensor_by_name('keep_prob:0')\n",
    "\n",
    "    translate_logits = sess.run(logits, {input_data: [translate_sentence]*batch_size,\n",
    "                                         target_sequence_length: [len(translate_sentence)*2]*batch_size,\n",
    "                                         source_sequence_length: [len(translate_sentence)]*batch_size,\n",
    "                                         keep_prob: 1.0})[0]\n",
    "\n",
    "print('Input')\n",
    "print('  Word Ids:      {}'.format([i for i in translate_sentence]))\n",
    "print('  English Words: {}'.format([source_int_to_vocab[i] for i in translate_sentence]))\n",
    "\n",
    "print('\\nPrediction')\n",
    "print('  Word Ids:      {}'.format([i for i in translate_logits]))\n",
    "print('  French Words: {}'.format(\" \".join([target_int_to_vocab[i] for i in translate_logits])))\n"
   ]
  },
  {
   "cell_type": "markdown",
   "metadata": {},
   "source": [
    "## Imperfect Translation\n",
    "You might notice that some sentences translate better than others.  Since the dataset you're using only has a vocabulary of 227 English words of the thousands that you use, you're only going to see good results using these words.  For this project, you don't need a perfect translation. However, if you want to create a better translation model, you'll need better data.\n",
    "\n",
    "You can train on the [WMT10 French-English corpus](http://www.statmt.org/wmt10/training-giga-fren.tar).  This dataset has more vocabulary and richer in topics discussed.  However, this will take you days to train, so make sure you've a GPU and the neural network is performing well on dataset we provided.  Just make sure you play with the WMT10 corpus after you've submitted this project.\n",
    "## Submitting This Project\n",
    "When submitting this project, make sure to run all the cells before saving the notebook. Save the notebook file as \"dlnd_language_translation.ipynb\" and save it as a HTML file under \"File\" -> \"Download as\". Include the \"helper.py\" and \"problem_unittests.py\" files in your submission."
   ]
  }
 ],
 "metadata": {
  "anaconda-cloud": {},
  "kernelspec": {
   "display_name": "Python [default]",
   "language": "python",
   "name": "python3"
  },
  "language_info": {
   "codemirror_mode": {
    "name": "ipython",
    "version": 3
   },
   "file_extension": ".py",
   "mimetype": "text/x-python",
   "name": "python",
   "nbconvert_exporter": "python",
   "pygments_lexer": "ipython3",
   "version": "3.6.2"
  }
 },
 "nbformat": 4,
 "nbformat_minor": 1
}
